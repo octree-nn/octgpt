{
 "cells": [
  {
   "cell_type": "code",
   "execution_count": 2,
   "metadata": {},
   "outputs": [
    {
     "name": "stderr",
     "output_type": "stream",
     "text": [
      "2025-01-18 02:34:54.801528: I tensorflow/core/util/port.cc:110] oneDNN custom operations are on. You may see slightly different numerical results due to floating-point round-off errors from different computation orders. To turn them off, set the environment variable `TF_ENABLE_ONEDNN_OPTS=0`.\n",
      "2025-01-18 02:34:54.803844: I tensorflow/tsl/cuda/cudart_stub.cc:28] Could not find cuda drivers on your machine, GPU will not be used.\n",
      "2025-01-18 02:34:54.852177: I tensorflow/core/platform/cpu_feature_guard.cc:182] This TensorFlow binary is optimized to use available CPU instructions in performance-critical operations.\n",
      "To enable the following instructions: AVX2 AVX512F AVX512_VNNI FMA, in other operations, rebuild TensorFlow with the appropriate compiler flags.\n",
      "2025-01-18 02:34:55.562005: W tensorflow/compiler/tf2tensorrt/utils/py_utils.cc:38] TF-TRT Warning: Could not find TensorRT\n"
     ]
    }
   ],
   "source": [
    "import torch\n",
    "import yaml\n",
    "from utils.builder import build_vae_model\n",
    "from models.condition import ImageEncoder\n",
    "from models.mar import MAREncoderDecoder\n",
    "from thsolver.config import parse_args\n",
    "import sys \n",
    "import matplotlib.pyplot as plt\n",
    "import ocnn\n",
    "from PIL import Image\n",
    "import os\n",
    "import copy\n",
    "from ognn.octreed import OctreeD\n",
    "from utils import utils\n",
    "torch.cuda.set_device(0)"
   ]
  },
  {
   "cell_type": "code",
   "execution_count": 3,
   "metadata": {},
   "outputs": [
    {
     "data": {
      "text/plain": [
       "CfgNode({'BASE': ['configs/shapenet_octar.yaml'], 'SOLVER': CfgNode({'alias': '', 'gpu': (0, 1, 2, 3), 'run': 'generate', 'logdir': 'logs/image/car_p1024_d8', 'ckpt': '', 'ckpt_num': 10, 'type': 'adamw', 'weight_decay': 0.01, 'clip_grad': -1.0, 'max_epoch': 400, 'warmup_epoch': 20, 'warmup_init': 0.001, 'eval_epoch': 1, 'eval_step': -1, 'test_every_epoch': 1, 'log_per_iter': 50, 'best_val': 'min:loss', 'zero_grad_to_none': False, 'use_amp': True, 'lr_type': 'constant', 'lr': 5e-05, 'lr_min': 0.0001, 'gamma': 0.1, 'milestones': (120, 180), 'lr_power': 0.9, 'port': 10001, 'progress_bar': True, 'rand_seed': 0, 'empty_cache': 50, 'expand_ckpt': False, 'step_size': (160, 240), 'resolution': 256, 'save_sdf': False, 'sdf_scale': 0.9}), 'DATA': CfgNode({'train': CfgNode({'name': 'shapenet', 'disable': False, 'pin_memory': True, 'depth': 8, 'full_depth': 3, 'orient_normal': '', 'distort': False, 'scale': 0.0, 'uniform': False, 'jitter': 0.0, 'interval': (1, 1, 1), 'angle': (180, 180, 180), 'flip': (0.0, 0.0, 0.0), 'location': 'data/ShapeNet/dataset_new', 'filelist': 'data/ShapeNet/filelist/train_car.txt', 'batch_size': 1, 'take': -1, 'num_workers': 4, 'shuffle': True, 'points_scale': 0.5, 'volume_sample_num': 10000, 'surface_sample_num': 10000, 'max_points': 120000, 'tsdf': 0.05, 'load_pointcloud': True, 'load_sdf': False, 'image_location': 'data/ShapeNet/sketch_256', 'load_image': False, 'load_sketch': True}), 'test': CfgNode({'name': 'shapenet', 'disable': False, 'pin_memory': True, 'depth': 8, 'full_depth': 3, 'orient_normal': '', 'distort': False, 'scale': 0.0, 'uniform': False, 'jitter': 0.0, 'interval': (1, 1, 1), 'angle': (180, 180, 180), 'flip': (0.0, 0.0, 0.0), 'location': 'data/ShapeNet/dataset_new', 'filelist': 'data/ShapeNet/filelist/train_car.txt', 'batch_size': 1, 'take': -1, 'num_workers': 2, 'shuffle': False, 'points_scale': 0.5, 'volume_sample_num': 10000, 'surface_sample_num': 10000, 'max_points': 120000, 'tsdf': 0.05, 'load_pointcloud': True, 'load_sdf': False, 'image_location': 'data/ShapeNet/sketch_256', 'load_image': False, 'load_sketch': True})}), 'MODEL': CfgNode({'name': '', 'feature': 'ND', 'channel': 3, 'nempty': False, 'sync_bn': False, 'use_checkpoint': False, 'find_unused_parameters': True, 'depth': 8, 'full_depth': 3, 'depth_stop': 6, 'vqvae_ckpt': 'saved_ckpt/vqvae_huge_im5_bsq32_200epoch.pth', 'model_name': 'MAREncoderDecoder', 'VQVAE': CfgNode({'name': 'vqvae_huge', 'in_channels': 4, 'embedding_sizes': 128, 'embedding_channels': 32, 'quantizer_type': 'bsq', 'quantizer_group': 4, 'feature': 'ND'}), 'GPT': CfgNode({'num_embed': 768, 'num_heads': 8, 'num_blocks': 16, 'num_classes': 1, 'split_size': 2, 'vq_size': 128, 'patch_size': 1024, 'dilation': 8, 'buffer_size': 257, 'drop_rate': 0.1, 'pos_emb_type': 'AbsPosEmb', 'norm_type': 'RMSNorm', 'use_checkpoint': True, 'use_swin': True, 'use_rope': True, 'random_flip': 0.1, 'mask_ratio_min': 0.5, 'remask_stage': 0.7, 'start_temperature': [1.0, 1.2, 0.5, 0.5], 'num_iters': [64, 128, 128, 256], 'condition_type': 'image', 'condition_encoder': 'dinov2', 'condition_policy': 'cross_attn', 'context_dim': 1024, 'cfg_prob': 0.0, 'cfg_scale': 1.0})}), 'LOSS': CfgNode({'name': ''}), 'SYS': CfgNode({'cmds': 'python  --config /mnt/sdc/wangrh/workspace/OctAR-solver/logs/image/car_p1024_d8/all_configs.yaml'})})"
      ]
     },
     "execution_count": 3,
     "metadata": {},
     "output_type": "execute_result"
    }
   ],
   "source": [
    "# log_path = '/mnt/sdc/wangrh/workspace/OctAR-solver/logs/sketch/airplane_p1024_d8'\n",
    "log_path = '/mnt/sdc/wangrh/workspace/OctAR-solver/logs/image/car_p1024_d8'\n",
    "\n",
    "sys.argv = ['']  # Reset sys.argv\n",
    "sys.argv.extend(['--config', log_path + '/all_configs.yaml'])\n",
    "flags = parse_args(backup=False)\n",
    "flags"
   ]
  },
  {
   "cell_type": "code",
   "execution_count": 4,
   "metadata": {},
   "outputs": [
    {
     "name": "stderr",
     "output_type": "stream",
     "text": [
      "Using a slow image processor as `use_fast` is unset and a slow processor was saved with this model. `use_fast=True` will be the default behavior in v4.48, even if the model was saved with a slow processor. This will result in minor differences in outputs. You'll still be able to use a slow processor with `use_fast=False`.\n"
     ]
    }
   ],
   "source": [
    "device = 'cuda'\n",
    "\n",
    "model = MAREncoderDecoder(vqvae_config=flags.MODEL.VQVAE, **flags.MODEL.GPT)\n",
    "vqvae = build_vae_model(flags.MODEL.VQVAE)\n",
    "sketch_encoder = ImageEncoder(flags.MODEL.GPT.condition_encoder)"
   ]
  },
  {
   "cell_type": "code",
   "execution_count": 5,
   "metadata": {},
   "outputs": [
    {
     "name": "stdout",
     "output_type": "stream",
     "text": [
      "Load VQVAE from saved_ckpt/vqvae_huge_im5_bsq32_200epoch.pth\n"
     ]
    }
   ],
   "source": [
    "vqvae_checkpoint = torch.load(flags.MODEL.vqvae_ckpt, weights_only=True, map_location=\"cpu\")\n",
    "vqvae.load_state_dict(vqvae_checkpoint)\n",
    "print(\"Load VQVAE from\", flags.MODEL.vqvae_ckpt)"
   ]
  },
  {
   "cell_type": "code",
   "execution_count": 6,
   "metadata": {},
   "outputs": [
    {
     "name": "stdout",
     "output_type": "stream",
     "text": [
      "Load MAR from /mnt/sdc/wangrh/workspace/OctAR-solver/logs/image/car_p1024_d8/checkpoints/00118.model.pth\n"
     ]
    }
   ],
   "source": [
    "ar_checkpoint = log_path + '/checkpoints/00118.model.pth'\n",
    "model_checkpoint = torch.load(ar_checkpoint, map_location=\"cpu\")\n",
    "model.load_state_dict(model_checkpoint)\n",
    "print(\"Load MAR from\", ar_checkpoint)"
   ]
  },
  {
   "cell_type": "code",
   "execution_count": 7,
   "metadata": {},
   "outputs": [],
   "source": [
    "model = model.to(device)\n",
    "vqvae = vqvae.to(device)\n",
    "sketch_encoder = sketch_encoder.to(device)"
   ]
  },
  {
   "cell_type": "code",
   "execution_count": 8,
   "metadata": {},
   "outputs": [],
   "source": [
    "depth = flags.DATA.test.depth\n",
    "full_depth = flags.DATA.test.full_depth\n",
    "depth_stop = flags.MODEL.depth_stop"
   ]
  },
  {
   "cell_type": "code",
   "execution_count": 9,
   "metadata": {},
   "outputs": [],
   "source": [
    "def generate_by_sketch(sketch_path, sketchname='default'):\n",
    "    sketch = Image.open(sketch_path)\n",
    "\n",
    "    with torch.no_grad():\n",
    "        condition = sketch_encoder(sketch, device=device)\n",
    "        octree_out = ocnn.octree.init_octree(\n",
    "            depth=depth,\n",
    "            full_depth=full_depth,\n",
    "            batch_size=1,\n",
    "            device=device,\n",
    "        )\n",
    "        with torch.autocast('cuda', enabled=flags.SOLVER.use_amp):\n",
    "            octree_out, vq_code = model.generate(\n",
    "                octree=octree_out,\n",
    "                depth_low=full_depth,\n",
    "                depth_high=depth_stop,\n",
    "                vqvae=vqvae,\n",
    "                condition=condition,\n",
    "                cfg_scale=None\n",
    "            )\n",
    "\n",
    "    export_path = f'results-inference/{sketchname}'\n",
    "\n",
    "    index = 'output'\n",
    "\n",
    "    # Export octrees\n",
    "    for d in range(full_depth+1, depth_stop+1):\n",
    "        utils.export_octree(octree_out, d, os.path.join(\n",
    "            log_path ,export_path), index=f'octree_{d}')\n",
    "\n",
    "    # Decode the mesh\n",
    "    for d in range(depth_stop, depth):\n",
    "        split_zero_d = torch.zeros(\n",
    "            octree_out.nnum[d], device=octree_out.device).long()\n",
    "        octree_out.octree_split(split_zero_d, d)\n",
    "        octree_out.octree_grow(d + 1)\n",
    "    doctree_out = OctreeD(octree_out)\n",
    "    with torch.no_grad():\n",
    "        output = vqvae.decode_code(\n",
    "            vq_code, depth_stop, doctree_out,\n",
    "            copy.deepcopy(doctree_out), update_octree=True)\n",
    "\n",
    "    # extract the mesh\n",
    "    utils.create_mesh(\n",
    "        output['neural_mpu'],\n",
    "        os.path.join(log_path, export_path, f\"output.obj\"),\n",
    "        size=flags.SOLVER.resolution,\n",
    "        level=0.002, clean=True,\n",
    "        bbmin=-flags.SOLVER.sdf_scale,\n",
    "        bbmax=flags.SOLVER.sdf_scale,\n",
    "        mesh_scale=flags.DATA.test.points_scale,\n",
    "        save_sdf=flags.SOLVER.save_sdf)\n",
    "\n",
    "    # Save the sketch image\n",
    "    sketch.save(os.path.join(log_path, export_path, f\"input.png\"))"
   ]
  },
  {
   "cell_type": "code",
   "execution_count": 12,
   "metadata": {},
   "outputs": [
    {
     "data": {
      "text/plain": [
       "['/mnt/sdc/weist/data/ShapeNet/fid_images/car/view_0/71a1122469df0bb8cc8ad0deed05da5c_0.png',\n",
       " '/mnt/sdc/weist/data/ShapeNet/fid_images/car/view_0/555a48617127033c25ad20bb66839d61_0.png',\n",
       " '/mnt/sdc/weist/data/ShapeNet/fid_images/car/view_0/6b7f573997bc6f8c953536e7c905b301_0.png',\n",
       " '/mnt/sdc/weist/data/ShapeNet/fid_images/car/view_0/42b0bc0fd8e292afbbecf72e56fe7e5d_0.png',\n",
       " '/mnt/sdc/weist/data/ShapeNet/fid_images/car/view_0/a07227a41b866d26473f10e6caaeca56_0.png']"
      ]
     },
     "execution_count": 12,
     "metadata": {},
     "output_type": "execute_result"
    }
   ],
   "source": [
    "# sketch_paths = [f'/mnt/sdc/wangrh/workspace/OctAR-solver/logs/sketch/airplane_p1024_d8/results/images/{i}.png' for i in range(1, 50)]\n",
    "sketch_path = '/mnt/sdc/weist/data/ShapeNet/fid_images/car/view_0'\n",
    "sketch_paths = os.listdir(sketch_path)\n",
    "sketch_paths = [os.path.join(sketch_path, i) for i in sketch_paths]\n",
    "import random\n",
    "random.shuffle(sketch_paths)\n",
    "sketch_paths[:5]"
   ]
  },
  {
   "cell_type": "code",
   "execution_count": null,
   "metadata": {},
   "outputs": [
    {
     "name": "stdout",
     "output_type": "stream",
     "text": [
      "Generating 1/5247\n"
     ]
    },
    {
     "name": "stderr",
     "output_type": "stream",
     "text": [
      "  0%|          | 0/64 [00:00<?, ?it/s]/home/wangrh/anaconda3/envs/torch2.3/lib/python3.9/site-packages/torch/functional.py:512: UserWarning: torch.meshgrid: in an upcoming release, it will be required to pass the indexing argument. (Triggered internally at ../aten/src/ATen/native/TensorShape.cpp:3587.)\n",
      "  return _VF.meshgrid(tensors, **kwargs)  # type: ignore[attr-defined]\n",
      "100%|██████████| 64/64 [00:13<00:00,  4.67it/s]\n",
      "100%|██████████| 128/128 [00:19<00:00,  6.65it/s]\n",
      "100%|██████████| 128/128 [00:11<00:00, 11.29it/s]\n",
      "100%|██████████| 256/256 [01:04<00:00,  3.94it/s]\n",
      "100%|██████████| 1/1 [00:00<00:00, 68.01it/s]\n",
      "100%|██████████| 1/1 [00:00<00:00, 20.12it/s]\n",
      "100%|██████████| 1/1 [00:00<00:00,  3.99it/s]\n"
     ]
    },
    {
     "name": "stdout",
     "output_type": "stream",
     "text": [
      "Done\n",
      "Generating 2/5247\n"
     ]
    },
    {
     "name": "stderr",
     "output_type": "stream",
     "text": [
      "100%|██████████| 64/64 [00:04<00:00, 15.48it/s]\n",
      "100%|██████████| 128/128 [00:08<00:00, 15.11it/s]\n",
      "100%|██████████| 128/128 [00:09<00:00, 13.73it/s]\n",
      "100%|██████████| 256/256 [00:41<00:00,  6.24it/s]\n",
      "100%|██████████| 1/1 [00:00<00:00, 101.50it/s]\n",
      "100%|██████████| 1/1 [00:00<00:00, 29.78it/s]\n",
      "100%|██████████| 1/1 [00:00<00:00,  6.51it/s]\n"
     ]
    },
    {
     "name": "stdout",
     "output_type": "stream",
     "text": [
      "Done\n",
      "Generating 3/5247\n"
     ]
    },
    {
     "name": "stderr",
     "output_type": "stream",
     "text": [
      "100%|██████████| 64/64 [00:04<00:00, 15.45it/s]\n",
      "100%|██████████| 128/128 [00:08<00:00, 14.94it/s]\n",
      "100%|██████████| 128/128 [00:09<00:00, 13.42it/s]\n",
      "100%|██████████| 256/256 [00:40<00:00,  6.29it/s]\n",
      "100%|██████████| 1/1 [00:00<00:00, 80.69it/s]\n",
      "100%|██████████| 1/1 [00:00<00:00, 26.19it/s]\n",
      "100%|██████████| 1/1 [00:00<00:00,  6.18it/s]\n"
     ]
    },
    {
     "name": "stdout",
     "output_type": "stream",
     "text": [
      "Done\n",
      "Generating 4/5247\n"
     ]
    },
    {
     "name": "stderr",
     "output_type": "stream",
     "text": [
      "100%|██████████| 64/64 [00:04<00:00, 15.47it/s]\n",
      "100%|██████████| 128/128 [00:08<00:00, 14.89it/s]\n",
      "100%|██████████| 128/128 [00:09<00:00, 13.40it/s]\n",
      "100%|██████████| 256/256 [00:38<00:00,  6.61it/s]\n",
      "100%|██████████| 1/1 [00:00<00:00, 81.70it/s]\n",
      "100%|██████████| 1/1 [00:00<00:00, 26.90it/s]\n",
      "100%|██████████| 1/1 [00:00<00:00,  7.17it/s]\n"
     ]
    },
    {
     "name": "stdout",
     "output_type": "stream",
     "text": [
      "Done\n",
      "Generating 5/5247\n"
     ]
    },
    {
     "name": "stderr",
     "output_type": "stream",
     "text": [
      "100%|██████████| 64/64 [00:04<00:00, 15.42it/s]\n",
      "100%|██████████| 128/128 [00:08<00:00, 14.88it/s]\n",
      "100%|██████████| 128/128 [00:09<00:00, 13.27it/s]\n",
      "100%|██████████| 256/256 [00:39<00:00,  6.47it/s]\n",
      "100%|██████████| 1/1 [00:00<00:00, 95.88it/s]\n",
      "100%|██████████| 1/1 [00:00<00:00, 29.86it/s]\n",
      "100%|██████████| 1/1 [00:00<00:00,  6.60it/s]\n"
     ]
    },
    {
     "name": "stdout",
     "output_type": "stream",
     "text": [
      "Done\n",
      "Generating 6/5247\n"
     ]
    },
    {
     "name": "stderr",
     "output_type": "stream",
     "text": [
      "100%|██████████| 64/64 [00:04<00:00, 14.96it/s]\n",
      "100%|██████████| 128/128 [00:08<00:00, 14.41it/s]\n",
      "100%|██████████| 128/128 [00:09<00:00, 12.94it/s]\n",
      "100%|██████████| 256/256 [00:45<00:00,  5.61it/s]\n",
      "100%|██████████| 1/1 [00:00<00:00, 78.03it/s]\n",
      "100%|██████████| 1/1 [00:00<00:00, 30.10it/s]\n",
      "100%|██████████| 1/1 [00:00<00:00,  6.81it/s]\n"
     ]
    },
    {
     "name": "stdout",
     "output_type": "stream",
     "text": [
      "Done\n",
      "Generating 7/5247\n"
     ]
    },
    {
     "name": "stderr",
     "output_type": "stream",
     "text": [
      "100%|██████████| 64/64 [00:04<00:00, 15.42it/s]\n",
      "100%|██████████| 128/128 [00:08<00:00, 14.92it/s]\n",
      "100%|██████████| 128/128 [00:10<00:00, 12.54it/s]\n",
      "100%|██████████| 256/256 [00:53<00:00,  4.76it/s]\n",
      "100%|██████████| 1/1 [00:00<00:00, 52.82it/s]\n",
      "100%|██████████| 1/1 [00:00<00:00, 28.31it/s]\n",
      "100%|██████████| 1/1 [00:00<00:00,  7.38it/s]\n"
     ]
    },
    {
     "name": "stdout",
     "output_type": "stream",
     "text": [
      "Done\n",
      "Generating 8/5247\n"
     ]
    },
    {
     "name": "stderr",
     "output_type": "stream",
     "text": [
      "100%|██████████| 64/64 [00:04<00:00, 15.46it/s]\n",
      "100%|██████████| 128/128 [00:08<00:00, 15.17it/s]\n",
      "100%|██████████| 128/128 [00:10<00:00, 12.65it/s]\n",
      "100%|██████████| 256/256 [00:54<00:00,  4.74it/s]\n",
      "100%|██████████| 1/1 [00:00<00:00, 53.52it/s]\n",
      "100%|██████████| 1/1 [00:00<00:00, 29.76it/s]\n",
      "100%|██████████| 1/1 [00:00<00:00,  6.70it/s]\n"
     ]
    },
    {
     "name": "stdout",
     "output_type": "stream",
     "text": [
      "Done\n",
      "Generating 9/5247\n"
     ]
    },
    {
     "name": "stderr",
     "output_type": "stream",
     "text": [
      "100%|██████████| 64/64 [00:04<00:00, 15.46it/s]\n",
      "100%|██████████| 128/128 [00:08<00:00, 15.03it/s]\n",
      "100%|██████████| 128/128 [00:09<00:00, 12.98it/s]\n",
      "100%|██████████| 256/256 [00:52<00:00,  4.86it/s]\n",
      "100%|██████████| 1/1 [00:00<00:00, 85.52it/s]\n",
      "100%|██████████| 1/1 [00:00<00:00, 32.55it/s]\n",
      "100%|██████████| 1/1 [00:00<00:00,  6.68it/s]\n"
     ]
    },
    {
     "name": "stdout",
     "output_type": "stream",
     "text": [
      "Done\n",
      "Generating 10/5247\n"
     ]
    },
    {
     "name": "stderr",
     "output_type": "stream",
     "text": [
      "100%|██████████| 64/64 [00:04<00:00, 15.40it/s]\n",
      "100%|██████████| 128/128 [00:08<00:00, 14.85it/s]\n",
      "100%|██████████| 128/128 [00:09<00:00, 13.89it/s]\n",
      "100%|██████████| 256/256 [00:34<00:00,  7.38it/s]\n",
      "100%|██████████| 1/1 [00:00<00:00, 95.20it/s]\n",
      "100%|██████████| 1/1 [00:00<00:00, 34.79it/s]\n",
      "100%|██████████| 1/1 [00:00<00:00,  8.79it/s]\n"
     ]
    },
    {
     "name": "stdout",
     "output_type": "stream",
     "text": [
      "Done\n",
      "Generating 11/5247\n"
     ]
    },
    {
     "name": "stderr",
     "output_type": "stream",
     "text": [
      "100%|██████████| 64/64 [00:04<00:00, 15.43it/s]\n",
      "100%|██████████| 128/128 [00:08<00:00, 15.08it/s]\n",
      "100%|██████████| 128/128 [00:09<00:00, 13.45it/s]\n",
      "100%|██████████| 256/256 [00:49<00:00,  5.21it/s]\n",
      "100%|██████████| 1/1 [00:00<00:00, 97.75it/s]\n",
      "100%|██████████| 1/1 [00:00<00:00, 29.04it/s]\n",
      "100%|██████████| 1/1 [00:00<00:00,  6.84it/s]\n"
     ]
    },
    {
     "name": "stdout",
     "output_type": "stream",
     "text": [
      "Done\n",
      "Generating 12/5247\n"
     ]
    },
    {
     "name": "stderr",
     "output_type": "stream",
     "text": [
      "100%|██████████| 64/64 [00:04<00:00, 15.28it/s]\n",
      "100%|██████████| 128/128 [00:08<00:00, 14.85it/s]\n",
      "100%|██████████| 128/128 [00:09<00:00, 12.93it/s]\n",
      "100%|██████████| 256/256 [00:45<00:00,  5.67it/s]\n",
      "100%|██████████| 1/1 [00:00<00:00, 92.25it/s]\n",
      "100%|██████████| 1/1 [00:00<00:00, 33.36it/s]\n",
      "100%|██████████| 1/1 [00:00<00:00,  7.52it/s]\n"
     ]
    },
    {
     "name": "stdout",
     "output_type": "stream",
     "text": [
      "Done\n",
      "Generating 13/5247\n"
     ]
    },
    {
     "name": "stderr",
     "output_type": "stream",
     "text": [
      "100%|██████████| 64/64 [00:04<00:00, 14.79it/s]\n",
      "100%|██████████| 128/128 [00:08<00:00, 14.26it/s]\n",
      "100%|██████████| 128/128 [00:10<00:00, 12.55it/s]\n",
      "100%|██████████| 256/256 [00:45<00:00,  5.58it/s]\n",
      "100%|██████████| 1/1 [00:00<00:00, 66.25it/s]\n",
      "100%|██████████| 1/1 [00:00<00:00, 24.81it/s]\n",
      "100%|██████████| 1/1 [00:00<00:00,  5.56it/s]\n"
     ]
    },
    {
     "name": "stdout",
     "output_type": "stream",
     "text": [
      "Done\n",
      "Generating 14/5247\n"
     ]
    },
    {
     "name": "stderr",
     "output_type": "stream",
     "text": [
      "100%|██████████| 64/64 [00:04<00:00, 15.49it/s]\n",
      "100%|██████████| 128/128 [00:08<00:00, 14.83it/s]\n",
      "100%|██████████| 128/128 [00:09<00:00, 13.36it/s]\n",
      "100%|██████████| 256/256 [00:40<00:00,  6.31it/s]\n",
      "100%|██████████| 1/1 [00:00<00:00, 78.46it/s]\n",
      "100%|██████████| 1/1 [00:00<00:00, 25.59it/s]\n",
      "100%|██████████| 1/1 [00:00<00:00,  6.47it/s]\n"
     ]
    },
    {
     "name": "stdout",
     "output_type": "stream",
     "text": [
      "Done\n",
      "Generating 15/5247\n"
     ]
    },
    {
     "name": "stderr",
     "output_type": "stream",
     "text": [
      "100%|██████████| 64/64 [00:04<00:00, 15.46it/s]\n",
      "100%|██████████| 128/128 [00:08<00:00, 14.89it/s]\n",
      "100%|██████████| 128/128 [00:10<00:00, 12.80it/s]\n",
      "100%|██████████| 256/256 [00:49<00:00,  5.12it/s]\n",
      "100%|██████████| 1/1 [00:00<00:00, 74.43it/s]\n",
      "100%|██████████| 1/1 [00:00<00:00, 24.19it/s]\n",
      "100%|██████████| 1/1 [00:00<00:00,  5.93it/s]\n"
     ]
    },
    {
     "name": "stdout",
     "output_type": "stream",
     "text": [
      "Done\n",
      "Generating 16/5247\n"
     ]
    },
    {
     "name": "stderr",
     "output_type": "stream",
     "text": [
      "100%|██████████| 64/64 [00:04<00:00, 15.48it/s]\n",
      "100%|██████████| 128/128 [00:08<00:00, 14.98it/s]\n",
      "100%|██████████| 128/128 [00:08<00:00, 14.42it/s]\n",
      "100%|██████████| 256/256 [00:25<00:00, 10.06it/s]\n",
      "100%|██████████| 1/1 [00:00<00:00, 55.30it/s]\n",
      "100%|██████████| 1/1 [00:00<00:00, 42.33it/s]\n",
      "100%|██████████| 1/1 [00:00<00:00, 11.00it/s]\n"
     ]
    },
    {
     "name": "stdout",
     "output_type": "stream",
     "text": [
      "Done\n",
      "Generating 17/5247\n"
     ]
    },
    {
     "name": "stderr",
     "output_type": "stream",
     "text": [
      "100%|██████████| 64/64 [00:04<00:00, 15.44it/s]\n",
      "100%|██████████| 128/128 [00:08<00:00, 14.91it/s]\n",
      "100%|██████████| 128/128 [00:09<00:00, 13.80it/s]\n",
      "100%|██████████| 256/256 [00:35<00:00,  7.27it/s]\n",
      "100%|██████████| 1/1 [00:00<00:00, 83.20it/s]\n",
      "100%|██████████| 1/1 [00:00<00:00, 27.57it/s]\n",
      "100%|██████████| 1/1 [00:00<00:00,  8.01it/s]\n"
     ]
    },
    {
     "name": "stdout",
     "output_type": "stream",
     "text": [
      "Done\n",
      "Generating 18/5247\n"
     ]
    },
    {
     "name": "stderr",
     "output_type": "stream",
     "text": [
      "100%|██████████| 64/64 [00:04<00:00, 15.47it/s]\n",
      "100%|██████████| 128/128 [00:08<00:00, 14.86it/s]\n",
      "100%|██████████| 128/128 [00:09<00:00, 13.53it/s]\n",
      "100%|██████████| 256/256 [00:41<00:00,  6.22it/s]\n",
      "100%|██████████| 1/1 [00:00<00:00, 65.66it/s]\n",
      "100%|██████████| 1/1 [00:00<00:00, 29.52it/s]\n",
      "100%|██████████| 1/1 [00:00<00:00,  6.21it/s]\n"
     ]
    },
    {
     "name": "stdout",
     "output_type": "stream",
     "text": [
      "Done\n",
      "Generating 19/5247\n"
     ]
    },
    {
     "name": "stderr",
     "output_type": "stream",
     "text": [
      "100%|██████████| 64/64 [00:04<00:00, 15.27it/s]\n",
      "100%|██████████| 128/128 [00:08<00:00, 14.84it/s]\n",
      "100%|██████████| 128/128 [00:09<00:00, 13.54it/s]\n",
      "100%|██████████| 256/256 [00:38<00:00,  6.63it/s]\n",
      "100%|██████████| 1/1 [00:00<00:00, 92.65it/s]\n",
      "100%|██████████| 1/1 [00:00<00:00, 29.67it/s]\n",
      "100%|██████████| 1/1 [00:00<00:00,  6.79it/s]\n"
     ]
    },
    {
     "name": "stdout",
     "output_type": "stream",
     "text": [
      "Done\n",
      "Generating 20/5247\n"
     ]
    },
    {
     "name": "stderr",
     "output_type": "stream",
     "text": [
      "100%|██████████| 64/64 [00:04<00:00, 15.27it/s]\n",
      "100%|██████████| 128/128 [00:08<00:00, 14.79it/s]\n",
      "100%|██████████| 128/128 [00:09<00:00, 12.91it/s]\n",
      "100%|██████████| 256/256 [00:40<00:00,  6.36it/s]\n",
      "100%|██████████| 1/1 [00:00<00:00, 75.35it/s]\n",
      "100%|██████████| 1/1 [00:00<00:00, 23.79it/s]\n",
      "100%|██████████| 1/1 [00:00<00:00,  6.47it/s]\n"
     ]
    },
    {
     "name": "stdout",
     "output_type": "stream",
     "text": [
      "Done\n",
      "Generating 21/5247\n"
     ]
    },
    {
     "name": "stderr",
     "output_type": "stream",
     "text": [
      "100%|██████████| 64/64 [00:04<00:00, 15.49it/s]\n",
      "100%|██████████| 128/128 [00:08<00:00, 14.82it/s]\n",
      "100%|██████████| 128/128 [00:10<00:00, 12.76it/s]\n",
      "100%|██████████| 256/256 [00:43<00:00,  5.92it/s]\n",
      "100%|██████████| 1/1 [00:00<00:00, 73.19it/s]\n",
      "100%|██████████| 1/1 [00:00<00:00, 20.16it/s]\n",
      "100%|██████████| 1/1 [00:00<00:00,  5.67it/s]\n"
     ]
    },
    {
     "name": "stdout",
     "output_type": "stream",
     "text": [
      "Done\n",
      "Generating 22/5247\n"
     ]
    },
    {
     "name": "stderr",
     "output_type": "stream",
     "text": [
      "100%|██████████| 64/64 [00:04<00:00, 14.95it/s]\n",
      "100%|██████████| 128/128 [00:08<00:00, 14.74it/s]\n",
      "100%|██████████| 128/128 [00:09<00:00, 13.40it/s]\n",
      "100%|██████████| 256/256 [00:41<00:00,  6.19it/s]\n",
      "100%|██████████| 1/1 [00:00<00:00, 78.10it/s]\n",
      "100%|██████████| 1/1 [00:00<00:00, 27.57it/s]\n",
      "100%|██████████| 1/1 [00:00<00:00,  6.37it/s]\n"
     ]
    },
    {
     "name": "stdout",
     "output_type": "stream",
     "text": [
      "Done\n",
      "Generating 23/5247\n"
     ]
    },
    {
     "name": "stderr",
     "output_type": "stream",
     "text": [
      "100%|██████████| 64/64 [00:04<00:00, 14.99it/s]\n",
      "100%|██████████| 128/128 [00:08<00:00, 14.63it/s]\n",
      "100%|██████████| 128/128 [00:10<00:00, 12.66it/s]\n",
      "100%|██████████| 256/256 [00:43<00:00,  5.93it/s]\n",
      "100%|██████████| 1/1 [00:00<00:00, 76.08it/s]\n",
      "100%|██████████| 1/1 [00:00<00:00, 27.36it/s]\n",
      "100%|██████████| 1/1 [00:00<00:00,  6.84it/s]\n"
     ]
    },
    {
     "name": "stdout",
     "output_type": "stream",
     "text": [
      "Done\n",
      "Generating 24/5247\n"
     ]
    },
    {
     "name": "stderr",
     "output_type": "stream",
     "text": [
      "100%|██████████| 64/64 [00:04<00:00, 15.49it/s]\n",
      "100%|██████████| 128/128 [00:08<00:00, 14.89it/s]\n",
      "100%|██████████| 128/128 [00:10<00:00, 12.61it/s]\n",
      "100%|██████████| 256/256 [00:54<00:00,  4.66it/s]\n",
      "100%|██████████| 1/1 [00:00<00:00, 76.74it/s]\n",
      "100%|██████████| 1/1 [00:00<00:00, 32.55it/s]\n",
      "100%|██████████| 1/1 [00:00<00:00,  6.23it/s]\n"
     ]
    },
    {
     "name": "stdout",
     "output_type": "stream",
     "text": [
      "Done\n",
      "Generating 25/5247\n"
     ]
    },
    {
     "name": "stderr",
     "output_type": "stream",
     "text": [
      "100%|██████████| 64/64 [00:04<00:00, 14.99it/s]\n",
      "100%|██████████| 128/128 [00:08<00:00, 14.41it/s]\n",
      "100%|██████████| 128/128 [00:10<00:00, 12.51it/s]\n",
      "100%|██████████| 256/256 [00:56<00:00,  4.53it/s]\n",
      "100%|██████████| 1/1 [00:00<00:00, 70.44it/s]\n",
      "100%|██████████| 1/1 [00:00<00:00, 27.73it/s]\n",
      "100%|██████████| 1/1 [00:00<00:00,  6.04it/s]\n"
     ]
    },
    {
     "name": "stdout",
     "output_type": "stream",
     "text": [
      "Done\n",
      "Generating 26/5247\n"
     ]
    },
    {
     "name": "stderr",
     "output_type": "stream",
     "text": [
      "100%|██████████| 64/64 [00:04<00:00, 14.84it/s]\n",
      "100%|██████████| 128/128 [00:08<00:00, 14.33it/s]\n",
      "100%|██████████| 128/128 [00:09<00:00, 13.95it/s]\n",
      "100%|██████████| 256/256 [00:30<00:00,  8.37it/s]\n",
      "100%|██████████| 1/1 [00:00<00:00, 131.19it/s]\n",
      "100%|██████████| 1/1 [00:00<00:00, 43.77it/s]\n",
      "100%|██████████| 1/1 [00:00<00:00, 11.34it/s]\n"
     ]
    },
    {
     "name": "stdout",
     "output_type": "stream",
     "text": [
      "Done\n",
      "Generating 27/5247\n"
     ]
    },
    {
     "name": "stderr",
     "output_type": "stream",
     "text": [
      "100%|██████████| 64/64 [00:04<00:00, 14.95it/s]\n",
      "100%|██████████| 128/128 [00:08<00:00, 14.50it/s]\n",
      "100%|██████████| 128/128 [00:09<00:00, 13.28it/s]\n",
      "100%|██████████| 256/256 [00:39<00:00,  6.49it/s]\n",
      "100%|██████████| 1/1 [00:00<00:00, 91.81it/s]\n",
      "100%|██████████| 1/1 [00:00<00:00, 28.62it/s]\n",
      "100%|██████████| 1/1 [00:00<00:00,  7.00it/s]\n"
     ]
    },
    {
     "name": "stdout",
     "output_type": "stream",
     "text": [
      "Done\n",
      "Generating 28/5247\n"
     ]
    },
    {
     "name": "stderr",
     "output_type": "stream",
     "text": [
      "100%|██████████| 64/64 [00:04<00:00, 14.96it/s]\n",
      "100%|██████████| 128/128 [00:08<00:00, 14.44it/s]\n",
      "100%|██████████| 128/128 [00:10<00:00, 12.17it/s]\n",
      "100%|██████████| 256/256 [00:53<00:00,  4.76it/s]\n",
      "100%|██████████| 1/1 [00:00<00:00, 48.06it/s]\n",
      "100%|██████████| 1/1 [00:00<00:00, 28.89it/s]\n",
      "100%|██████████| 1/1 [00:00<00:00,  6.90it/s]\n"
     ]
    },
    {
     "name": "stdout",
     "output_type": "stream",
     "text": [
      "Done\n",
      "Generating 29/5247\n"
     ]
    },
    {
     "name": "stderr",
     "output_type": "stream",
     "text": [
      "100%|██████████| 64/64 [00:04<00:00, 15.11it/s]\n",
      "100%|██████████| 128/128 [00:08<00:00, 14.49it/s]\n",
      "100%|██████████| 128/128 [00:09<00:00, 13.23it/s]\n",
      "100%|██████████| 256/256 [00:42<00:00,  6.05it/s]\n",
      "100%|██████████| 1/1 [00:00<00:00, 93.77it/s]\n",
      "100%|██████████| 1/1 [00:00<00:00, 29.33it/s]\n",
      "100%|██████████| 1/1 [00:00<00:00,  6.28it/s]\n"
     ]
    },
    {
     "name": "stdout",
     "output_type": "stream",
     "text": [
      "Done\n",
      "Generating 30/5247\n"
     ]
    },
    {
     "name": "stderr",
     "output_type": "stream",
     "text": [
      "100%|██████████| 64/64 [00:04<00:00, 14.87it/s]\n",
      "100%|██████████| 128/128 [00:08<00:00, 14.34it/s]\n",
      "100%|██████████| 128/128 [00:09<00:00, 13.31it/s]\n",
      "100%|██████████| 256/256 [00:40<00:00,  6.28it/s]\n",
      "100%|██████████| 1/1 [00:00<00:00, 93.77it/s]\n",
      "100%|██████████| 1/1 [00:00<00:00, 32.68it/s]\n",
      "100%|██████████| 1/1 [00:00<00:00,  8.56it/s]\n"
     ]
    },
    {
     "name": "stdout",
     "output_type": "stream",
     "text": [
      "Done\n",
      "Generating 31/5247\n"
     ]
    },
    {
     "name": "stderr",
     "output_type": "stream",
     "text": [
      "100%|██████████| 64/64 [00:04<00:00, 15.03it/s]\n",
      "100%|██████████| 128/128 [00:08<00:00, 14.42it/s]\n",
      "100%|██████████| 128/128 [00:10<00:00, 11.81it/s]\n",
      "100%|██████████| 256/256 [00:57<00:00,  4.46it/s]\n",
      "100%|██████████| 1/1 [00:00<00:00, 53.26it/s]\n",
      "100%|██████████| 1/1 [00:00<00:00, 21.73it/s]\n",
      "100%|██████████| 1/1 [00:00<00:00,  5.22it/s]\n"
     ]
    },
    {
     "name": "stdout",
     "output_type": "stream",
     "text": [
      "Done\n",
      "Generating 32/5247\n"
     ]
    },
    {
     "name": "stderr",
     "output_type": "stream",
     "text": [
      "100%|██████████| 64/64 [00:04<00:00, 14.91it/s]\n",
      "100%|██████████| 128/128 [00:08<00:00, 14.40it/s]\n",
      "100%|██████████| 128/128 [00:10<00:00, 12.35it/s]\n",
      "100%|██████████| 256/256 [00:56<00:00,  4.53it/s]\n",
      "100%|██████████| 1/1 [00:00<00:00, 74.41it/s]\n",
      "100%|██████████| 1/1 [00:00<00:00, 27.91it/s]\n",
      "100%|██████████| 1/1 [00:00<00:00,  6.37it/s]\n"
     ]
    },
    {
     "name": "stdout",
     "output_type": "stream",
     "text": [
      "Done\n",
      "Generating 33/5247\n"
     ]
    },
    {
     "name": "stderr",
     "output_type": "stream",
     "text": [
      "100%|██████████| 64/64 [00:04<00:00, 14.90it/s]\n",
      "100%|██████████| 128/128 [00:08<00:00, 14.40it/s]\n",
      "100%|██████████| 128/128 [00:10<00:00, 12.16it/s]\n",
      "100%|██████████| 256/256 [00:48<00:00,  5.33it/s]\n",
      "100%|██████████| 1/1 [00:00<00:00, 63.01it/s]\n",
      "100%|██████████| 1/1 [00:00<00:00, 18.85it/s]\n",
      "100%|██████████| 1/1 [00:00<00:00,  4.70it/s]\n"
     ]
    },
    {
     "name": "stdout",
     "output_type": "stream",
     "text": [
      "Done\n",
      "Generating 34/5247\n"
     ]
    },
    {
     "name": "stderr",
     "output_type": "stream",
     "text": [
      "100%|██████████| 64/64 [00:04<00:00, 15.07it/s]\n",
      "100%|██████████| 128/128 [00:08<00:00, 14.35it/s]\n",
      "100%|██████████| 128/128 [00:09<00:00, 13.12it/s]\n",
      "100%|██████████| 256/256 [00:40<00:00,  6.28it/s]\n",
      "100%|██████████| 1/1 [00:00<00:00, 57.55it/s]\n",
      "100%|██████████| 1/1 [00:00<00:00, 33.97it/s]\n",
      "100%|██████████| 1/1 [00:00<00:00,  8.69it/s]\n"
     ]
    },
    {
     "name": "stdout",
     "output_type": "stream",
     "text": [
      "Done\n",
      "Generating 35/5247\n"
     ]
    },
    {
     "name": "stderr",
     "output_type": "stream",
     "text": [
      "100%|██████████| 64/64 [00:04<00:00, 14.90it/s]\n",
      "100%|██████████| 128/128 [00:08<00:00, 14.43it/s]\n",
      "100%|██████████| 128/128 [00:10<00:00, 12.24it/s]\n",
      "100%|██████████| 256/256 [00:53<00:00,  4.78it/s]\n",
      "100%|██████████| 1/1 [00:00<00:00, 42.51it/s]\n",
      "100%|██████████| 1/1 [00:00<00:00, 24.87it/s]\n",
      "100%|██████████| 1/1 [00:00<00:00,  5.43it/s]\n"
     ]
    },
    {
     "name": "stdout",
     "output_type": "stream",
     "text": [
      "Done\n",
      "Generating 36/5247\n"
     ]
    },
    {
     "name": "stderr",
     "output_type": "stream",
     "text": [
      "100%|██████████| 64/64 [00:04<00:00, 15.02it/s]\n",
      "100%|██████████| 128/128 [00:08<00:00, 14.35it/s]\n",
      "100%|██████████| 128/128 [00:10<00:00, 12.43it/s]\n",
      "100%|██████████| 256/256 [00:43<00:00,  5.83it/s]\n",
      "100%|██████████| 1/1 [00:00<00:00, 71.96it/s]\n",
      "100%|██████████| 1/1 [00:00<00:00, 23.22it/s]\n",
      "100%|██████████| 1/1 [00:00<00:00,  5.53it/s]\n"
     ]
    },
    {
     "name": "stdout",
     "output_type": "stream",
     "text": [
      "Done\n",
      "Generating 37/5247\n"
     ]
    },
    {
     "name": "stderr",
     "output_type": "stream",
     "text": [
      "100%|██████████| 64/64 [00:04<00:00, 15.08it/s]\n",
      "100%|██████████| 128/128 [00:08<00:00, 14.34it/s]\n",
      "100%|██████████| 128/128 [00:09<00:00, 13.26it/s]\n",
      "100%|██████████| 256/256 [00:41<00:00,  6.18it/s]\n",
      "100%|██████████| 1/1 [00:00<00:00, 102.02it/s]\n",
      "100%|██████████| 1/1 [00:00<00:00, 28.94it/s]\n",
      "100%|██████████| 1/1 [00:00<00:00,  6.16it/s]\n"
     ]
    },
    {
     "name": "stdout",
     "output_type": "stream",
     "text": [
      "Done\n",
      "Generating 38/5247\n"
     ]
    },
    {
     "name": "stderr",
     "output_type": "stream",
     "text": [
      "100%|██████████| 64/64 [00:04<00:00, 15.09it/s]\n",
      "100%|██████████| 128/128 [00:08<00:00, 14.39it/s]\n",
      "100%|██████████| 128/128 [00:10<00:00, 12.46it/s]\n",
      "100%|██████████| 256/256 [00:45<00:00,  5.67it/s]\n",
      "100%|██████████| 1/1 [00:00<00:00, 73.99it/s]\n",
      "100%|██████████| 1/1 [00:00<00:00, 23.29it/s]\n",
      "100%|██████████| 1/1 [00:00<00:00,  5.58it/s]\n"
     ]
    },
    {
     "name": "stdout",
     "output_type": "stream",
     "text": [
      "Done\n",
      "Generating 39/5247\n"
     ]
    },
    {
     "name": "stderr",
     "output_type": "stream",
     "text": [
      "100%|██████████| 64/64 [00:04<00:00, 14.99it/s]\n",
      "100%|██████████| 128/128 [00:08<00:00, 14.42it/s]\n",
      "100%|██████████| 128/128 [00:09<00:00, 13.07it/s]\n",
      "100%|██████████| 256/256 [00:43<00:00,  5.88it/s]\n",
      "100%|██████████| 1/1 [00:00<00:00, 101.92it/s]\n",
      "100%|██████████| 1/1 [00:00<00:00, 31.38it/s]\n",
      "100%|██████████| 1/1 [00:00<00:00,  6.97it/s]\n"
     ]
    },
    {
     "name": "stdout",
     "output_type": "stream",
     "text": [
      "Done\n",
      "Generating 40/5247\n"
     ]
    },
    {
     "name": "stderr",
     "output_type": "stream",
     "text": [
      "100%|██████████| 64/64 [00:04<00:00, 14.97it/s]\n",
      "100%|██████████| 128/128 [00:08<00:00, 14.42it/s]\n",
      "100%|██████████| 128/128 [00:10<00:00, 12.63it/s]\n",
      "100%|██████████| 256/256 [00:47<00:00,  5.41it/s]\n",
      "100%|██████████| 1/1 [00:00<00:00, 78.42it/s]\n",
      "100%|██████████| 1/1 [00:00<00:00, 31.91it/s]\n",
      "100%|██████████| 1/1 [00:00<00:00,  7.78it/s]\n"
     ]
    },
    {
     "name": "stdout",
     "output_type": "stream",
     "text": [
      "Done\n",
      "Generating 41/5247\n"
     ]
    },
    {
     "name": "stderr",
     "output_type": "stream",
     "text": [
      "100%|██████████| 64/64 [00:04<00:00, 14.89it/s]\n",
      "100%|██████████| 128/128 [00:08<00:00, 14.36it/s]\n",
      "100%|██████████| 128/128 [00:10<00:00, 12.31it/s]\n",
      "100%|██████████| 256/256 [00:56<00:00,  4.50it/s]\n",
      "100%|██████████| 1/1 [00:00<00:00, 73.16it/s]\n",
      "100%|██████████| 1/1 [00:00<00:00, 28.43it/s]\n",
      "100%|██████████| 1/1 [00:00<00:00,  5.44it/s]\n"
     ]
    },
    {
     "name": "stdout",
     "output_type": "stream",
     "text": [
      "Done\n",
      "Generating 42/5247\n"
     ]
    },
    {
     "name": "stderr",
     "output_type": "stream",
     "text": [
      "100%|██████████| 64/64 [00:04<00:00, 14.95it/s]\n",
      "100%|██████████| 128/128 [00:08<00:00, 14.39it/s]\n",
      "100%|██████████| 128/128 [00:10<00:00, 12.36it/s]\n",
      "100%|██████████| 256/256 [00:46<00:00,  5.57it/s]\n",
      "100%|██████████| 1/1 [00:00<00:00, 72.42it/s]\n",
      "100%|██████████| 1/1 [00:00<00:00, 23.63it/s]\n",
      "100%|██████████| 1/1 [00:00<00:00,  5.90it/s]\n"
     ]
    },
    {
     "name": "stdout",
     "output_type": "stream",
     "text": [
      "Done\n",
      "Generating 43/5247\n"
     ]
    },
    {
     "name": "stderr",
     "output_type": "stream",
     "text": [
      "100%|██████████| 64/64 [00:04<00:00, 14.81it/s]\n",
      "100%|██████████| 128/128 [00:08<00:00, 14.33it/s]\n",
      "100%|██████████| 128/128 [00:10<00:00, 11.86it/s]\n",
      "100%|██████████| 256/256 [01:01<00:00,  4.17it/s]\n",
      "100%|██████████| 1/1 [00:00<00:00, 75.21it/s]\n",
      "100%|██████████| 1/1 [00:00<00:00, 24.20it/s]\n",
      "100%|██████████| 1/1 [00:00<00:00,  5.58it/s]\n"
     ]
    },
    {
     "name": "stdout",
     "output_type": "stream",
     "text": [
      "Done\n",
      "Generating 44/5247\n"
     ]
    },
    {
     "name": "stderr",
     "output_type": "stream",
     "text": [
      "100%|██████████| 64/64 [00:04<00:00, 14.98it/s]\n",
      "100%|██████████| 128/128 [00:08<00:00, 14.38it/s]\n",
      "100%|██████████| 128/128 [00:09<00:00, 13.13it/s]\n",
      "100%|██████████| 256/256 [00:41<00:00,  6.10it/s]\n",
      "100%|██████████| 1/1 [00:00<00:00, 94.64it/s]\n",
      "100%|██████████| 1/1 [00:00<00:00, 29.49it/s]\n",
      "100%|██████████| 1/1 [00:00<00:00,  7.32it/s]\n"
     ]
    },
    {
     "name": "stdout",
     "output_type": "stream",
     "text": [
      "Done\n",
      "Generating 45/5247\n"
     ]
    },
    {
     "name": "stderr",
     "output_type": "stream",
     "text": [
      "100%|██████████| 64/64 [00:04<00:00, 15.03it/s]\n",
      "100%|██████████| 128/128 [00:08<00:00, 14.39it/s]\n",
      "100%|██████████| 128/128 [00:10<00:00, 12.50it/s]\n",
      "100%|██████████| 256/256 [00:42<00:00,  6.09it/s]\n",
      "100%|██████████| 1/1 [00:00<00:00, 75.51it/s]\n",
      "100%|██████████| 1/1 [00:00<00:00, 26.21it/s]\n",
      "100%|██████████| 1/1 [00:00<00:00,  6.56it/s]\n"
     ]
    },
    {
     "name": "stdout",
     "output_type": "stream",
     "text": [
      "Done\n",
      "Generating 46/5247\n"
     ]
    },
    {
     "name": "stderr",
     "output_type": "stream",
     "text": [
      "100%|██████████| 64/64 [00:04<00:00, 15.02it/s]\n",
      "100%|██████████| 128/128 [00:08<00:00, 14.33it/s]\n",
      "100%|██████████| 128/128 [00:09<00:00, 13.15it/s]\n",
      "100%|██████████| 256/256 [00:42<00:00,  6.00it/s]\n",
      "100%|██████████| 1/1 [00:00<00:00, 101.72it/s]\n",
      "100%|██████████| 1/1 [00:00<00:00, 32.54it/s]\n",
      "100%|██████████| 1/1 [00:00<00:00,  7.74it/s]\n"
     ]
    },
    {
     "name": "stdout",
     "output_type": "stream",
     "text": [
      "Done\n",
      "Generating 47/5247\n"
     ]
    },
    {
     "name": "stderr",
     "output_type": "stream",
     "text": [
      "100%|██████████| 64/64 [00:04<00:00, 14.96it/s]\n",
      "100%|██████████| 128/128 [00:08<00:00, 14.49it/s]\n",
      "100%|██████████| 128/128 [00:10<00:00, 12.53it/s]\n",
      "100%|██████████| 256/256 [00:44<00:00,  5.79it/s]\n",
      "100%|██████████| 1/1 [00:00<00:00, 75.70it/s]\n",
      "100%|██████████| 1/1 [00:00<00:00, 27.44it/s]\n",
      "100%|██████████| 1/1 [00:00<00:00,  7.25it/s]\n"
     ]
    },
    {
     "name": "stdout",
     "output_type": "stream",
     "text": [
      "Done\n",
      "Generating 48/5247\n"
     ]
    },
    {
     "name": "stderr",
     "output_type": "stream",
     "text": [
      "100%|██████████| 64/64 [00:04<00:00, 14.89it/s]\n",
      "100%|██████████| 128/128 [00:08<00:00, 14.24it/s]\n",
      "100%|██████████| 128/128 [00:09<00:00, 13.05it/s]\n",
      "100%|██████████| 256/256 [00:44<00:00,  5.76it/s]\n",
      "100%|██████████| 1/1 [00:00<00:00, 95.33it/s]\n",
      "100%|██████████| 1/1 [00:00<00:00, 30.58it/s]\n",
      "100%|██████████| 1/1 [00:00<00:00,  6.79it/s]\n"
     ]
    },
    {
     "name": "stdout",
     "output_type": "stream",
     "text": [
      "Done\n",
      "Generating 49/5247\n"
     ]
    },
    {
     "name": "stderr",
     "output_type": "stream",
     "text": [
      "100%|██████████| 64/64 [00:04<00:00, 14.92it/s]\n",
      "100%|██████████| 128/128 [00:08<00:00, 14.48it/s]\n",
      "100%|██████████| 128/128 [00:09<00:00, 13.09it/s]\n",
      "100%|██████████| 256/256 [00:45<00:00,  5.68it/s]\n",
      "100%|██████████| 1/1 [00:00<00:00, 89.31it/s]\n",
      "100%|██████████| 1/1 [00:00<00:00, 32.57it/s]\n",
      "100%|██████████| 1/1 [00:00<00:00,  6.78it/s]\n"
     ]
    },
    {
     "name": "stdout",
     "output_type": "stream",
     "text": [
      "Done\n",
      "Generating 50/5247\n"
     ]
    },
    {
     "name": "stderr",
     "output_type": "stream",
     "text": [
      "100%|██████████| 64/64 [00:04<00:00, 15.07it/s]\n",
      "100%|██████████| 128/128 [00:08<00:00, 14.82it/s]\n",
      "100%|██████████| 128/128 [00:09<00:00, 13.28it/s]\n",
      "100%|██████████| 256/256 [00:38<00:00,  6.70it/s]\n",
      "100%|██████████| 1/1 [00:00<00:00, 95.86it/s]\n",
      "100%|██████████| 1/1 [00:00<00:00, 29.66it/s]\n",
      "100%|██████████| 1/1 [00:00<00:00,  7.19it/s]\n"
     ]
    },
    {
     "name": "stdout",
     "output_type": "stream",
     "text": [
      "Done\n",
      "Generating 51/5247\n"
     ]
    },
    {
     "name": "stderr",
     "output_type": "stream",
     "text": [
      "100%|██████████| 64/64 [00:04<00:00, 14.89it/s]\n",
      "100%|██████████| 128/128 [00:08<00:00, 14.44it/s]\n",
      "100%|██████████| 128/128 [00:11<00:00, 11.52it/s]\n",
      "100%|██████████| 256/256 [01:03<00:00,  4.01it/s]\n",
      "100%|██████████| 1/1 [00:00<00:00, 75.83it/s]\n",
      "100%|██████████| 1/1 [00:00<00:00, 22.46it/s]\n",
      "100%|██████████| 1/1 [00:00<00:00,  4.76it/s]\n"
     ]
    },
    {
     "name": "stdout",
     "output_type": "stream",
     "text": [
      "Done\n",
      "Generating 52/5247\n"
     ]
    },
    {
     "name": "stderr",
     "output_type": "stream",
     "text": [
      "100%|██████████| 64/64 [00:04<00:00, 14.94it/s]\n",
      "100%|██████████| 128/128 [00:08<00:00, 14.45it/s]\n",
      "100%|██████████| 128/128 [00:09<00:00, 13.15it/s]\n",
      "100%|██████████| 256/256 [00:40<00:00,  6.29it/s]\n",
      "100%|██████████| 1/1 [00:00<00:00, 80.31it/s]\n",
      "100%|██████████| 1/1 [00:00<00:00, 26.70it/s]\n",
      "100%|██████████| 1/1 [00:00<00:00,  6.59it/s]\n"
     ]
    },
    {
     "name": "stdout",
     "output_type": "stream",
     "text": [
      "Done\n",
      "Generating 53/5247\n"
     ]
    },
    {
     "name": "stderr",
     "output_type": "stream",
     "text": [
      "100%|██████████| 64/64 [00:04<00:00, 14.97it/s]\n",
      "100%|██████████| 128/128 [00:08<00:00, 14.39it/s]\n",
      "100%|██████████| 128/128 [00:09<00:00, 13.09it/s]\n",
      "100%|██████████| 256/256 [00:46<00:00,  5.52it/s]\n",
      "100%|██████████| 1/1 [00:00<00:00, 100.77it/s]\n",
      "100%|██████████| 1/1 [00:00<00:00, 33.60it/s]\n",
      "100%|██████████| 1/1 [00:00<00:00,  6.78it/s]\n"
     ]
    },
    {
     "name": "stdout",
     "output_type": "stream",
     "text": [
      "Done\n",
      "Generating 54/5247\n"
     ]
    },
    {
     "name": "stderr",
     "output_type": "stream",
     "text": [
      "100%|██████████| 64/64 [00:04<00:00, 15.04it/s]\n",
      "100%|██████████| 128/128 [00:08<00:00, 14.40it/s]\n",
      "100%|██████████| 128/128 [00:10<00:00, 12.39it/s]\n",
      "100%|██████████| 256/256 [00:54<00:00,  4.66it/s]\n",
      "100%|██████████| 1/1 [00:00<00:00, 77.90it/s]\n",
      "100%|██████████| 1/1 [00:00<00:00, 29.62it/s]\n",
      "100%|██████████| 1/1 [00:00<00:00,  6.80it/s]\n"
     ]
    },
    {
     "name": "stdout",
     "output_type": "stream",
     "text": [
      "Done\n",
      "Generating 55/5247\n"
     ]
    },
    {
     "name": "stderr",
     "output_type": "stream",
     "text": [
      "100%|██████████| 64/64 [00:04<00:00, 14.89it/s]\n",
      "100%|██████████| 128/128 [00:08<00:00, 14.37it/s]\n",
      "100%|██████████| 128/128 [00:10<00:00, 12.70it/s]\n",
      "100%|██████████| 256/256 [00:42<00:00,  6.00it/s]\n",
      "100%|██████████| 1/1 [00:00<00:00, 75.17it/s]\n",
      "100%|██████████| 1/1 [00:00<00:00, 24.19it/s]\n",
      "100%|██████████| 1/1 [00:00<00:00,  5.81it/s]\n"
     ]
    },
    {
     "name": "stdout",
     "output_type": "stream",
     "text": [
      "Done\n",
      "Generating 56/5247\n"
     ]
    },
    {
     "name": "stderr",
     "output_type": "stream",
     "text": [
      "100%|██████████| 64/64 [00:04<00:00, 14.98it/s]\n",
      "100%|██████████| 128/128 [00:08<00:00, 14.40it/s]\n",
      "100%|██████████| 128/128 [00:09<00:00, 13.36it/s]\n",
      "100%|██████████| 256/256 [00:37<00:00,  6.88it/s]\n",
      "100%|██████████| 1/1 [00:00<00:00, 100.75it/s]\n",
      "100%|██████████| 1/1 [00:00<00:00, 29.03it/s]\n",
      "100%|██████████| 1/1 [00:00<00:00,  7.13it/s]\n"
     ]
    },
    {
     "name": "stdout",
     "output_type": "stream",
     "text": [
      "Done\n",
      "Generating 57/5247\n"
     ]
    },
    {
     "name": "stderr",
     "output_type": "stream",
     "text": [
      "100%|██████████| 64/64 [00:04<00:00, 14.87it/s]\n",
      "100%|██████████| 128/128 [00:08<00:00, 14.47it/s]\n",
      "100%|██████████| 128/128 [00:09<00:00, 13.27it/s]\n",
      "100%|██████████| 256/256 [00:41<00:00,  6.17it/s]\n",
      "100%|██████████| 1/1 [00:00<00:00, 94.75it/s]\n",
      "100%|██████████| 1/1 [00:00<00:00, 29.08it/s]\n",
      "100%|██████████| 1/1 [00:00<00:00,  6.58it/s]\n"
     ]
    },
    {
     "name": "stdout",
     "output_type": "stream",
     "text": [
      "Done\n",
      "Generating 58/5247\n"
     ]
    },
    {
     "name": "stderr",
     "output_type": "stream",
     "text": [
      "100%|██████████| 64/64 [00:04<00:00, 14.97it/s]\n",
      "100%|██████████| 128/128 [00:08<00:00, 14.35it/s]\n",
      "100%|██████████| 128/128 [00:10<00:00, 12.44it/s]\n",
      "100%|██████████| 256/256 [00:53<00:00,  4.77it/s]\n",
      "100%|██████████| 1/1 [00:00<00:00, 70.89it/s]\n",
      "100%|██████████| 1/1 [00:00<00:00, 29.41it/s]\n",
      "100%|██████████| 1/1 [00:00<00:00,  6.41it/s]\n"
     ]
    },
    {
     "name": "stdout",
     "output_type": "stream",
     "text": [
      "Done\n",
      "Generating 59/5247\n"
     ]
    },
    {
     "name": "stderr",
     "output_type": "stream",
     "text": [
      "100%|██████████| 64/64 [00:04<00:00, 15.08it/s]\n",
      "100%|██████████| 128/128 [00:08<00:00, 14.45it/s]\n",
      "100%|██████████| 128/128 [00:10<00:00, 12.69it/s]\n",
      "100%|██████████| 256/256 [00:47<00:00,  5.40it/s]\n",
      "100%|██████████| 1/1 [00:00<00:00, 102.05it/s]\n",
      "100%|██████████| 1/1 [00:00<00:00, 33.14it/s]\n",
      "100%|██████████| 1/1 [00:00<00:00,  6.85it/s]\n"
     ]
    },
    {
     "name": "stdout",
     "output_type": "stream",
     "text": [
      "Done\n",
      "Generating 60/5247\n"
     ]
    },
    {
     "name": "stderr",
     "output_type": "stream",
     "text": [
      "100%|██████████| 64/64 [00:04<00:00, 14.95it/s]\n",
      "100%|██████████| 128/128 [00:08<00:00, 14.50it/s]\n",
      "100%|██████████| 128/128 [00:10<00:00, 12.36it/s]\n",
      "100%|██████████| 256/256 [00:54<00:00,  4.72it/s]\n",
      "100%|██████████| 1/1 [00:00<00:00, 77.89it/s]\n",
      "100%|██████████| 1/1 [00:00<00:00, 28.80it/s]\n",
      "100%|██████████| 1/1 [00:00<00:00,  6.30it/s]\n"
     ]
    },
    {
     "name": "stdout",
     "output_type": "stream",
     "text": [
      "Done\n",
      "Generating 61/5247\n"
     ]
    },
    {
     "name": "stderr",
     "output_type": "stream",
     "text": [
      "100%|██████████| 64/64 [00:04<00:00, 14.99it/s]\n",
      "100%|██████████| 128/128 [00:08<00:00, 14.43it/s]\n",
      "100%|██████████| 128/128 [00:10<00:00, 12.59it/s]\n",
      "100%|██████████| 256/256 [00:43<00:00,  5.83it/s]\n",
      "100%|██████████| 1/1 [00:00<00:00, 75.65it/s]\n",
      "100%|██████████| 1/1 [00:00<00:00, 22.79it/s]\n",
      "100%|██████████| 1/1 [00:00<00:00,  5.70it/s]\n"
     ]
    },
    {
     "name": "stdout",
     "output_type": "stream",
     "text": [
      "Done\n",
      "Generating 62/5247\n"
     ]
    },
    {
     "name": "stderr",
     "output_type": "stream",
     "text": [
      "100%|██████████| 64/64 [00:04<00:00, 14.94it/s]\n",
      "100%|██████████| 128/128 [00:08<00:00, 14.38it/s]\n",
      "100%|██████████| 128/128 [00:10<00:00, 12.73it/s]\n",
      "100%|██████████| 256/256 [00:41<00:00,  6.10it/s]\n",
      "100%|██████████| 1/1 [00:00<00:00, 79.57it/s]\n",
      "100%|██████████| 1/1 [00:00<00:00, 24.92it/s]\n",
      "100%|██████████| 1/1 [00:00<00:00,  6.23it/s]\n"
     ]
    },
    {
     "name": "stdout",
     "output_type": "stream",
     "text": [
      "Done\n",
      "Generating 63/5247\n"
     ]
    },
    {
     "name": "stderr",
     "output_type": "stream",
     "text": [
      "100%|██████████| 64/64 [00:04<00:00, 15.06it/s]\n",
      "100%|██████████| 128/128 [00:08<00:00, 14.43it/s]\n",
      "100%|██████████| 128/128 [00:10<00:00, 12.33it/s]\n",
      "100%|██████████| 256/256 [00:47<00:00,  5.34it/s]\n",
      "100%|██████████| 1/1 [00:00<00:00, 74.48it/s]\n",
      "100%|██████████| 1/1 [00:00<00:00, 24.48it/s]\n",
      "100%|██████████| 1/1 [00:00<00:00,  5.79it/s]\n"
     ]
    },
    {
     "name": "stdout",
     "output_type": "stream",
     "text": [
      "Done\n",
      "Generating 64/5247\n"
     ]
    },
    {
     "name": "stderr",
     "output_type": "stream",
     "text": [
      "100%|██████████| 64/64 [00:04<00:00, 15.03it/s]\n",
      "100%|██████████| 128/128 [00:08<00:00, 14.44it/s]\n",
      "100%|██████████| 128/128 [00:10<00:00, 12.61it/s]\n",
      "100%|██████████| 256/256 [00:46<00:00,  5.50it/s]\n",
      "100%|██████████| 1/1 [00:00<00:00, 87.69it/s]\n",
      "100%|██████████| 1/1 [00:00<00:00, 31.12it/s]\n",
      "100%|██████████| 1/1 [00:00<00:00,  6.28it/s]\n"
     ]
    },
    {
     "name": "stdout",
     "output_type": "stream",
     "text": [
      "Done\n",
      "Generating 65/5247\n"
     ]
    },
    {
     "name": "stderr",
     "output_type": "stream",
     "text": [
      "100%|██████████| 64/64 [00:04<00:00, 15.01it/s]\n",
      "100%|██████████| 128/128 [00:08<00:00, 14.41it/s]\n",
      "100%|██████████| 128/128 [00:10<00:00, 12.70it/s]\n",
      "100%|██████████| 256/256 [00:41<00:00,  6.12it/s]\n",
      "100%|██████████| 1/1 [00:00<00:00, 73.60it/s]\n",
      "100%|██████████| 1/1 [00:00<00:00, 26.43it/s]\n",
      "100%|██████████| 1/1 [00:00<00:00,  7.40it/s]\n"
     ]
    },
    {
     "name": "stdout",
     "output_type": "stream",
     "text": [
      "Done\n",
      "Generating 66/5247\n"
     ]
    },
    {
     "name": "stderr",
     "output_type": "stream",
     "text": [
      "100%|██████████| 64/64 [00:04<00:00, 15.11it/s]\n",
      "100%|██████████| 128/128 [00:08<00:00, 14.51it/s]\n",
      "100%|██████████| 128/128 [00:09<00:00, 13.35it/s]\n",
      "100%|██████████| 256/256 [00:42<00:00,  6.05it/s]\n",
      "100%|██████████| 1/1 [00:00<00:00, 100.43it/s]\n",
      "100%|██████████| 1/1 [00:00<00:00, 32.17it/s]\n",
      "100%|██████████| 1/1 [00:00<00:00,  6.81it/s]\n"
     ]
    },
    {
     "name": "stdout",
     "output_type": "stream",
     "text": [
      "Done\n",
      "Generating 67/5247\n"
     ]
    },
    {
     "name": "stderr",
     "output_type": "stream",
     "text": [
      "100%|██████████| 64/64 [00:04<00:00, 15.15it/s]\n",
      "100%|██████████| 128/128 [00:08<00:00, 14.53it/s]\n",
      "100%|██████████| 128/128 [00:09<00:00, 13.77it/s]\n",
      "100%|██████████| 256/256 [00:30<00:00,  8.39it/s]\n",
      "100%|██████████| 1/1 [00:00<00:00, 144.61it/s]\n",
      "100%|██████████| 1/1 [00:00<00:00, 46.40it/s]\n",
      "100%|██████████| 1/1 [00:00<00:00, 11.49it/s]\n"
     ]
    },
    {
     "name": "stdout",
     "output_type": "stream",
     "text": [
      "Done\n",
      "Generating 68/5247\n"
     ]
    },
    {
     "name": "stderr",
     "output_type": "stream",
     "text": [
      "100%|██████████| 64/64 [00:04<00:00, 15.06it/s]\n",
      "100%|██████████| 128/128 [00:08<00:00, 14.43it/s]\n",
      "100%|██████████| 128/128 [00:10<00:00, 12.69it/s]\n",
      "100%|██████████| 256/256 [00:40<00:00,  6.38it/s]\n",
      "100%|██████████| 1/1 [00:00<00:00, 73.05it/s]\n",
      "100%|██████████| 1/1 [00:00<00:00, 25.53it/s]\n",
      "100%|██████████| 1/1 [00:00<00:00,  6.32it/s]\n"
     ]
    },
    {
     "name": "stdout",
     "output_type": "stream",
     "text": [
      "Done\n",
      "Generating 69/5247\n"
     ]
    },
    {
     "name": "stderr",
     "output_type": "stream",
     "text": [
      "100%|██████████| 64/64 [00:04<00:00, 14.95it/s]\n",
      "100%|██████████| 128/128 [00:08<00:00, 14.37it/s]\n",
      "100%|██████████| 128/128 [00:11<00:00, 11.57it/s]\n",
      "100%|██████████| 256/256 [00:56<00:00,  4.50it/s]\n",
      "100%|██████████| 1/1 [00:00<00:00, 60.79it/s]\n",
      "100%|██████████| 1/1 [00:00<00:00, 19.45it/s]\n",
      "100%|██████████| 1/1 [00:00<00:00,  5.04it/s]\n"
     ]
    },
    {
     "name": "stdout",
     "output_type": "stream",
     "text": [
      "Done\n",
      "Generating 70/5247\n"
     ]
    },
    {
     "name": "stderr",
     "output_type": "stream",
     "text": [
      "100%|██████████| 64/64 [00:04<00:00, 14.96it/s]\n",
      "100%|██████████| 128/128 [00:08<00:00, 14.35it/s]\n",
      "100%|██████████| 128/128 [00:09<00:00, 13.07it/s]\n",
      "100%|██████████| 256/256 [00:41<00:00,  6.16it/s]\n",
      "100%|██████████| 1/1 [00:00<00:00, 69.57it/s]\n",
      "100%|██████████| 1/1 [00:00<00:00, 31.69it/s]\n",
      "100%|██████████| 1/1 [00:00<00:00,  7.91it/s]\n"
     ]
    },
    {
     "name": "stdout",
     "output_type": "stream",
     "text": [
      "Done\n",
      "Generating 71/5247\n"
     ]
    },
    {
     "name": "stderr",
     "output_type": "stream",
     "text": [
      "100%|██████████| 64/64 [00:04<00:00, 14.93it/s]\n",
      "100%|██████████| 128/128 [00:08<00:00, 14.43it/s]\n",
      "100%|██████████| 128/128 [00:10<00:00, 12.56it/s]\n",
      "100%|██████████| 256/256 [00:46<00:00,  5.53it/s]\n",
      "100%|██████████| 1/1 [00:00<00:00, 90.03it/s]\n",
      "100%|██████████| 1/1 [00:00<00:00, 32.67it/s]\n",
      "100%|██████████| 1/1 [00:00<00:00,  7.76it/s]\n"
     ]
    },
    {
     "name": "stdout",
     "output_type": "stream",
     "text": [
      "Done\n",
      "Generating 72/5247\n"
     ]
    },
    {
     "name": "stderr",
     "output_type": "stream",
     "text": [
      "100%|██████████| 64/64 [00:04<00:00, 14.98it/s]\n",
      "100%|██████████| 128/128 [00:08<00:00, 14.80it/s]\n",
      "100%|██████████| 128/128 [00:09<00:00, 13.15it/s]\n",
      "100%|██████████| 256/256 [00:41<00:00,  6.21it/s]\n",
      "100%|██████████| 1/1 [00:00<00:00, 87.76it/s]\n",
      "100%|██████████| 1/1 [00:00<00:00, 32.93it/s]\n",
      "100%|██████████| 1/1 [00:00<00:00,  7.44it/s]\n"
     ]
    },
    {
     "name": "stdout",
     "output_type": "stream",
     "text": [
      "Done\n",
      "Generating 73/5247\n"
     ]
    },
    {
     "name": "stderr",
     "output_type": "stream",
     "text": [
      "100%|██████████| 64/64 [00:04<00:00, 14.93it/s]\n",
      "100%|██████████| 128/128 [00:08<00:00, 14.39it/s]\n",
      "100%|██████████| 128/128 [00:09<00:00, 13.26it/s]\n",
      "100%|██████████| 256/256 [00:36<00:00,  6.94it/s]\n",
      "100%|██████████| 1/1 [00:00<00:00, 94.92it/s]\n",
      "100%|██████████| 1/1 [00:00<00:00, 28.26it/s]\n",
      "100%|██████████| 1/1 [00:00<00:00,  7.41it/s]\n"
     ]
    },
    {
     "name": "stdout",
     "output_type": "stream",
     "text": [
      "Done\n",
      "Generating 74/5247\n"
     ]
    },
    {
     "name": "stderr",
     "output_type": "stream",
     "text": [
      "100%|██████████| 64/64 [00:04<00:00, 15.06it/s]\n",
      "100%|██████████| 128/128 [00:08<00:00, 14.34it/s]\n",
      "100%|██████████| 128/128 [00:10<00:00, 12.32it/s]\n",
      "100%|██████████| 256/256 [00:57<00:00,  4.42it/s]\n",
      "100%|██████████| 1/1 [00:00<00:00, 72.18it/s]\n",
      "100%|██████████| 1/1 [00:00<00:00, 27.31it/s]\n",
      "100%|██████████| 1/1 [00:00<00:00,  5.93it/s]\n"
     ]
    },
    {
     "name": "stdout",
     "output_type": "stream",
     "text": [
      "Done\n",
      "Generating 75/5247\n"
     ]
    },
    {
     "name": "stderr",
     "output_type": "stream",
     "text": [
      "100%|██████████| 64/64 [00:04<00:00, 14.82it/s]\n",
      "100%|██████████| 128/128 [00:08<00:00, 14.28it/s]\n",
      "100%|██████████| 128/128 [00:10<00:00, 12.12it/s]\n",
      "100%|██████████| 256/256 [00:51<00:00,  5.00it/s]\n",
      "100%|██████████| 1/1 [00:00<00:00, 70.64it/s]\n",
      "100%|██████████| 1/1 [00:00<00:00, 25.48it/s]\n",
      "100%|██████████| 1/1 [00:00<00:00,  5.76it/s]\n"
     ]
    },
    {
     "name": "stdout",
     "output_type": "stream",
     "text": [
      "Done\n",
      "Generating 76/5247\n"
     ]
    },
    {
     "name": "stderr",
     "output_type": "stream",
     "text": [
      "100%|██████████| 64/64 [00:04<00:00, 14.88it/s]\n",
      "100%|██████████| 128/128 [00:08<00:00, 14.46it/s]\n",
      "100%|██████████| 128/128 [00:09<00:00, 13.02it/s]\n",
      "100%|██████████| 256/256 [00:37<00:00,  6.74it/s]\n",
      "100%|██████████| 1/1 [00:00<00:00, 78.83it/s]\n",
      "100%|██████████| 1/1 [00:00<00:00, 26.46it/s]\n",
      "100%|██████████| 1/1 [00:00<00:00,  7.23it/s]\n"
     ]
    },
    {
     "name": "stdout",
     "output_type": "stream",
     "text": [
      "Done\n",
      "Generating 77/5247\n"
     ]
    },
    {
     "name": "stderr",
     "output_type": "stream",
     "text": [
      "100%|██████████| 64/64 [00:04<00:00, 14.99it/s]\n",
      "100%|██████████| 128/128 [00:08<00:00, 14.38it/s]\n",
      "100%|██████████| 128/128 [00:10<00:00, 11.92it/s]\n",
      "100%|██████████| 256/256 [00:59<00:00,  4.30it/s]\n",
      "100%|██████████| 1/1 [00:00<00:00, 71.42it/s]\n",
      "100%|██████████| 1/1 [00:00<00:00, 26.87it/s]\n",
      "100%|██████████| 1/1 [00:00<00:00,  5.64it/s]\n"
     ]
    },
    {
     "name": "stdout",
     "output_type": "stream",
     "text": [
      "Done\n",
      "Generating 78/5247\n"
     ]
    },
    {
     "name": "stderr",
     "output_type": "stream",
     "text": [
      "100%|██████████| 64/64 [00:04<00:00, 14.78it/s]\n",
      "100%|██████████| 128/128 [00:08<00:00, 14.44it/s]\n",
      "100%|██████████| 128/128 [00:09<00:00, 13.10it/s]\n",
      "100%|██████████| 256/256 [00:45<00:00,  5.60it/s]\n",
      "100%|██████████| 1/1 [00:00<00:00, 100.16it/s]\n",
      "100%|██████████| 1/1 [00:00<00:00, 32.37it/s]\n",
      "100%|██████████| 1/1 [00:00<00:00,  6.56it/s]\n"
     ]
    },
    {
     "name": "stdout",
     "output_type": "stream",
     "text": [
      "Done\n",
      "Generating 79/5247\n"
     ]
    },
    {
     "name": "stderr",
     "output_type": "stream",
     "text": [
      "100%|██████████| 64/64 [00:04<00:00, 15.00it/s]\n",
      "100%|██████████| 128/128 [00:08<00:00, 14.40it/s]\n",
      "100%|██████████| 128/128 [00:10<00:00, 12.38it/s]\n",
      "100%|██████████| 256/256 [00:46<00:00,  5.53it/s]\n",
      "100%|██████████| 1/1 [00:00<00:00, 73.84it/s]\n",
      "100%|██████████| 1/1 [00:00<00:00, 26.97it/s]\n",
      "100%|██████████| 1/1 [00:00<00:00,  6.45it/s]\n"
     ]
    },
    {
     "name": "stdout",
     "output_type": "stream",
     "text": [
      "Done\n",
      "Generating 80/5247\n"
     ]
    },
    {
     "name": "stderr",
     "output_type": "stream",
     "text": [
      "100%|██████████| 64/64 [00:04<00:00, 14.88it/s]\n",
      "100%|██████████| 128/128 [00:08<00:00, 14.38it/s]\n",
      "100%|██████████| 128/128 [00:09<00:00, 13.14it/s]\n",
      "100%|██████████| 256/256 [00:40<00:00,  6.32it/s]\n",
      "100%|██████████| 1/1 [00:00<00:00, 95.97it/s]\n",
      "100%|██████████| 1/1 [00:00<00:00, 26.72it/s]\n",
      "100%|██████████| 1/1 [00:00<00:00,  6.73it/s]\n"
     ]
    },
    {
     "name": "stdout",
     "output_type": "stream",
     "text": [
      "Done\n",
      "Generating 81/5247\n"
     ]
    },
    {
     "name": "stderr",
     "output_type": "stream",
     "text": [
      "100%|██████████| 64/64 [00:04<00:00, 15.08it/s]\n",
      "100%|██████████| 128/128 [00:08<00:00, 14.47it/s]\n",
      "100%|██████████| 128/128 [00:09<00:00, 13.10it/s]\n",
      "100%|██████████| 256/256 [00:50<00:00,  5.10it/s]\n",
      "100%|██████████| 1/1 [00:00<00:00, 94.52it/s]\n",
      "100%|██████████| 1/1 [00:00<00:00, 30.49it/s]\n",
      "100%|██████████| 1/1 [00:00<00:00,  6.20it/s]\n"
     ]
    },
    {
     "name": "stdout",
     "output_type": "stream",
     "text": [
      "Done\n",
      "Generating 82/5247\n"
     ]
    },
    {
     "name": "stderr",
     "output_type": "stream",
     "text": [
      "100%|██████████| 64/64 [00:04<00:00, 14.98it/s]\n",
      "100%|██████████| 128/128 [00:08<00:00, 14.55it/s]\n",
      "100%|██████████| 128/128 [00:09<00:00, 13.08it/s]\n",
      "100%|██████████| 256/256 [00:43<00:00,  5.86it/s]\n",
      "100%|██████████| 1/1 [00:00<00:00, 91.27it/s]\n",
      "100%|██████████| 1/1 [00:00<00:00, 35.89it/s]\n",
      "100%|██████████| 1/1 [00:00<00:00,  7.52it/s]\n"
     ]
    },
    {
     "name": "stdout",
     "output_type": "stream",
     "text": [
      "Done\n",
      "Generating 83/5247\n"
     ]
    },
    {
     "name": "stderr",
     "output_type": "stream",
     "text": [
      "100%|██████████| 64/64 [00:04<00:00, 14.97it/s]\n",
      "100%|██████████| 128/128 [00:08<00:00, 14.48it/s]\n",
      "100%|██████████| 128/128 [00:09<00:00, 13.26it/s]\n",
      "100%|██████████| 256/256 [00:37<00:00,  6.91it/s]\n",
      "100%|██████████| 1/1 [00:00<00:00, 101.52it/s]\n",
      "100%|██████████| 1/1 [00:00<00:00, 28.65it/s]\n",
      "100%|██████████| 1/1 [00:00<00:00,  6.73it/s]\n"
     ]
    },
    {
     "name": "stdout",
     "output_type": "stream",
     "text": [
      "Done\n",
      "Generating 84/5247\n"
     ]
    },
    {
     "name": "stderr",
     "output_type": "stream",
     "text": [
      "100%|██████████| 64/64 [00:04<00:00, 14.83it/s]\n",
      "100%|██████████| 128/128 [00:08<00:00, 14.52it/s]\n",
      "100%|██████████| 128/128 [00:09<00:00, 13.29it/s]\n",
      "100%|██████████| 256/256 [00:37<00:00,  6.88it/s]\n",
      "100%|██████████| 1/1 [00:00<00:00, 92.83it/s]\n",
      "100%|██████████| 1/1 [00:00<00:00, 29.45it/s]\n",
      "100%|██████████| 1/1 [00:00<00:00,  7.63it/s]\n"
     ]
    },
    {
     "name": "stdout",
     "output_type": "stream",
     "text": [
      "Done\n",
      "Generating 85/5247\n"
     ]
    },
    {
     "name": "stderr",
     "output_type": "stream",
     "text": [
      "100%|██████████| 64/64 [00:04<00:00, 14.85it/s]\n",
      "100%|██████████| 128/128 [00:08<00:00, 14.38it/s]\n",
      "100%|██████████| 128/128 [00:10<00:00, 11.76it/s]\n",
      "100%|██████████| 256/256 [01:03<00:00,  4.03it/s]\n",
      "100%|██████████| 1/1 [00:00<00:00, 68.28it/s]\n",
      "100%|██████████| 1/1 [00:00<00:00, 24.18it/s]\n",
      "100%|██████████| 1/1 [00:00<00:00,  5.35it/s]\n"
     ]
    },
    {
     "name": "stdout",
     "output_type": "stream",
     "text": [
      "Done\n",
      "Generating 86/5247\n"
     ]
    },
    {
     "name": "stderr",
     "output_type": "stream",
     "text": [
      "100%|██████████| 64/64 [00:04<00:00, 15.02it/s]\n",
      "100%|██████████| 128/128 [00:08<00:00, 14.48it/s]\n",
      "100%|██████████| 128/128 [00:09<00:00, 13.07it/s]\n",
      "100%|██████████| 256/256 [00:43<00:00,  5.90it/s]\n",
      "100%|██████████| 1/1 [00:00<00:00, 95.52it/s]\n",
      "100%|██████████| 1/1 [00:00<00:00, 28.95it/s]\n",
      "100%|██████████| 1/1 [00:00<00:00,  6.77it/s]\n"
     ]
    },
    {
     "name": "stdout",
     "output_type": "stream",
     "text": [
      "Done\n",
      "Generating 87/5247\n"
     ]
    },
    {
     "name": "stderr",
     "output_type": "stream",
     "text": [
      "100%|██████████| 64/64 [00:04<00:00, 14.98it/s]\n",
      "100%|██████████| 128/128 [00:08<00:00, 14.45it/s]\n",
      "100%|██████████| 128/128 [00:10<00:00, 11.84it/s]\n",
      "100%|██████████| 256/256 [01:03<00:00,  4.05it/s]\n",
      "100%|██████████| 1/1 [00:00<00:00, 73.21it/s]\n",
      "100%|██████████| 1/1 [00:00<00:00, 23.66it/s]\n",
      "100%|██████████| 1/1 [00:00<00:00,  5.25it/s]\n"
     ]
    },
    {
     "name": "stdout",
     "output_type": "stream",
     "text": [
      "Done\n",
      "Generating 88/5247\n"
     ]
    },
    {
     "name": "stderr",
     "output_type": "stream",
     "text": [
      "100%|██████████| 64/64 [00:04<00:00, 15.00it/s]\n",
      "100%|██████████| 128/128 [00:08<00:00, 14.47it/s]\n",
      "100%|██████████| 128/128 [00:09<00:00, 13.29it/s]\n",
      "100%|██████████| 256/256 [00:38<00:00,  6.67it/s]\n",
      "100%|██████████| 1/1 [00:00<00:00, 99.84it/s]\n",
      "100%|██████████| 1/1 [00:00<00:00, 29.17it/s]\n",
      "100%|██████████| 1/1 [00:00<00:00,  7.56it/s]\n"
     ]
    },
    {
     "name": "stdout",
     "output_type": "stream",
     "text": [
      "Done\n",
      "Generating 89/5247\n"
     ]
    },
    {
     "name": "stderr",
     "output_type": "stream",
     "text": [
      "100%|██████████| 64/64 [00:04<00:00, 15.01it/s]\n",
      "100%|██████████| 128/128 [00:08<00:00, 14.24it/s]\n",
      "100%|██████████| 128/128 [00:10<00:00, 11.65it/s]\n",
      "100%|██████████| 256/256 [02:03<00:00,  2.07it/s]\n",
      "100%|██████████| 1/1 [00:00<00:00, 70.12it/s]\n",
      "100%|██████████| 1/1 [00:00<00:00, 19.33it/s]\n",
      "100%|██████████| 1/1 [00:00<00:00,  4.95it/s]\n"
     ]
    },
    {
     "name": "stdout",
     "output_type": "stream",
     "text": [
      "Done\n",
      "Generating 90/5247\n"
     ]
    },
    {
     "name": "stderr",
     "output_type": "stream",
     "text": [
      "100%|██████████| 64/64 [00:13<00:00,  4.67it/s]\n",
      "100%|██████████| 128/128 [00:27<00:00,  4.63it/s]\n",
      "100%|██████████| 128/128 [00:30<00:00,  4.21it/s]\n",
      "100%|██████████| 256/256 [01:51<00:00,  2.29it/s]\n",
      "100%|██████████| 1/1 [00:00<00:00, 94.28it/s]\n",
      "100%|██████████| 1/1 [00:00<00:00, 32.33it/s]\n",
      "100%|██████████| 1/1 [00:00<00:00,  7.08it/s]\n"
     ]
    },
    {
     "name": "stdout",
     "output_type": "stream",
     "text": [
      "Done\n",
      "Generating 91/5247\n"
     ]
    },
    {
     "name": "stderr",
     "output_type": "stream",
     "text": [
      "100%|██████████| 64/64 [00:13<00:00,  4.62it/s]\n",
      "100%|██████████| 128/128 [00:27<00:00,  4.68it/s]\n",
      "100%|██████████| 128/128 [00:29<00:00,  4.38it/s]\n",
      "100%|██████████| 256/256 [01:35<00:00,  2.68it/s]\n",
      "100%|██████████| 1/1 [00:00<00:00, 65.43it/s]\n",
      "100%|██████████| 1/1 [00:00<00:00, 28.93it/s]\n",
      "100%|██████████| 1/1 [00:00<00:00,  6.57it/s]\n"
     ]
    },
    {
     "name": "stdout",
     "output_type": "stream",
     "text": [
      "Done\n",
      "Generating 92/5247\n"
     ]
    },
    {
     "name": "stderr",
     "output_type": "stream",
     "text": [
      "100%|██████████| 64/64 [00:13<00:00,  4.74it/s]\n",
      "100%|██████████| 128/128 [00:27<00:00,  4.59it/s]\n",
      "100%|██████████| 128/128 [00:30<00:00,  4.26it/s]\n",
      "100%|██████████| 256/256 [01:54<00:00,  2.24it/s]\n",
      "100%|██████████| 1/1 [00:00<00:00, 64.67it/s]\n",
      "100%|██████████| 1/1 [00:00<00:00, 20.56it/s]\n",
      "100%|██████████| 1/1 [00:00<00:00,  5.12it/s]\n"
     ]
    },
    {
     "name": "stdout",
     "output_type": "stream",
     "text": [
      "Done\n",
      "Generating 93/5247\n"
     ]
    },
    {
     "name": "stderr",
     "output_type": "stream",
     "text": [
      "100%|██████████| 64/64 [00:04<00:00, 14.93it/s]\n",
      "100%|██████████| 128/128 [00:09<00:00, 14.15it/s]\n",
      "100%|██████████| 128/128 [00:10<00:00, 12.32it/s]\n",
      "100%|██████████| 256/256 [00:46<00:00,  5.50it/s]\n",
      "100%|██████████| 1/1 [00:00<00:00, 75.97it/s]\n",
      "100%|██████████| 1/1 [00:00<00:00, 30.88it/s]\n",
      "100%|██████████| 1/1 [00:00<00:00,  7.20it/s]\n"
     ]
    },
    {
     "name": "stdout",
     "output_type": "stream",
     "text": [
      "Done\n",
      "Generating 94/5247\n"
     ]
    },
    {
     "name": "stderr",
     "output_type": "stream",
     "text": [
      "100%|██████████| 64/64 [00:04<00:00, 14.81it/s]\n",
      "100%|██████████| 128/128 [00:08<00:00, 14.26it/s]\n",
      "100%|██████████| 128/128 [00:09<00:00, 13.12it/s]\n",
      "100%|██████████| 256/256 [00:41<00:00,  6.13it/s]\n",
      "100%|██████████| 1/1 [00:00<00:00, 90.46it/s]\n",
      "100%|██████████| 1/1 [00:00<00:00, 35.07it/s]\n",
      "100%|██████████| 1/1 [00:00<00:00,  8.07it/s]\n"
     ]
    },
    {
     "name": "stdout",
     "output_type": "stream",
     "text": [
      "Done\n",
      "Generating 95/5247\n"
     ]
    },
    {
     "name": "stderr",
     "output_type": "stream",
     "text": [
      "100%|██████████| 64/64 [00:04<00:00, 14.73it/s]\n",
      "100%|██████████| 128/128 [00:08<00:00, 14.38it/s]\n",
      "100%|██████████| 128/128 [00:10<00:00, 12.45it/s]\n",
      "100%|██████████| 256/256 [00:44<00:00,  5.69it/s]\n",
      "100%|██████████| 1/1 [00:00<00:00, 55.67it/s]\n",
      "100%|██████████| 1/1 [00:00<00:00, 24.51it/s]\n",
      "100%|██████████| 1/1 [00:00<00:00,  5.91it/s]\n"
     ]
    },
    {
     "name": "stdout",
     "output_type": "stream",
     "text": [
      "Done\n",
      "Generating 96/5247\n"
     ]
    },
    {
     "name": "stderr",
     "output_type": "stream",
     "text": [
      "100%|██████████| 64/64 [00:04<00:00, 14.98it/s]\n",
      "100%|██████████| 128/128 [00:08<00:00, 14.28it/s]\n",
      "100%|██████████| 128/128 [00:10<00:00, 12.14it/s]\n",
      "100%|██████████| 256/256 [00:51<00:00,  5.00it/s]\n",
      "100%|██████████| 1/1 [00:00<00:00, 68.03it/s]\n",
      "100%|██████████| 1/1 [00:00<00:00, 25.69it/s]\n",
      "100%|██████████| 1/1 [00:00<00:00,  5.83it/s]\n"
     ]
    },
    {
     "name": "stdout",
     "output_type": "stream",
     "text": [
      "Done\n",
      "Generating 97/5247\n"
     ]
    },
    {
     "name": "stderr",
     "output_type": "stream",
     "text": [
      "100%|██████████| 64/64 [00:04<00:00, 14.78it/s]\n",
      "100%|██████████| 128/128 [00:08<00:00, 14.41it/s]\n",
      "100%|██████████| 128/128 [00:10<00:00, 12.25it/s]\n",
      "100%|██████████| 256/256 [01:03<00:00,  4.02it/s]\n",
      "100%|██████████| 1/1 [00:00<00:00, 74.46it/s]\n",
      "100%|██████████| 1/1 [00:00<00:00, 24.01it/s]\n",
      "100%|██████████| 1/1 [00:00<00:00,  6.15it/s]\n"
     ]
    },
    {
     "name": "stdout",
     "output_type": "stream",
     "text": [
      "Done\n",
      "Generating 98/5247\n"
     ]
    },
    {
     "name": "stderr",
     "output_type": "stream",
     "text": [
      "100%|██████████| 64/64 [00:12<00:00,  5.16it/s]\n",
      "100%|██████████| 128/128 [00:26<00:00,  4.86it/s]\n",
      "100%|██████████| 128/128 [00:31<00:00,  4.04it/s]\n",
      "100%|██████████| 256/256 [01:54<00:00,  2.23it/s]\n",
      "100%|██████████| 1/1 [00:00<00:00, 51.33it/s]\n",
      "100%|██████████| 1/1 [00:00<00:00, 29.48it/s]\n",
      "100%|██████████| 1/1 [00:00<00:00,  7.58it/s]\n"
     ]
    },
    {
     "name": "stdout",
     "output_type": "stream",
     "text": [
      "Done\n",
      "Generating 99/5247\n"
     ]
    },
    {
     "name": "stderr",
     "output_type": "stream",
     "text": [
      "100%|██████████| 64/64 [00:12<00:00,  5.16it/s]\n",
      "100%|██████████| 128/128 [00:26<00:00,  4.80it/s]\n",
      "100%|██████████| 128/128 [00:29<00:00,  4.34it/s]\n",
      "100%|██████████| 256/256 [01:40<00:00,  2.55it/s]\n",
      "100%|██████████| 1/1 [00:00<00:00, 84.22it/s]\n",
      "100%|██████████| 1/1 [00:00<00:00, 26.65it/s]\n",
      "100%|██████████| 1/1 [00:00<00:00,  6.89it/s]\n"
     ]
    },
    {
     "name": "stdout",
     "output_type": "stream",
     "text": [
      "Done\n",
      "Generating 100/5247\n"
     ]
    },
    {
     "name": "stderr",
     "output_type": "stream",
     "text": [
      "100%|██████████| 64/64 [00:12<00:00,  5.20it/s]\n",
      "100%|██████████| 128/128 [00:25<00:00,  4.98it/s]\n",
      "100%|██████████| 128/128 [00:30<00:00,  4.25it/s]\n",
      "100%|██████████| 256/256 [01:45<00:00,  2.43it/s]\n",
      "100%|██████████| 1/1 [00:00<00:00, 95.37it/s]\n",
      "100%|██████████| 1/1 [00:00<00:00, 26.80it/s]\n",
      "100%|██████████| 1/1 [00:00<00:00,  6.90it/s]\n"
     ]
    },
    {
     "name": "stdout",
     "output_type": "stream",
     "text": [
      "Done\n",
      "Generating 101/5247\n"
     ]
    },
    {
     "name": "stderr",
     "output_type": "stream",
     "text": [
      "100%|██████████| 64/64 [00:12<00:00,  5.12it/s]\n",
      "100%|██████████| 128/128 [00:26<00:00,  4.90it/s]\n",
      "100%|██████████| 128/128 [00:30<00:00,  4.14it/s]\n",
      "100%|██████████| 256/256 [01:49<00:00,  2.33it/s]\n",
      "100%|██████████| 1/1 [00:00<00:00, 40.17it/s]\n",
      "100%|██████████| 1/1 [00:00<00:00, 18.90it/s]\n",
      "100%|██████████| 1/1 [00:00<00:00,  5.61it/s]\n"
     ]
    },
    {
     "name": "stdout",
     "output_type": "stream",
     "text": [
      "Done\n",
      "Generating 102/5247\n"
     ]
    },
    {
     "name": "stderr",
     "output_type": "stream",
     "text": [
      "100%|██████████| 64/64 [00:04<00:00, 14.84it/s]\n",
      "100%|██████████| 128/128 [00:08<00:00, 14.38it/s]\n",
      "100%|██████████| 128/128 [00:09<00:00, 13.73it/s]\n",
      "100%|██████████| 256/256 [00:30<00:00,  8.47it/s]\n",
      "100%|██████████| 1/1 [00:00<00:00, 134.87it/s]\n",
      "100%|██████████| 1/1 [00:00<00:00, 39.77it/s]\n",
      "100%|██████████| 1/1 [00:00<00:00, 10.78it/s]\n"
     ]
    },
    {
     "name": "stdout",
     "output_type": "stream",
     "text": [
      "Done\n",
      "Generating 103/5247\n"
     ]
    },
    {
     "name": "stderr",
     "output_type": "stream",
     "text": [
      "100%|██████████| 64/64 [00:04<00:00, 14.94it/s]\n",
      "100%|██████████| 128/128 [00:08<00:00, 14.36it/s]\n",
      "100%|██████████| 128/128 [00:10<00:00, 11.98it/s]\n",
      "100%|██████████| 256/256 [01:03<00:00,  4.04it/s]\n",
      "100%|██████████| 1/1 [00:00<00:00, 70.66it/s]\n",
      "100%|██████████| 1/1 [00:00<00:00, 26.98it/s]\n",
      "100%|██████████| 1/1 [00:00<00:00,  6.12it/s]\n"
     ]
    },
    {
     "name": "stdout",
     "output_type": "stream",
     "text": [
      "Done\n",
      "Generating 104/5247\n"
     ]
    },
    {
     "name": "stderr",
     "output_type": "stream",
     "text": [
      "100%|██████████| 64/64 [00:04<00:00, 14.97it/s]\n",
      "100%|██████████| 128/128 [00:08<00:00, 14.58it/s]\n",
      "100%|██████████| 128/128 [00:09<00:00, 13.14it/s]\n",
      "100%|██████████| 256/256 [00:44<00:00,  5.72it/s]\n",
      "100%|██████████| 1/1 [00:00<00:00, 101.83it/s]\n",
      "100%|██████████| 1/1 [00:00<00:00, 37.55it/s]\n",
      "100%|██████████| 1/1 [00:00<00:00,  7.66it/s]\n"
     ]
    },
    {
     "name": "stdout",
     "output_type": "stream",
     "text": [
      "Done\n",
      "Generating 105/5247\n"
     ]
    },
    {
     "name": "stderr",
     "output_type": "stream",
     "text": [
      "100%|██████████| 64/64 [00:04<00:00, 15.07it/s]\n",
      "100%|██████████| 128/128 [00:08<00:00, 14.52it/s]\n",
      "100%|██████████| 128/128 [00:09<00:00, 13.22it/s]\n",
      "100%|██████████| 256/256 [00:44<00:00,  5.72it/s]\n",
      "100%|██████████| 1/1 [00:00<00:00, 95.03it/s]\n",
      "100%|██████████| 1/1 [00:00<00:00, 30.86it/s]\n",
      "100%|██████████| 1/1 [00:00<00:00,  6.51it/s]\n"
     ]
    },
    {
     "name": "stdout",
     "output_type": "stream",
     "text": [
      "Done\n",
      "Generating 106/5247\n"
     ]
    },
    {
     "name": "stderr",
     "output_type": "stream",
     "text": [
      "100%|██████████| 64/64 [00:04<00:00, 15.09it/s]\n",
      "100%|██████████| 128/128 [00:08<00:00, 14.52it/s]\n",
      "100%|██████████| 128/128 [00:09<00:00, 13.22it/s]\n",
      "100%|██████████| 256/256 [00:46<00:00,  5.48it/s]\n",
      "100%|██████████| 1/1 [00:00<00:00, 51.46it/s]\n",
      "100%|██████████| 1/1 [00:00<00:00, 23.99it/s]\n",
      "100%|██████████| 1/1 [00:00<00:00,  7.05it/s]\n"
     ]
    },
    {
     "name": "stdout",
     "output_type": "stream",
     "text": [
      "Done\n",
      "Generating 107/5247\n"
     ]
    },
    {
     "name": "stderr",
     "output_type": "stream",
     "text": [
      "100%|██████████| 64/64 [00:12<00:00,  5.09it/s]\n",
      "100%|██████████| 128/128 [00:26<00:00,  4.81it/s]\n",
      "100%|██████████| 128/128 [00:32<00:00,  3.98it/s]\n",
      "100%|██████████| 256/256 [02:11<00:00,  1.94it/s]\n",
      "100%|██████████| 1/1 [00:00<00:00, 74.51it/s]\n",
      "100%|██████████| 1/1 [00:00<00:00, 24.45it/s]\n",
      "100%|██████████| 1/1 [00:00<00:00,  5.40it/s]\n"
     ]
    },
    {
     "name": "stdout",
     "output_type": "stream",
     "text": [
      "Done\n",
      "Generating 108/5247\n"
     ]
    },
    {
     "name": "stderr",
     "output_type": "stream",
     "text": [
      "100%|██████████| 64/64 [00:12<00:00,  5.03it/s]\n",
      "100%|██████████| 128/128 [00:27<00:00,  4.74it/s]\n",
      "100%|██████████| 128/128 [00:31<00:00,  4.12it/s]\n",
      "100%|██████████| 256/256 [01:58<00:00,  2.17it/s]\n",
      "100%|██████████| 1/1 [00:00<00:00, 90.78it/s]\n",
      "100%|██████████| 1/1 [00:00<00:00, 32.69it/s]\n",
      "100%|██████████| 1/1 [00:00<00:00,  6.51it/s]\n"
     ]
    },
    {
     "name": "stdout",
     "output_type": "stream",
     "text": [
      "Done\n",
      "Generating 109/5247\n"
     ]
    },
    {
     "name": "stderr",
     "output_type": "stream",
     "text": [
      "100%|██████████| 64/64 [00:12<00:00,  5.01it/s]\n",
      "100%|██████████| 128/128 [00:27<00:00,  4.71it/s]\n",
      "100%|██████████| 128/128 [00:32<00:00,  3.93it/s]\n",
      "100%|██████████| 256/256 [02:01<00:00,  2.12it/s]\n",
      "100%|██████████| 1/1 [00:00<00:00, 61.84it/s]\n",
      "100%|██████████| 1/1 [00:00<00:00, 22.70it/s]\n",
      "100%|██████████| 1/1 [00:00<00:00,  6.01it/s]\n"
     ]
    },
    {
     "name": "stdout",
     "output_type": "stream",
     "text": [
      "Done\n",
      "Generating 110/5247\n"
     ]
    },
    {
     "name": "stderr",
     "output_type": "stream",
     "text": [
      "100%|██████████| 64/64 [00:12<00:00,  5.08it/s]\n",
      "100%|██████████| 128/128 [00:27<00:00,  4.61it/s]\n",
      "100%|██████████| 128/128 [00:31<00:00,  4.12it/s]\n",
      "100%|██████████| 256/256 [01:36<00:00,  2.64it/s]\n",
      "100%|██████████| 1/1 [00:00<00:00, 91.08it/s]\n",
      "100%|██████████| 1/1 [00:00<00:00, 27.59it/s]\n",
      "100%|██████████| 1/1 [00:00<00:00,  6.96it/s]\n"
     ]
    },
    {
     "name": "stdout",
     "output_type": "stream",
     "text": [
      "Done\n",
      "Generating 111/5247\n"
     ]
    },
    {
     "name": "stderr",
     "output_type": "stream",
     "text": [
      "100%|██████████| 64/64 [00:04<00:00, 15.11it/s]\n",
      "100%|██████████| 128/128 [00:08<00:00, 14.42it/s]\n",
      "100%|██████████| 128/128 [00:09<00:00, 12.81it/s]\n",
      "100%|██████████| 256/256 [00:40<00:00,  6.26it/s]\n",
      "100%|██████████| 1/1 [00:00<00:00, 80.25it/s]\n",
      "100%|██████████| 1/1 [00:00<00:00, 20.76it/s]\n",
      "100%|██████████| 1/1 [00:00<00:00,  5.88it/s]\n"
     ]
    },
    {
     "name": "stdout",
     "output_type": "stream",
     "text": [
      "Done\n",
      "Generating 112/5247\n"
     ]
    },
    {
     "name": "stderr",
     "output_type": "stream",
     "text": [
      "100%|██████████| 64/64 [00:04<00:00, 14.98it/s]\n",
      "100%|██████████| 128/128 [00:08<00:00, 14.51it/s]\n",
      "100%|██████████| 128/128 [00:10<00:00, 12.74it/s]\n",
      "100%|██████████| 256/256 [00:45<00:00,  5.66it/s]\n",
      "100%|██████████| 1/1 [00:00<00:00, 78.37it/s]\n",
      "100%|██████████| 1/1 [00:00<00:00, 26.07it/s]\n",
      "100%|██████████| 1/1 [00:00<00:00,  6.18it/s]\n"
     ]
    },
    {
     "name": "stdout",
     "output_type": "stream",
     "text": [
      "Done\n",
      "Generating 113/5247\n"
     ]
    },
    {
     "name": "stderr",
     "output_type": "stream",
     "text": [
      "100%|██████████| 64/64 [00:04<00:00, 14.91it/s]\n",
      "100%|██████████| 128/128 [00:08<00:00, 14.58it/s]\n",
      "100%|██████████| 128/128 [00:10<00:00, 12.69it/s]\n",
      "100%|██████████| 256/256 [00:46<00:00,  5.55it/s]\n",
      "100%|██████████| 1/1 [00:00<00:00, 95.75it/s]\n",
      "100%|██████████| 1/1 [00:00<00:00, 31.93it/s]\n",
      "100%|██████████| 1/1 [00:00<00:00,  6.40it/s]\n"
     ]
    },
    {
     "name": "stdout",
     "output_type": "stream",
     "text": [
      "Done\n",
      "Generating 114/5247\n"
     ]
    },
    {
     "name": "stderr",
     "output_type": "stream",
     "text": [
      "100%|██████████| 64/64 [00:04<00:00, 14.97it/s]\n",
      "100%|██████████| 128/128 [00:08<00:00, 14.36it/s]\n",
      "100%|██████████| 128/128 [00:10<00:00, 12.48it/s]\n",
      "100%|██████████| 256/256 [00:46<00:00,  5.47it/s]\n",
      "100%|██████████| 1/1 [00:00<00:00, 62.80it/s]\n",
      "100%|██████████| 1/1 [00:00<00:00, 20.07it/s]\n",
      "100%|██████████| 1/1 [00:00<00:00,  5.60it/s]\n"
     ]
    },
    {
     "name": "stdout",
     "output_type": "stream",
     "text": [
      "Done\n",
      "Generating 115/5247\n"
     ]
    },
    {
     "name": "stderr",
     "output_type": "stream",
     "text": [
      "100%|██████████| 64/64 [00:04<00:00, 14.94it/s]\n",
      "100%|██████████| 128/128 [00:08<00:00, 14.49it/s]\n",
      "100%|██████████| 128/128 [00:10<00:00, 12.52it/s]\n",
      "100%|██████████| 256/256 [01:50<00:00,  2.32it/s]\n",
      "100%|██████████| 1/1 [00:00<00:00, 75.82it/s]\n",
      "100%|██████████| 1/1 [00:00<00:00, 30.92it/s]\n",
      "100%|██████████| 1/1 [00:00<00:00,  7.27it/s]\n"
     ]
    },
    {
     "name": "stdout",
     "output_type": "stream",
     "text": [
      "Done\n",
      "Generating 116/5247\n"
     ]
    },
    {
     "name": "stderr",
     "output_type": "stream",
     "text": [
      "100%|██████████| 64/64 [00:13<00:00,  4.67it/s]\n",
      "100%|██████████| 128/128 [00:28<00:00,  4.51it/s]\n",
      "100%|██████████| 128/128 [00:30<00:00,  4.25it/s]\n",
      "100%|██████████| 256/256 [01:43<00:00,  2.48it/s]\n",
      "100%|██████████| 1/1 [00:00<00:00, 91.41it/s]\n",
      "100%|██████████| 1/1 [00:00<00:00, 27.24it/s]\n",
      "100%|██████████| 1/1 [00:00<00:00,  6.70it/s]\n"
     ]
    },
    {
     "name": "stdout",
     "output_type": "stream",
     "text": [
      "Done\n",
      "Generating 117/5247\n"
     ]
    },
    {
     "name": "stderr",
     "output_type": "stream",
     "text": [
      "100%|██████████| 64/64 [00:13<00:00,  4.69it/s]\n",
      "100%|██████████| 128/128 [00:27<00:00,  4.57it/s]\n",
      "100%|██████████| 128/128 [00:30<00:00,  4.20it/s]\n",
      "100%|██████████| 256/256 [01:53<00:00,  2.25it/s]\n",
      "100%|██████████| 1/1 [00:00<00:00, 92.47it/s]\n",
      "100%|██████████| 1/1 [00:00<00:00, 35.57it/s]\n",
      "100%|██████████| 1/1 [00:00<00:00,  8.40it/s]\n"
     ]
    },
    {
     "name": "stdout",
     "output_type": "stream",
     "text": [
      "Done\n",
      "Generating 118/5247\n"
     ]
    },
    {
     "name": "stderr",
     "output_type": "stream",
     "text": [
      "100%|██████████| 64/64 [00:13<00:00,  4.79it/s]\n",
      "100%|██████████| 128/128 [00:28<00:00,  4.53it/s]\n",
      "100%|██████████| 128/128 [00:30<00:00,  4.18it/s]\n",
      "100%|██████████| 256/256 [01:00<00:00,  4.26it/s]\n",
      "100%|██████████| 1/1 [00:00<00:00, 82.16it/s]\n",
      "100%|██████████| 1/1 [00:00<00:00, 23.14it/s]\n",
      "100%|██████████| 1/1 [00:00<00:00,  5.51it/s]\n"
     ]
    },
    {
     "name": "stdout",
     "output_type": "stream",
     "text": [
      "Done\n",
      "Generating 119/5247\n"
     ]
    },
    {
     "name": "stderr",
     "output_type": "stream",
     "text": [
      "100%|██████████| 64/64 [00:04<00:00, 14.85it/s]\n",
      "100%|██████████| 128/128 [00:08<00:00, 14.43it/s]\n",
      "100%|██████████| 128/128 [00:09<00:00, 13.10it/s]\n",
      "100%|██████████| 256/256 [00:44<00:00,  5.79it/s]\n",
      "100%|██████████| 1/1 [00:00<00:00, 96.17it/s]\n",
      "100%|██████████| 1/1 [00:00<00:00, 32.69it/s]\n",
      "100%|██████████| 1/1 [00:00<00:00,  7.67it/s]\n"
     ]
    },
    {
     "name": "stdout",
     "output_type": "stream",
     "text": [
      "Done\n",
      "Generating 120/5247\n"
     ]
    },
    {
     "name": "stderr",
     "output_type": "stream",
     "text": [
      "100%|██████████| 64/64 [00:04<00:00, 14.92it/s]\n",
      "100%|██████████| 128/128 [00:08<00:00, 14.44it/s]\n",
      "100%|██████████| 128/128 [00:09<00:00, 13.19it/s]\n",
      "100%|██████████| 256/256 [00:44<00:00,  5.72it/s]\n",
      "100%|██████████| 1/1 [00:00<00:00, 96.62it/s]\n",
      "100%|██████████| 1/1 [00:00<00:00, 35.16it/s]\n",
      "100%|██████████| 1/1 [00:00<00:00,  7.41it/s]\n"
     ]
    },
    {
     "name": "stdout",
     "output_type": "stream",
     "text": [
      "Done\n",
      "Generating 121/5247\n"
     ]
    },
    {
     "name": "stderr",
     "output_type": "stream",
     "text": [
      "100%|██████████| 64/64 [00:04<00:00, 14.89it/s]\n",
      "100%|██████████| 128/128 [00:08<00:00, 14.49it/s]\n",
      "100%|██████████| 128/128 [00:10<00:00, 12.71it/s]\n",
      "100%|██████████| 256/256 [00:42<00:00,  6.08it/s]\n",
      "100%|██████████| 1/1 [00:00<00:00, 77.03it/s]\n",
      "100%|██████████| 1/1 [00:00<00:00, 29.97it/s]\n",
      "100%|██████████| 1/1 [00:00<00:00,  7.16it/s]\n"
     ]
    },
    {
     "name": "stdout",
     "output_type": "stream",
     "text": [
      "Done\n",
      "Generating 122/5247\n"
     ]
    },
    {
     "name": "stderr",
     "output_type": "stream",
     "text": [
      "100%|██████████| 64/64 [00:04<00:00, 15.06it/s]\n",
      "100%|██████████| 128/128 [00:08<00:00, 14.48it/s]\n",
      "100%|██████████| 128/128 [00:10<00:00, 12.70it/s]\n",
      "100%|██████████| 256/256 [01:28<00:00,  2.88it/s]\n",
      "100%|██████████| 1/1 [00:00<00:00, 73.34it/s]\n",
      "100%|██████████| 1/1 [00:00<00:00, 21.99it/s]\n",
      "100%|██████████| 1/1 [00:00<00:00,  5.39it/s]\n"
     ]
    },
    {
     "name": "stdout",
     "output_type": "stream",
     "text": [
      "Done\n",
      "Generating 123/5247\n"
     ]
    },
    {
     "name": "stderr",
     "output_type": "stream",
     "text": [
      "100%|██████████| 64/64 [00:11<00:00,  5.44it/s]\n",
      "100%|██████████| 128/128 [00:24<00:00,  5.23it/s]\n",
      "100%|██████████| 128/128 [00:27<00:00,  4.63it/s]\n",
      "100%|██████████| 256/256 [01:49<00:00,  2.33it/s]\n",
      "100%|██████████| 1/1 [00:00<00:00, 91.41it/s]\n",
      "100%|██████████| 1/1 [00:00<00:00, 36.44it/s]\n",
      "100%|██████████| 1/1 [00:00<00:00,  7.34it/s]\n"
     ]
    },
    {
     "name": "stdout",
     "output_type": "stream",
     "text": [
      "Done\n",
      "Generating 124/5247\n"
     ]
    },
    {
     "name": "stderr",
     "output_type": "stream",
     "text": [
      "100%|██████████| 64/64 [00:12<00:00,  5.23it/s]\n",
      "100%|██████████| 128/128 [00:26<00:00,  4.78it/s]\n",
      "100%|██████████| 128/128 [00:31<00:00,  4.05it/s]\n",
      "100%|██████████| 256/256 [01:00<00:00,  4.26it/s]\n",
      "100%|██████████| 1/1 [00:00<00:00, 65.51it/s]\n",
      "100%|██████████| 1/1 [00:00<00:00, 19.66it/s]\n",
      "100%|██████████| 1/1 [00:00<00:00,  4.84it/s]\n"
     ]
    },
    {
     "name": "stdout",
     "output_type": "stream",
     "text": [
      "Done\n",
      "Generating 125/5247\n"
     ]
    },
    {
     "name": "stderr",
     "output_type": "stream",
     "text": [
      "100%|██████████| 64/64 [00:04<00:00, 14.99it/s]\n",
      "100%|██████████| 128/128 [00:08<00:00, 14.48it/s]\n",
      "100%|██████████| 128/128 [00:10<00:00, 12.68it/s]\n",
      "100%|██████████| 256/256 [00:42<00:00,  6.05it/s]\n",
      "100%|██████████| 1/1 [00:00<00:00, 80.13it/s]\n",
      "100%|██████████| 1/1 [00:00<00:00, 25.07it/s]\n",
      "100%|██████████| 1/1 [00:00<00:00,  5.94it/s]\n"
     ]
    },
    {
     "name": "stdout",
     "output_type": "stream",
     "text": [
      "Done\n",
      "Generating 126/5247\n"
     ]
    },
    {
     "name": "stderr",
     "output_type": "stream",
     "text": [
      "100%|██████████| 64/64 [00:04<00:00, 15.09it/s]\n",
      "100%|██████████| 128/128 [00:08<00:00, 14.47it/s]\n",
      "100%|██████████| 128/128 [00:10<00:00, 12.70it/s]\n",
      "100%|██████████| 256/256 [01:01<00:00,  4.17it/s]\n",
      "100%|██████████| 1/1 [00:00<00:00, 77.03it/s]\n",
      "100%|██████████| 1/1 [00:00<00:00, 28.23it/s]\n",
      "100%|██████████| 1/1 [00:00<00:00,  6.50it/s]\n"
     ]
    },
    {
     "name": "stdout",
     "output_type": "stream",
     "text": [
      "Done\n",
      "Generating 127/5247\n"
     ]
    },
    {
     "name": "stderr",
     "output_type": "stream",
     "text": [
      "100%|██████████| 64/64 [00:13<00:00,  4.65it/s]\n",
      "100%|██████████| 128/128 [00:28<00:00,  4.48it/s]\n",
      "100%|██████████| 128/128 [00:31<00:00,  4.09it/s]\n",
      "100%|██████████| 256/256 [02:01<00:00,  2.11it/s]\n",
      "100%|██████████| 1/1 [00:00<00:00, 77.76it/s]\n",
      "100%|██████████| 1/1 [00:00<00:00, 30.13it/s]\n",
      "100%|██████████| 1/1 [00:00<00:00,  6.73it/s]\n"
     ]
    },
    {
     "name": "stdout",
     "output_type": "stream",
     "text": [
      "Done\n",
      "Generating 128/5247\n"
     ]
    },
    {
     "name": "stderr",
     "output_type": "stream",
     "text": [
      "100%|██████████| 64/64 [00:13<00:00,  4.63it/s]\n",
      "100%|██████████| 128/128 [00:28<00:00,  4.44it/s]\n",
      "100%|██████████| 128/128 [00:31<00:00,  4.09it/s]\n",
      "100%|██████████| 256/256 [01:45<00:00,  2.42it/s]\n",
      "100%|██████████| 1/1 [00:00<00:00, 91.04it/s]\n",
      "100%|██████████| 1/1 [00:00<00:00, 23.49it/s]\n",
      "100%|██████████| 1/1 [00:00<00:00,  5.29it/s]\n"
     ]
    },
    {
     "name": "stdout",
     "output_type": "stream",
     "text": [
      "Done\n",
      "Generating 129/5247\n"
     ]
    },
    {
     "name": "stderr",
     "output_type": "stream",
     "text": [
      "100%|██████████| 64/64 [00:13<00:00,  4.64it/s]\n",
      "100%|██████████| 128/128 [00:28<00:00,  4.44it/s]\n",
      "100%|██████████| 128/128 [00:31<00:00,  4.12it/s]\n",
      "100%|██████████| 256/256 [01:41<00:00,  2.53it/s]\n",
      "100%|██████████| 1/1 [00:00<00:00, 95.83it/s]\n",
      "100%|██████████| 1/1 [00:00<00:00, 28.95it/s]\n",
      "100%|██████████| 1/1 [00:00<00:00,  6.25it/s]\n"
     ]
    },
    {
     "name": "stdout",
     "output_type": "stream",
     "text": [
      "Done\n",
      "Generating 130/5247\n"
     ]
    },
    {
     "name": "stderr",
     "output_type": "stream",
     "text": [
      "100%|██████████| 64/64 [00:04<00:00, 14.98it/s]\n",
      "100%|██████████| 128/128 [00:08<00:00, 14.35it/s]\n",
      "100%|██████████| 128/128 [00:10<00:00, 12.57it/s]\n",
      "100%|██████████| 256/256 [00:46<00:00,  5.53it/s]\n",
      "100%|██████████| 1/1 [00:00<00:00, 81.73it/s]\n",
      "100%|██████████| 1/1 [00:00<00:00, 26.04it/s]\n",
      "100%|██████████| 1/1 [00:00<00:00,  6.12it/s]\n"
     ]
    },
    {
     "name": "stdout",
     "output_type": "stream",
     "text": [
      "Done\n",
      "Generating 131/5247\n"
     ]
    },
    {
     "name": "stderr",
     "output_type": "stream",
     "text": [
      "100%|██████████| 64/64 [00:04<00:00, 14.91it/s]\n",
      "100%|██████████| 128/128 [00:08<00:00, 14.37it/s]\n",
      "100%|██████████| 128/128 [00:10<00:00, 12.50it/s]\n",
      "100%|██████████| 256/256 [00:57<00:00,  4.42it/s]\n",
      "100%|██████████| 1/1 [00:00<00:00, 75.90it/s]\n",
      "100%|██████████| 1/1 [00:00<00:00, 31.94it/s]\n",
      "100%|██████████| 1/1 [00:00<00:00,  6.06it/s]\n"
     ]
    },
    {
     "name": "stdout",
     "output_type": "stream",
     "text": [
      "Done\n",
      "Generating 132/5247\n"
     ]
    },
    {
     "name": "stderr",
     "output_type": "stream",
     "text": [
      "100%|██████████| 64/64 [00:04<00:00, 14.84it/s]\n",
      "100%|██████████| 128/128 [00:08<00:00, 14.43it/s]\n",
      "100%|██████████| 128/128 [00:11<00:00, 11.54it/s]\n",
      "100%|██████████| 256/256 [00:55<00:00,  4.59it/s]\n",
      "100%|██████████| 1/1 [00:00<00:00, 59.87it/s]\n",
      "100%|██████████| 1/1 [00:00<00:00, 19.16it/s]\n",
      "100%|██████████| 1/1 [00:00<00:00,  5.20it/s]\n"
     ]
    },
    {
     "name": "stdout",
     "output_type": "stream",
     "text": [
      "Done\n",
      "Generating 133/5247\n"
     ]
    },
    {
     "name": "stderr",
     "output_type": "stream",
     "text": [
      "100%|██████████| 64/64 [00:04<00:00, 14.76it/s]\n",
      "100%|██████████| 128/128 [00:08<00:00, 14.38it/s]\n",
      "100%|██████████| 128/128 [00:09<00:00, 13.06it/s]\n",
      "100%|██████████| 256/256 [00:40<00:00,  6.29it/s]\n",
      "100%|██████████| 1/1 [00:00<00:00, 94.17it/s]\n",
      "100%|██████████| 1/1 [00:00<00:00, 28.61it/s]\n",
      "100%|██████████| 1/1 [00:00<00:00,  6.56it/s]\n"
     ]
    },
    {
     "name": "stdout",
     "output_type": "stream",
     "text": [
      "Done\n",
      "Generating 134/5247\n"
     ]
    },
    {
     "name": "stderr",
     "output_type": "stream",
     "text": [
      "100%|██████████| 64/64 [00:04<00:00, 14.95it/s]\n",
      "100%|██████████| 128/128 [00:08<00:00, 14.48it/s]\n",
      "100%|██████████| 128/128 [00:14<00:00,  8.54it/s]\n",
      "100%|██████████| 256/256 [01:20<00:00,  3.16it/s]\n",
      "100%|██████████| 1/1 [00:00<00:00, 94.12it/s]\n",
      "100%|██████████| 1/1 [00:00<00:00, 29.06it/s]\n",
      "100%|██████████| 1/1 [00:00<00:00,  6.88it/s]\n"
     ]
    },
    {
     "name": "stdout",
     "output_type": "stream",
     "text": [
      "Done\n",
      "Generating 135/5247\n"
     ]
    },
    {
     "name": "stderr",
     "output_type": "stream",
     "text": [
      "100%|██████████| 64/64 [00:09<00:00,  6.44it/s]\n",
      "100%|██████████| 128/128 [00:22<00:00,  5.67it/s]\n",
      "100%|██████████| 128/128 [00:29<00:00,  4.38it/s]\n",
      "100%|██████████| 256/256 [01:30<00:00,  2.82it/s]\n",
      "100%|██████████| 1/1 [00:00<00:00, 78.36it/s]\n",
      "100%|██████████| 1/1 [00:00<00:00, 25.72it/s]\n",
      "100%|██████████| 1/1 [00:00<00:00,  6.77it/s]\n"
     ]
    },
    {
     "name": "stdout",
     "output_type": "stream",
     "text": [
      "Done\n",
      "Generating 136/5247\n"
     ]
    },
    {
     "name": "stderr",
     "output_type": "stream",
     "text": [
      "100%|██████████| 64/64 [00:04<00:00, 15.01it/s]\n",
      "100%|██████████| 128/128 [00:08<00:00, 14.35it/s]\n",
      "100%|██████████| 128/128 [00:09<00:00, 13.26it/s]\n",
      "100%|██████████| 256/256 [00:41<00:00,  6.16it/s]\n",
      "100%|██████████| 1/1 [00:00<00:00, 93.66it/s]\n",
      "100%|██████████| 1/1 [00:00<00:00, 30.94it/s]\n",
      "100%|██████████| 1/1 [00:00<00:00,  7.12it/s]\n"
     ]
    },
    {
     "name": "stdout",
     "output_type": "stream",
     "text": [
      "Done\n",
      "Generating 137/5247\n"
     ]
    },
    {
     "name": "stderr",
     "output_type": "stream",
     "text": [
      "100%|██████████| 64/64 [00:04<00:00, 14.99it/s]\n",
      "100%|██████████| 128/128 [00:08<00:00, 14.25it/s]\n",
      "100%|██████████| 128/128 [00:10<00:00, 12.32it/s]\n",
      "100%|██████████| 256/256 [00:50<00:00,  5.10it/s]\n",
      "100%|██████████| 1/1 [00:00<00:00, 70.99it/s]\n",
      "100%|██████████| 1/1 [00:00<00:00, 29.22it/s]\n",
      "100%|██████████| 1/1 [00:00<00:00,  7.13it/s]\n"
     ]
    },
    {
     "name": "stdout",
     "output_type": "stream",
     "text": [
      "Done\n",
      "Generating 138/5247\n"
     ]
    },
    {
     "name": "stderr",
     "output_type": "stream",
     "text": [
      "100%|██████████| 64/64 [00:04<00:00, 15.01it/s]\n",
      "100%|██████████| 128/128 [00:13<00:00,  9.20it/s]\n",
      "100%|██████████| 128/128 [00:28<00:00,  4.46it/s]\n",
      "100%|██████████| 256/256 [01:46<00:00,  2.41it/s]\n",
      "100%|██████████| 1/1 [00:00<00:00, 88.55it/s]\n",
      "100%|██████████| 1/1 [00:00<00:00, 30.41it/s]\n",
      "100%|██████████| 1/1 [00:00<00:00,  7.36it/s]\n"
     ]
    },
    {
     "name": "stdout",
     "output_type": "stream",
     "text": [
      "Done\n",
      "Generating 139/5247\n"
     ]
    },
    {
     "name": "stderr",
     "output_type": "stream",
     "text": [
      "100%|██████████| 64/64 [00:12<00:00,  5.08it/s]\n",
      "100%|██████████| 128/128 [00:26<00:00,  4.90it/s]\n",
      "100%|██████████| 128/128 [00:31<00:00,  4.05it/s]\n",
      "100%|██████████| 256/256 [01:56<00:00,  2.20it/s]\n",
      "100%|██████████| 1/1 [00:00<00:00, 74.69it/s]\n",
      "100%|██████████| 1/1 [00:00<00:00, 27.79it/s]\n",
      "100%|██████████| 1/1 [00:00<00:00,  7.32it/s]\n"
     ]
    },
    {
     "name": "stdout",
     "output_type": "stream",
     "text": [
      "Done\n",
      "Generating 140/5247\n"
     ]
    },
    {
     "name": "stderr",
     "output_type": "stream",
     "text": [
      "100%|██████████| 64/64 [00:12<00:00,  5.10it/s]\n",
      "100%|██████████| 128/128 [00:26<00:00,  4.75it/s]\n",
      "100%|██████████| 128/128 [00:31<00:00,  4.10it/s]\n",
      "100%|██████████| 256/256 [02:14<00:00,  1.90it/s]\n",
      "100%|██████████| 1/1 [00:00<00:00, 36.08it/s]\n",
      "100%|██████████| 1/1 [00:00<00:00, 16.67it/s]\n",
      "100%|██████████| 1/1 [00:00<00:00,  4.20it/s]\n"
     ]
    },
    {
     "name": "stdout",
     "output_type": "stream",
     "text": [
      "Done\n",
      "Generating 141/5247\n"
     ]
    },
    {
     "name": "stderr",
     "output_type": "stream",
     "text": [
      "100%|██████████| 64/64 [00:12<00:00,  5.21it/s]\n",
      "100%|██████████| 128/128 [00:26<00:00,  4.75it/s]\n",
      "100%|██████████| 128/128 [00:32<00:00,  3.97it/s]\n",
      "100%|██████████| 256/256 [02:14<00:00,  1.91it/s]\n",
      "100%|██████████| 1/1 [00:00<00:00, 67.90it/s]\n",
      "100%|██████████| 1/1 [00:00<00:00, 25.31it/s]\n",
      "100%|██████████| 1/1 [00:00<00:00,  5.99it/s]\n"
     ]
    },
    {
     "name": "stdout",
     "output_type": "stream",
     "text": [
      "Done\n",
      "Generating 142/5247\n"
     ]
    },
    {
     "name": "stderr",
     "output_type": "stream",
     "text": [
      "100%|██████████| 64/64 [00:04<00:00, 14.97it/s]\n",
      "100%|██████████| 128/128 [00:08<00:00, 14.33it/s]\n",
      "100%|██████████| 128/128 [00:10<00:00, 12.69it/s]\n",
      "100%|██████████| 256/256 [00:45<00:00,  5.67it/s]\n",
      "100%|██████████| 1/1 [00:00<00:00, 66.66it/s]\n",
      "100%|██████████| 1/1 [00:00<00:00, 20.40it/s]\n",
      "100%|██████████| 1/1 [00:00<00:00,  5.58it/s]\n"
     ]
    },
    {
     "name": "stdout",
     "output_type": "stream",
     "text": [
      "Done\n",
      "Generating 143/5247\n"
     ]
    },
    {
     "name": "stderr",
     "output_type": "stream",
     "text": [
      "100%|██████████| 64/64 [00:04<00:00, 15.16it/s]\n",
      "100%|██████████| 128/128 [00:08<00:00, 14.51it/s]\n",
      "100%|██████████| 128/128 [00:09<00:00, 13.24it/s]\n",
      "100%|██████████| 256/256 [00:46<00:00,  5.51it/s]\n",
      "100%|██████████| 1/1 [00:00<00:00, 96.65it/s]\n",
      "100%|██████████| 1/1 [00:00<00:00, 29.90it/s]\n",
      "100%|██████████| 1/1 [00:00<00:00,  6.71it/s]\n"
     ]
    },
    {
     "name": "stdout",
     "output_type": "stream",
     "text": [
      "Done\n",
      "Generating 144/5247\n"
     ]
    },
    {
     "name": "stderr",
     "output_type": "stream",
     "text": [
      "100%|██████████| 64/64 [00:04<00:00, 15.06it/s]\n",
      "100%|██████████| 128/128 [00:08<00:00, 14.73it/s]\n",
      "100%|██████████| 128/128 [00:09<00:00, 13.31it/s]\n",
      "100%|██████████| 256/256 [00:41<00:00,  6.15it/s]\n",
      "100%|██████████| 1/1 [00:00<00:00, 87.26it/s]\n",
      "100%|██████████| 1/1 [00:00<00:00, 32.59it/s]\n",
      "100%|██████████| 1/1 [00:00<00:00,  7.61it/s]\n"
     ]
    },
    {
     "name": "stdout",
     "output_type": "stream",
     "text": [
      "Done\n",
      "Generating 145/5247\n"
     ]
    },
    {
     "name": "stderr",
     "output_type": "stream",
     "text": [
      "100%|██████████| 64/64 [00:04<00:00, 14.92it/s]\n",
      "100%|██████████| 128/128 [00:08<00:00, 14.34it/s]\n",
      "100%|██████████| 128/128 [00:09<00:00, 13.23it/s]\n",
      "100%|██████████| 256/256 [00:38<00:00,  6.57it/s]\n",
      "100%|██████████| 1/1 [00:00<00:00, 80.05it/s]\n",
      "100%|██████████| 1/1 [00:00<00:00, 28.37it/s]\n",
      "100%|██████████| 1/1 [00:00<00:00,  7.15it/s]\n"
     ]
    },
    {
     "name": "stdout",
     "output_type": "stream",
     "text": [
      "Done\n",
      "Generating 146/5247\n"
     ]
    },
    {
     "name": "stderr",
     "output_type": "stream",
     "text": [
      "100%|██████████| 64/64 [00:04<00:00, 15.05it/s]\n",
      "100%|██████████| 128/128 [00:08<00:00, 14.38it/s]\n",
      "100%|██████████| 128/128 [00:10<00:00, 12.67it/s]\n",
      "100%|██████████| 256/256 [00:46<00:00,  5.50it/s]\n",
      "100%|██████████| 1/1 [00:00<00:00, 91.72it/s]\n",
      "100%|██████████| 1/1 [00:00<00:00, 37.52it/s]\n",
      "100%|██████████| 1/1 [00:00<00:00,  7.46it/s]\n"
     ]
    },
    {
     "name": "stdout",
     "output_type": "stream",
     "text": [
      "Done\n",
      "Generating 147/5247\n"
     ]
    },
    {
     "name": "stderr",
     "output_type": "stream",
     "text": [
      "100%|██████████| 64/64 [00:04<00:00, 15.06it/s]\n",
      "100%|██████████| 128/128 [00:08<00:00, 14.58it/s]\n",
      "100%|██████████| 128/128 [00:16<00:00,  7.63it/s]\n",
      "100%|██████████| 256/256 [01:40<00:00,  2.56it/s]\n",
      "100%|██████████| 1/1 [00:00<00:00, 88.35it/s]\n",
      "100%|██████████| 1/1 [00:00<00:00, 34.15it/s]\n",
      "100%|██████████| 1/1 [00:00<00:00,  8.16it/s]\n"
     ]
    },
    {
     "name": "stdout",
     "output_type": "stream",
     "text": [
      "Done\n",
      "Generating 148/5247\n"
     ]
    },
    {
     "name": "stderr",
     "output_type": "stream",
     "text": [
      "100%|██████████| 64/64 [00:13<00:00,  4.74it/s]\n",
      "100%|██████████| 128/128 [00:26<00:00,  4.83it/s]\n",
      "100%|██████████| 128/128 [00:30<00:00,  4.21it/s]\n",
      "100%|██████████| 256/256 [01:44<00:00,  2.44it/s]\n",
      "100%|██████████| 1/1 [00:00<00:00, 71.42it/s]\n",
      "100%|██████████| 1/1 [00:00<00:00, 23.05it/s]\n",
      "100%|██████████| 1/1 [00:00<00:00,  5.65it/s]\n"
     ]
    },
    {
     "name": "stdout",
     "output_type": "stream",
     "text": [
      "Done\n",
      "Generating 149/5247\n"
     ]
    },
    {
     "name": "stderr",
     "output_type": "stream",
     "text": [
      "100%|██████████| 64/64 [00:13<00:00,  4.61it/s]\n",
      "100%|██████████| 128/128 [00:28<00:00,  4.50it/s]\n",
      "100%|██████████| 128/128 [00:31<00:00,  4.08it/s]\n",
      "100%|██████████| 256/256 [01:52<00:00,  2.28it/s]\n",
      "100%|██████████| 1/1 [00:00<00:00, 75.33it/s]\n",
      "100%|██████████| 1/1 [00:00<00:00, 26.05it/s]\n",
      "100%|██████████| 1/1 [00:00<00:00,  6.95it/s]\n"
     ]
    },
    {
     "name": "stdout",
     "output_type": "stream",
     "text": [
      "Done\n",
      "Generating 150/5247\n"
     ]
    },
    {
     "name": "stderr",
     "output_type": "stream",
     "text": [
      "100%|██████████| 64/64 [00:13<00:00,  4.59it/s]\n",
      "100%|██████████| 128/128 [00:28<00:00,  4.47it/s]\n",
      "100%|██████████| 128/128 [00:26<00:00,  4.85it/s]\n",
      "100%|██████████| 256/256 [01:07<00:00,  3.79it/s]\n",
      "100%|██████████| 1/1 [00:00<00:00, 70.72it/s]\n",
      "100%|██████████| 1/1 [00:00<00:00, 24.32it/s]\n",
      "100%|██████████| 1/1 [00:00<00:00,  4.92it/s]\n"
     ]
    },
    {
     "name": "stdout",
     "output_type": "stream",
     "text": [
      "Done\n",
      "Generating 151/5247\n"
     ]
    },
    {
     "name": "stderr",
     "output_type": "stream",
     "text": [
      "100%|██████████| 64/64 [00:04<00:00, 15.02it/s]\n",
      "100%|██████████| 128/128 [00:09<00:00, 14.13it/s]\n",
      "100%|██████████| 128/128 [00:10<00:00, 12.31it/s]\n",
      "100%|██████████| 256/256 [00:43<00:00,  5.90it/s]\n",
      "100%|██████████| 1/1 [00:00<00:00, 57.73it/s]\n",
      "100%|██████████| 1/1 [00:00<00:00, 21.35it/s]\n",
      "100%|██████████| 1/1 [00:00<00:00,  5.65it/s]\n"
     ]
    },
    {
     "name": "stdout",
     "output_type": "stream",
     "text": [
      "Done\n",
      "Generating 152/5247\n"
     ]
    },
    {
     "name": "stderr",
     "output_type": "stream",
     "text": [
      "100%|██████████| 64/64 [00:04<00:00, 14.92it/s]\n",
      "100%|██████████| 128/128 [00:08<00:00, 14.51it/s]\n",
      "100%|██████████| 128/128 [00:09<00:00, 13.98it/s]\n",
      "100%|██████████| 256/256 [00:26<00:00,  9.58it/s]\n",
      "100%|██████████| 1/1 [00:00<00:00, 132.75it/s]\n",
      "100%|██████████| 1/1 [00:00<00:00, 44.61it/s]\n",
      "100%|██████████| 1/1 [00:00<00:00, 10.84it/s]\n"
     ]
    },
    {
     "name": "stdout",
     "output_type": "stream",
     "text": [
      "Done\n",
      "Generating 153/5247\n"
     ]
    },
    {
     "name": "stderr",
     "output_type": "stream",
     "text": [
      "100%|██████████| 64/64 [00:04<00:00, 14.88it/s]\n",
      "100%|██████████| 128/128 [00:08<00:00, 14.39it/s]\n",
      "100%|██████████| 128/128 [00:09<00:00, 13.28it/s]\n",
      "100%|██████████| 256/256 [00:53<00:00,  4.79it/s]\n",
      "100%|██████████| 1/1 [00:00<00:00, 88.59it/s]\n",
      "100%|██████████| 1/1 [00:00<00:00, 34.75it/s]\n",
      "100%|██████████| 1/1 [00:00<00:00,  8.77it/s]\n"
     ]
    },
    {
     "name": "stdout",
     "output_type": "stream",
     "text": [
      "Done\n",
      "Generating 154/5247\n"
     ]
    },
    {
     "name": "stderr",
     "output_type": "stream",
     "text": [
      "100%|██████████| 64/64 [00:10<00:00,  5.84it/s]\n",
      "100%|██████████| 128/128 [00:22<00:00,  5.69it/s]\n",
      "100%|██████████| 128/128 [00:25<00:00,  5.04it/s]\n",
      "100%|██████████| 256/256 [01:18<00:00,  3.28it/s]\n",
      "100%|██████████| 1/1 [00:00<00:00, 97.16it/s]\n",
      "100%|██████████| 1/1 [00:00<00:00, 38.28it/s]\n",
      "100%|██████████| 1/1 [00:00<00:00,  9.18it/s]\n"
     ]
    },
    {
     "name": "stdout",
     "output_type": "stream",
     "text": [
      "Done\n",
      "Generating 155/5247\n"
     ]
    },
    {
     "name": "stderr",
     "output_type": "stream",
     "text": [
      "100%|██████████| 64/64 [00:12<00:00,  5.14it/s]\n",
      "100%|██████████| 128/128 [00:26<00:00,  4.74it/s]\n",
      "100%|██████████| 128/128 [00:31<00:00,  4.11it/s]\n",
      "100%|██████████| 256/256 [00:50<00:00,  5.06it/s]\n",
      "100%|██████████| 1/1 [00:00<00:00, 74.48it/s]\n",
      "100%|██████████| 1/1 [00:00<00:00, 25.18it/s]\n",
      "100%|██████████| 1/1 [00:00<00:00,  6.41it/s]\n"
     ]
    },
    {
     "name": "stdout",
     "output_type": "stream",
     "text": [
      "Done\n",
      "Generating 156/5247\n"
     ]
    },
    {
     "name": "stderr",
     "output_type": "stream",
     "text": [
      "100%|██████████| 64/64 [00:04<00:00, 14.95it/s]\n",
      "100%|██████████| 128/128 [00:08<00:00, 14.57it/s]\n",
      "100%|██████████| 128/128 [00:09<00:00, 13.27it/s]\n",
      "100%|██████████| 256/256 [00:40<00:00,  6.27it/s]\n",
      "100%|██████████| 1/1 [00:00<00:00, 95.98it/s]\n",
      "100%|██████████| 1/1 [00:00<00:00, 28.04it/s]\n",
      "100%|██████████| 1/1 [00:00<00:00,  6.60it/s]\n"
     ]
    },
    {
     "name": "stdout",
     "output_type": "stream",
     "text": [
      "Done\n",
      "Generating 157/5247\n"
     ]
    },
    {
     "name": "stderr",
     "output_type": "stream",
     "text": [
      "100%|██████████| 64/64 [00:04<00:00, 15.16it/s]\n",
      "100%|██████████| 128/128 [00:08<00:00, 14.53it/s]\n",
      "100%|██████████| 128/128 [00:10<00:00, 12.66it/s]\n",
      "100%|██████████| 256/256 [01:28<00:00,  2.89it/s]\n",
      "100%|██████████| 1/1 [00:00<00:00, 74.19it/s]\n",
      "100%|██████████| 1/1 [00:00<00:00, 23.34it/s]\n",
      "100%|██████████| 1/1 [00:00<00:00,  6.06it/s]\n"
     ]
    },
    {
     "name": "stdout",
     "output_type": "stream",
     "text": [
      "Done\n",
      "Generating 158/5247\n"
     ]
    },
    {
     "name": "stderr",
     "output_type": "stream",
     "text": [
      "100%|██████████| 64/64 [00:11<00:00,  5.54it/s]\n",
      "100%|██████████| 128/128 [00:24<00:00,  5.17it/s]\n",
      "100%|██████████| 128/128 [00:27<00:00,  4.69it/s]\n",
      "100%|██████████| 256/256 [01:45<00:00,  2.44it/s]\n",
      "100%|██████████| 1/1 [00:00<00:00, 92.84it/s]\n",
      "100%|██████████| 1/1 [00:00<00:00, 28.16it/s]\n",
      "100%|██████████| 1/1 [00:00<00:00,  6.12it/s]\n"
     ]
    },
    {
     "name": "stdout",
     "output_type": "stream",
     "text": [
      "Done\n",
      "Generating 159/5247\n"
     ]
    },
    {
     "name": "stderr",
     "output_type": "stream",
     "text": [
      "100%|██████████| 64/64 [00:13<00:00,  4.72it/s]\n",
      "100%|██████████| 128/128 [00:15<00:00,  8.27it/s]\n",
      "100%|██████████| 128/128 [00:09<00:00, 13.23it/s]\n",
      "100%|██████████| 256/256 [00:38<00:00,  6.58it/s]\n",
      "100%|██████████| 1/1 [00:00<00:00, 98.80it/s]\n",
      "100%|██████████| 1/1 [00:00<00:00, 29.52it/s]\n",
      "100%|██████████| 1/1 [00:00<00:00,  6.65it/s]\n"
     ]
    },
    {
     "name": "stdout",
     "output_type": "stream",
     "text": [
      "Done\n",
      "Generating 160/5247\n"
     ]
    },
    {
     "name": "stderr",
     "output_type": "stream",
     "text": [
      "100%|██████████| 64/64 [00:04<00:00, 14.98it/s]\n",
      "100%|██████████| 128/128 [00:08<00:00, 14.46it/s]\n",
      "100%|██████████| 128/128 [00:10<00:00, 12.52it/s]\n",
      "100%|██████████| 256/256 [00:45<00:00,  5.66it/s]\n",
      "100%|██████████| 1/1 [00:00<00:00, 73.48it/s]\n",
      "100%|██████████| 1/1 [00:00<00:00, 27.82it/s]\n",
      "100%|██████████| 1/1 [00:00<00:00,  6.57it/s]\n"
     ]
    },
    {
     "name": "stdout",
     "output_type": "stream",
     "text": [
      "Done\n",
      "Generating 161/5247\n"
     ]
    },
    {
     "name": "stderr",
     "output_type": "stream",
     "text": [
      "100%|██████████| 64/64 [00:04<00:00, 14.95it/s]\n",
      "100%|██████████| 128/128 [00:11<00:00, 10.92it/s]\n",
      "100%|██████████| 128/128 [00:28<00:00,  4.55it/s]\n",
      "100%|██████████| 256/256 [01:35<00:00,  2.67it/s]\n",
      "100%|██████████| 1/1 [00:00<00:00, 72.10it/s]\n",
      "100%|██████████| 1/1 [00:00<00:00, 23.59it/s]\n",
      "100%|██████████| 1/1 [00:00<00:00,  6.29it/s]\n"
     ]
    },
    {
     "name": "stdout",
     "output_type": "stream",
     "text": [
      "Done\n",
      "Generating 162/5247\n"
     ]
    },
    {
     "name": "stderr",
     "output_type": "stream",
     "text": [
      "100%|██████████| 64/64 [00:12<00:00,  4.96it/s]\n",
      "100%|██████████| 128/128 [00:26<00:00,  4.82it/s]\n",
      "100%|██████████| 128/128 [00:28<00:00,  4.43it/s]\n",
      "100%|██████████| 256/256 [01:47<00:00,  2.37it/s]\n",
      "100%|██████████| 1/1 [00:00<00:00, 73.84it/s]\n",
      "100%|██████████| 1/1 [00:00<00:00, 16.70it/s]\n",
      "100%|██████████| 1/1 [00:00<00:00,  5.83it/s]\n"
     ]
    },
    {
     "name": "stdout",
     "output_type": "stream",
     "text": [
      "Done\n",
      "Generating 163/5247\n"
     ]
    },
    {
     "name": "stderr",
     "output_type": "stream",
     "text": [
      "100%|██████████| 64/64 [00:13<00:00,  4.62it/s]\n",
      "100%|██████████| 128/128 [00:28<00:00,  4.49it/s]\n",
      "100%|██████████| 128/128 [00:30<00:00,  4.15it/s]\n",
      "100%|██████████| 256/256 [00:47<00:00,  5.41it/s]\n",
      "100%|██████████| 1/1 [00:00<00:00, 84.38it/s]\n",
      "100%|██████████| 1/1 [00:00<00:00, 27.06it/s]\n",
      "100%|██████████| 1/1 [00:00<00:00,  5.97it/s]\n"
     ]
    },
    {
     "name": "stdout",
     "output_type": "stream",
     "text": [
      "Done\n",
      "Generating 164/5247\n"
     ]
    },
    {
     "name": "stderr",
     "output_type": "stream",
     "text": [
      "100%|██████████| 64/64 [00:04<00:00, 15.01it/s]\n",
      "100%|██████████| 128/128 [00:08<00:00, 14.82it/s]\n",
      "100%|██████████| 128/128 [00:09<00:00, 12.88it/s]\n",
      "100%|██████████| 256/256 [00:46<00:00,  5.46it/s]\n",
      "100%|██████████| 1/1 [00:00<00:00, 83.78it/s]\n",
      "100%|██████████| 1/1 [00:00<00:00, 32.78it/s]\n",
      "100%|██████████| 1/1 [00:00<00:00,  6.98it/s]\n"
     ]
    },
    {
     "name": "stdout",
     "output_type": "stream",
     "text": [
      "Done\n",
      "Generating 165/5247\n"
     ]
    },
    {
     "name": "stderr",
     "output_type": "stream",
     "text": [
      "100%|██████████| 64/64 [00:04<00:00, 15.28it/s]\n",
      "100%|██████████| 128/128 [00:08<00:00, 14.93it/s]\n",
      "100%|██████████| 128/128 [00:09<00:00, 13.31it/s]\n",
      "100%|██████████| 256/256 [00:42<00:00,  5.97it/s]\n",
      "100%|██████████| 1/1 [00:00<00:00, 64.39it/s]\n",
      "100%|██████████| 1/1 [00:00<00:00, 26.15it/s]\n",
      "100%|██████████| 1/1 [00:00<00:00,  7.01it/s]\n"
     ]
    },
    {
     "name": "stdout",
     "output_type": "stream",
     "text": [
      "Done\n",
      "Generating 166/5247\n"
     ]
    },
    {
     "name": "stderr",
     "output_type": "stream",
     "text": [
      "100%|██████████| 64/64 [00:04<00:00, 15.36it/s]\n",
      "100%|██████████| 128/128 [00:08<00:00, 14.93it/s]\n",
      "100%|██████████| 128/128 [00:09<00:00, 13.69it/s]\n",
      "100%|██████████| 256/256 [00:44<00:00,  5.73it/s]\n",
      "100%|██████████| 1/1 [00:00<00:00, 90.03it/s]\n",
      "100%|██████████| 1/1 [00:00<00:00, 34.04it/s]\n",
      "100%|██████████| 1/1 [00:00<00:00,  8.89it/s]\n"
     ]
    },
    {
     "name": "stdout",
     "output_type": "stream",
     "text": [
      "Done\n",
      "Generating 167/5247\n"
     ]
    },
    {
     "name": "stderr",
     "output_type": "stream",
     "text": [
      "100%|██████████| 64/64 [00:04<00:00, 15.03it/s]\n",
      "100%|██████████| 128/128 [00:08<00:00, 14.55it/s]\n",
      "100%|██████████| 128/128 [00:09<00:00, 13.27it/s]\n",
      "100%|██████████| 256/256 [00:40<00:00,  6.31it/s]\n",
      "100%|██████████| 1/1 [00:00<00:00, 72.62it/s]\n",
      "100%|██████████| 1/1 [00:00<00:00, 25.24it/s]\n",
      "100%|██████████| 1/1 [00:00<00:00,  7.00it/s]\n"
     ]
    },
    {
     "name": "stdout",
     "output_type": "stream",
     "text": [
      "Done\n",
      "Generating 168/5247\n"
     ]
    },
    {
     "name": "stderr",
     "output_type": "stream",
     "text": [
      "100%|██████████| 64/64 [00:04<00:00, 15.05it/s]\n",
      "100%|██████████| 128/128 [00:08<00:00, 14.41it/s]\n",
      "100%|██████████| 128/128 [00:09<00:00, 12.81it/s]\n",
      "100%|██████████| 256/256 [00:40<00:00,  6.30it/s]\n",
      "100%|██████████| 1/1 [00:00<00:00, 76.45it/s]\n",
      "100%|██████████| 1/1 [00:00<00:00, 27.33it/s]\n",
      "100%|██████████| 1/1 [00:00<00:00,  7.10it/s]\n"
     ]
    },
    {
     "name": "stdout",
     "output_type": "stream",
     "text": [
      "Done\n",
      "Generating 169/5247\n"
     ]
    },
    {
     "name": "stderr",
     "output_type": "stream",
     "text": [
      "100%|██████████| 64/64 [00:04<00:00, 15.16it/s]\n",
      "100%|██████████| 128/128 [00:08<00:00, 14.54it/s]\n",
      "100%|██████████| 128/128 [00:09<00:00, 13.74it/s]\n",
      "100%|██████████| 256/256 [00:39<00:00,  6.53it/s]\n",
      "100%|██████████| 1/1 [00:00<00:00, 131.08it/s]\n",
      "100%|██████████| 1/1 [00:00<00:00, 40.27it/s]\n",
      "100%|██████████| 1/1 [00:00<00:00,  9.87it/s]\n"
     ]
    },
    {
     "name": "stdout",
     "output_type": "stream",
     "text": [
      "Done\n",
      "Generating 170/5247\n"
     ]
    },
    {
     "name": "stderr",
     "output_type": "stream",
     "text": [
      "100%|██████████| 64/64 [00:04<00:00, 14.94it/s]\n",
      "100%|██████████| 128/128 [00:08<00:00, 14.50it/s]\n",
      "100%|██████████| 128/128 [00:10<00:00, 12.69it/s]\n",
      "100%|██████████| 256/256 [00:40<00:00,  6.31it/s]\n",
      "100%|██████████| 1/1 [00:00<00:00, 83.53it/s]\n",
      "100%|██████████| 1/1 [00:00<00:00, 26.16it/s]\n",
      "100%|██████████| 1/1 [00:00<00:00,  6.72it/s]\n"
     ]
    },
    {
     "name": "stdout",
     "output_type": "stream",
     "text": [
      "Done\n",
      "Generating 171/5247\n"
     ]
    },
    {
     "name": "stderr",
     "output_type": "stream",
     "text": [
      "100%|██████████| 64/64 [00:04<00:00, 15.09it/s]\n",
      "100%|██████████| 128/128 [00:08<00:00, 14.52it/s]\n",
      "100%|██████████| 128/128 [00:10<00:00, 12.38it/s]\n",
      "100%|██████████| 256/256 [00:50<00:00,  5.04it/s]\n",
      "100%|██████████| 1/1 [00:00<00:00, 75.58it/s]\n",
      "100%|██████████| 1/1 [00:00<00:00, 24.47it/s]\n",
      "100%|██████████| 1/1 [00:00<00:00,  5.67it/s]\n"
     ]
    },
    {
     "name": "stdout",
     "output_type": "stream",
     "text": [
      "Done\n",
      "Generating 172/5247\n"
     ]
    },
    {
     "name": "stderr",
     "output_type": "stream",
     "text": [
      "100%|██████████| 64/64 [00:04<00:00, 15.10it/s]\n",
      "100%|██████████| 128/128 [00:08<00:00, 14.46it/s]\n",
      "100%|██████████| 128/128 [00:10<00:00, 12.74it/s]\n",
      "100%|██████████| 256/256 [00:43<00:00,  5.91it/s]\n",
      "100%|██████████| 1/1 [00:00<00:00, 75.38it/s]\n",
      "100%|██████████| 1/1 [00:00<00:00, 24.62it/s]\n",
      "100%|██████████| 1/1 [00:00<00:00,  5.78it/s]\n"
     ]
    },
    {
     "name": "stdout",
     "output_type": "stream",
     "text": [
      "Done\n",
      "Generating 173/5247\n"
     ]
    },
    {
     "name": "stderr",
     "output_type": "stream",
     "text": [
      "100%|██████████| 64/64 [00:04<00:00, 14.95it/s]\n",
      "100%|██████████| 128/128 [00:08<00:00, 14.35it/s]\n",
      "100%|██████████| 128/128 [00:10<00:00, 12.12it/s]\n",
      "100%|██████████| 256/256 [01:00<00:00,  4.25it/s]\n",
      "100%|██████████| 1/1 [00:00<00:00, 72.63it/s]\n",
      "100%|██████████| 1/1 [00:00<00:00, 29.19it/s]\n",
      "100%|██████████| 1/1 [00:00<00:00,  5.99it/s]\n"
     ]
    },
    {
     "name": "stdout",
     "output_type": "stream",
     "text": [
      "Done\n",
      "Generating 174/5247\n"
     ]
    },
    {
     "name": "stderr",
     "output_type": "stream",
     "text": [
      "100%|██████████| 64/64 [00:04<00:00, 15.00it/s]\n",
      "100%|██████████| 128/128 [00:08<00:00, 14.54it/s]\n",
      "100%|██████████| 128/128 [00:09<00:00, 13.19it/s]\n",
      "100%|██████████| 256/256 [00:41<00:00,  6.18it/s]\n",
      "100%|██████████| 1/1 [00:00<00:00, 93.25it/s]\n",
      "100%|██████████| 1/1 [00:00<00:00, 28.12it/s]\n",
      "100%|██████████| 1/1 [00:00<00:00,  6.55it/s]\n"
     ]
    },
    {
     "name": "stdout",
     "output_type": "stream",
     "text": [
      "Done\n",
      "Generating 175/5247\n"
     ]
    },
    {
     "name": "stderr",
     "output_type": "stream",
     "text": [
      "100%|██████████| 64/64 [00:04<00:00, 15.20it/s]\n",
      "100%|██████████| 128/128 [00:08<00:00, 14.38it/s]\n",
      "100%|██████████| 128/128 [00:09<00:00, 13.44it/s]\n",
      "100%|██████████| 256/256 [00:38<00:00,  6.62it/s]\n",
      "100%|██████████| 1/1 [00:00<00:00, 48.71it/s]\n",
      "100%|██████████| 1/1 [00:00<00:00, 21.74it/s]\n",
      "100%|██████████| 1/1 [00:00<00:00,  6.90it/s]\n"
     ]
    },
    {
     "name": "stdout",
     "output_type": "stream",
     "text": [
      "Done\n",
      "Generating 176/5247\n"
     ]
    },
    {
     "name": "stderr",
     "output_type": "stream",
     "text": [
      "100%|██████████| 64/64 [00:04<00:00, 14.96it/s]\n",
      "100%|██████████| 128/128 [00:08<00:00, 14.39it/s]\n",
      "100%|██████████| 128/128 [00:10<00:00, 12.49it/s]\n",
      "100%|██████████| 256/256 [00:41<00:00,  6.10it/s]\n",
      "100%|██████████| 1/1 [00:00<00:00, 61.58it/s]\n",
      "100%|██████████| 1/1 [00:00<00:00, 21.61it/s]\n",
      "100%|██████████| 1/1 [00:00<00:00,  6.27it/s]\n"
     ]
    },
    {
     "name": "stdout",
     "output_type": "stream",
     "text": [
      "Done\n",
      "Generating 177/5247\n"
     ]
    },
    {
     "name": "stderr",
     "output_type": "stream",
     "text": [
      "100%|██████████| 64/64 [00:04<00:00, 15.10it/s]\n",
      "100%|██████████| 128/128 [00:08<00:00, 14.54it/s]\n",
      "100%|██████████| 128/128 [00:09<00:00, 14.00it/s]\n",
      "100%|██████████| 256/256 [00:27<00:00,  9.37it/s]\n",
      "100%|██████████| 1/1 [00:00<00:00, 132.27it/s]\n",
      "100%|██████████| 1/1 [00:00<00:00, 35.00it/s]\n",
      "100%|██████████| 1/1 [00:00<00:00, 10.56it/s]\n"
     ]
    },
    {
     "name": "stdout",
     "output_type": "stream",
     "text": [
      "Done\n",
      "Generating 178/5247\n"
     ]
    },
    {
     "name": "stderr",
     "output_type": "stream",
     "text": [
      "100%|██████████| 64/64 [00:04<00:00, 15.06it/s]\n",
      "100%|██████████| 128/128 [00:08<00:00, 14.66it/s]\n",
      "100%|██████████| 128/128 [00:09<00:00, 13.67it/s]\n",
      "100%|██████████| 256/256 [00:36<00:00,  7.10it/s]\n",
      "100%|██████████| 1/1 [00:00<00:00, 101.82it/s]\n",
      "100%|██████████| 1/1 [00:00<00:00, 40.41it/s]\n",
      "100%|██████████| 1/1 [00:00<00:00, 10.83it/s]\n"
     ]
    },
    {
     "name": "stdout",
     "output_type": "stream",
     "text": [
      "Done\n",
      "Generating 179/5247\n"
     ]
    },
    {
     "name": "stderr",
     "output_type": "stream",
     "text": [
      "100%|██████████| 64/64 [00:04<00:00, 15.10it/s]\n",
      "100%|██████████| 128/128 [00:08<00:00, 14.67it/s]\n",
      "100%|██████████| 128/128 [00:09<00:00, 13.24it/s]\n",
      "100%|██████████| 256/256 [00:45<00:00,  5.67it/s]\n",
      "100%|██████████| 1/1 [00:00<00:00, 107.94it/s]\n",
      "100%|██████████| 1/1 [00:00<00:00, 34.68it/s]\n",
      "100%|██████████| 1/1 [00:00<00:00,  7.20it/s]\n"
     ]
    },
    {
     "name": "stdout",
     "output_type": "stream",
     "text": [
      "Done\n",
      "Generating 180/5247\n"
     ]
    },
    {
     "name": "stderr",
     "output_type": "stream",
     "text": [
      "100%|██████████| 64/64 [00:04<00:00, 15.13it/s]\n",
      "100%|██████████| 128/128 [00:08<00:00, 14.51it/s]\n",
      "100%|██████████| 128/128 [00:10<00:00, 12.52it/s]\n",
      "100%|██████████| 256/256 [00:47<00:00,  5.36it/s]\n",
      "100%|██████████| 1/1 [00:00<00:00, 75.78it/s]\n",
      "100%|██████████| 1/1 [00:00<00:00, 26.78it/s]\n",
      "100%|██████████| 1/1 [00:00<00:00,  6.34it/s]\n"
     ]
    },
    {
     "name": "stdout",
     "output_type": "stream",
     "text": [
      "Done\n",
      "Generating 181/5247\n"
     ]
    },
    {
     "name": "stderr",
     "output_type": "stream",
     "text": [
      "100%|██████████| 64/64 [00:04<00:00, 15.05it/s]\n",
      "100%|██████████| 128/128 [00:08<00:00, 14.35it/s]\n",
      "100%|██████████| 128/128 [00:10<00:00, 12.77it/s]\n",
      "100%|██████████| 256/256 [00:45<00:00,  5.66it/s]\n",
      "100%|██████████| 1/1 [00:00<00:00, 92.38it/s]\n",
      "100%|██████████| 1/1 [00:00<00:00, 34.09it/s]\n",
      "100%|██████████| 1/1 [00:00<00:00,  8.35it/s]\n"
     ]
    },
    {
     "name": "stdout",
     "output_type": "stream",
     "text": [
      "Done\n",
      "Generating 182/5247\n"
     ]
    },
    {
     "name": "stderr",
     "output_type": "stream",
     "text": [
      "100%|██████████| 64/64 [00:04<00:00, 14.98it/s]\n",
      "100%|██████████| 128/128 [00:08<00:00, 14.52it/s]\n",
      "100%|██████████| 128/128 [00:09<00:00, 13.33it/s]\n",
      "100%|██████████| 256/256 [00:40<00:00,  6.33it/s]\n",
      "100%|██████████| 1/1 [00:00<00:00, 52.86it/s]\n",
      "100%|██████████| 1/1 [00:00<00:00, 15.85it/s]\n",
      "100%|██████████| 1/1 [00:00<00:00,  6.11it/s]\n"
     ]
    },
    {
     "name": "stdout",
     "output_type": "stream",
     "text": [
      "Done\n",
      "Generating 183/5247\n"
     ]
    },
    {
     "name": "stderr",
     "output_type": "stream",
     "text": [
      "100%|██████████| 64/64 [00:04<00:00, 15.01it/s]\n",
      "100%|██████████| 128/128 [00:08<00:00, 14.42it/s]\n",
      "100%|██████████| 128/128 [00:10<00:00, 12.49it/s]\n",
      "100%|██████████| 256/256 [00:44<00:00,  5.69it/s]\n",
      "100%|██████████| 1/1 [00:00<00:00, 67.28it/s]\n",
      "100%|██████████| 1/1 [00:00<00:00, 25.25it/s]\n",
      "100%|██████████| 1/1 [00:00<00:00,  6.25it/s]\n"
     ]
    },
    {
     "name": "stdout",
     "output_type": "stream",
     "text": [
      "Done\n",
      "Generating 184/5247\n"
     ]
    },
    {
     "name": "stderr",
     "output_type": "stream",
     "text": [
      "100%|██████████| 64/64 [00:04<00:00, 15.03it/s]\n",
      "100%|██████████| 128/128 [00:08<00:00, 14.43it/s]\n",
      "100%|██████████| 128/128 [00:10<00:00, 12.45it/s]\n",
      "100%|██████████| 256/256 [00:45<00:00,  5.58it/s]\n",
      "100%|██████████| 1/1 [00:00<00:00, 62.96it/s]\n",
      "100%|██████████| 1/1 [00:00<00:00, 22.85it/s]\n",
      "100%|██████████| 1/1 [00:00<00:00,  5.69it/s]\n"
     ]
    },
    {
     "name": "stdout",
     "output_type": "stream",
     "text": [
      "Done\n",
      "Generating 185/5247\n"
     ]
    },
    {
     "name": "stderr",
     "output_type": "stream",
     "text": [
      "100%|██████████| 64/64 [00:04<00:00, 15.06it/s]\n",
      "100%|██████████| 128/128 [00:08<00:00, 14.40it/s]\n",
      "100%|██████████| 128/128 [00:10<00:00, 12.52it/s]\n",
      "100%|██████████| 256/256 [00:46<00:00,  5.51it/s]\n",
      "100%|██████████| 1/1 [00:00<00:00, 75.17it/s]\n",
      "100%|██████████| 1/1 [00:00<00:00, 30.48it/s]\n",
      "100%|██████████| 1/1 [00:00<00:00,  6.61it/s]\n"
     ]
    },
    {
     "name": "stdout",
     "output_type": "stream",
     "text": [
      "Done\n",
      "Generating 186/5247\n"
     ]
    },
    {
     "name": "stderr",
     "output_type": "stream",
     "text": [
      "100%|██████████| 64/64 [00:04<00:00, 15.13it/s]\n",
      "100%|██████████| 128/128 [00:08<00:00, 14.56it/s]\n",
      "100%|██████████| 128/128 [00:10<00:00, 12.33it/s]\n",
      "100%|██████████| 256/256 [00:53<00:00,  4.74it/s]\n",
      "100%|██████████| 1/1 [00:00<00:00, 72.35it/s]\n",
      "100%|██████████| 1/1 [00:00<00:00, 29.41it/s]\n",
      "100%|██████████| 1/1 [00:00<00:00,  6.57it/s]\n"
     ]
    },
    {
     "name": "stdout",
     "output_type": "stream",
     "text": [
      "Done\n",
      "Generating 187/5247\n"
     ]
    },
    {
     "name": "stderr",
     "output_type": "stream",
     "text": [
      "100%|██████████| 64/64 [00:11<00:00,  5.48it/s]\n",
      "100%|██████████| 128/128 [00:24<00:00,  5.32it/s]\n",
      "100%|██████████| 128/128 [00:25<00:00,  4.93it/s]\n",
      "100%|██████████| 256/256 [01:24<00:00,  3.04it/s]\n",
      "100%|██████████| 1/1 [00:00<00:00, 130.92it/s]\n",
      "100%|██████████| 1/1 [00:00<00:00, 36.65it/s]\n",
      "100%|██████████| 1/1 [00:00<00:00,  8.23it/s]\n"
     ]
    },
    {
     "name": "stdout",
     "output_type": "stream",
     "text": [
      "Done\n",
      "Generating 188/5247\n"
     ]
    },
    {
     "name": "stderr",
     "output_type": "stream",
     "text": [
      "100%|██████████| 64/64 [00:12<00:00,  5.32it/s]\n",
      "100%|██████████| 128/128 [00:26<00:00,  4.81it/s]\n",
      "100%|██████████| 128/128 [00:31<00:00,  4.05it/s]\n",
      "100%|██████████| 256/256 [01:32<00:00,  2.78it/s]\n",
      "100%|██████████| 1/1 [00:00<00:00, 72.81it/s]\n",
      "100%|██████████| 1/1 [00:00<00:00, 25.84it/s]\n",
      "100%|██████████| 1/1 [00:00<00:00,  5.38it/s]\n"
     ]
    },
    {
     "name": "stdout",
     "output_type": "stream",
     "text": [
      "Done\n",
      "Generating 189/5247\n"
     ]
    },
    {
     "name": "stderr",
     "output_type": "stream",
     "text": [
      "100%|██████████| 64/64 [00:04<00:00, 15.01it/s]\n",
      "100%|██████████| 128/128 [00:08<00:00, 14.33it/s]\n",
      "100%|██████████| 128/128 [00:10<00:00, 12.53it/s]\n",
      "100%|██████████| 256/256 [00:50<00:00,  5.03it/s]\n",
      "100%|██████████| 1/1 [00:00<00:00, 79.79it/s]\n",
      "100%|██████████| 1/1 [00:00<00:00, 29.10it/s]\n",
      "100%|██████████| 1/1 [00:00<00:00,  6.83it/s]\n"
     ]
    },
    {
     "name": "stdout",
     "output_type": "stream",
     "text": [
      "Done\n",
      "Generating 190/5247\n"
     ]
    },
    {
     "name": "stderr",
     "output_type": "stream",
     "text": [
      "100%|██████████| 64/64 [00:04<00:00, 14.93it/s]\n",
      "100%|██████████| 128/128 [00:08<00:00, 14.53it/s]\n",
      "100%|██████████| 128/128 [00:09<00:00, 13.53it/s]\n",
      "100%|██████████| 256/256 [00:38<00:00,  6.69it/s]\n",
      "100%|██████████| 1/1 [00:00<00:00, 81.57it/s]\n",
      "100%|██████████| 1/1 [00:00<00:00, 35.44it/s]\n",
      "100%|██████████| 1/1 [00:00<00:00,  9.09it/s]\n"
     ]
    },
    {
     "name": "stdout",
     "output_type": "stream",
     "text": [
      "Done\n",
      "Generating 191/5247\n"
     ]
    },
    {
     "name": "stderr",
     "output_type": "stream",
     "text": [
      "100%|██████████| 64/64 [00:04<00:00, 14.98it/s]\n",
      "100%|██████████| 128/128 [00:15<00:00,  8.05it/s]\n",
      "100%|██████████| 128/128 [00:24<00:00,  5.22it/s]\n",
      "100%|██████████| 256/256 [01:36<00:00,  2.66it/s]\n",
      "100%|██████████| 1/1 [00:00<00:00, 49.37it/s]\n",
      "100%|██████████| 1/1 [00:00<00:00, 26.77it/s]\n",
      "100%|██████████| 1/1 [00:00<00:00,  6.78it/s]\n"
     ]
    },
    {
     "name": "stdout",
     "output_type": "stream",
     "text": [
      "Done\n",
      "Generating 192/5247\n"
     ]
    },
    {
     "name": "stderr",
     "output_type": "stream",
     "text": [
      "100%|██████████| 64/64 [00:10<00:00,  5.97it/s]\n",
      "100%|██████████| 128/128 [00:23<00:00,  5.41it/s]\n",
      "100%|██████████| 128/128 [00:28<00:00,  4.51it/s]\n",
      "100%|██████████| 256/256 [01:02<00:00,  4.12it/s]\n",
      "100%|██████████| 1/1 [00:00<00:00, 90.78it/s]\n",
      "100%|██████████| 1/1 [00:00<00:00, 29.52it/s]\n",
      "100%|██████████| 1/1 [00:00<00:00,  7.77it/s]\n"
     ]
    },
    {
     "name": "stdout",
     "output_type": "stream",
     "text": [
      "Done\n",
      "Generating 193/5247\n"
     ]
    },
    {
     "name": "stderr",
     "output_type": "stream",
     "text": [
      "100%|██████████| 64/64 [00:04<00:00, 15.15it/s]\n",
      "100%|██████████| 128/128 [00:08<00:00, 14.31it/s]\n",
      "100%|██████████| 128/128 [00:10<00:00, 12.29it/s]\n",
      "100%|██████████| 256/256 [00:51<00:00,  5.01it/s]\n",
      "100%|██████████| 1/1 [00:00<00:00, 73.31it/s]\n",
      "100%|██████████| 1/1 [00:00<00:00, 27.73it/s]\n",
      "100%|██████████| 1/1 [00:00<00:00,  6.04it/s]\n"
     ]
    },
    {
     "name": "stdout",
     "output_type": "stream",
     "text": [
      "Done\n",
      "Generating 194/5247\n"
     ]
    },
    {
     "name": "stderr",
     "output_type": "stream",
     "text": [
      "100%|██████████| 64/64 [00:04<00:00, 14.94it/s]\n",
      "100%|██████████| 128/128 [00:08<00:00, 14.38it/s]\n",
      "100%|██████████| 128/128 [00:10<00:00, 12.43it/s]\n",
      "100%|██████████| 256/256 [00:46<00:00,  5.49it/s]\n",
      "100%|██████████| 1/1 [00:00<00:00, 69.46it/s]\n",
      "100%|██████████| 1/1 [00:00<00:00, 23.51it/s]\n",
      "100%|██████████| 1/1 [00:00<00:00,  6.09it/s]\n"
     ]
    },
    {
     "name": "stdout",
     "output_type": "stream",
     "text": [
      "Done\n",
      "Generating 195/5247\n"
     ]
    },
    {
     "name": "stderr",
     "output_type": "stream",
     "text": [
      "100%|██████████| 64/64 [00:04<00:00, 15.04it/s]\n",
      "100%|██████████| 128/128 [00:08<00:00, 14.40it/s]\n",
      "100%|██████████| 128/128 [00:10<00:00, 12.69it/s]\n",
      "100%|██████████| 256/256 [00:42<00:00,  5.97it/s]\n",
      "100%|██████████| 1/1 [00:00<00:00, 93.12it/s]\n",
      "100%|██████████| 1/1 [00:00<00:00, 26.18it/s]\n",
      "100%|██████████| 1/1 [00:00<00:00,  6.24it/s]\n"
     ]
    },
    {
     "name": "stdout",
     "output_type": "stream",
     "text": [
      "Done\n",
      "Generating 196/5247\n"
     ]
    },
    {
     "name": "stderr",
     "output_type": "stream",
     "text": [
      "100%|██████████| 64/64 [00:04<00:00, 15.13it/s]\n",
      "100%|██████████| 128/128 [00:08<00:00, 14.58it/s]\n",
      "100%|██████████| 128/128 [00:10<00:00, 12.70it/s]\n",
      "100%|██████████| 256/256 [00:43<00:00,  5.89it/s]\n",
      "100%|██████████| 1/1 [00:00<00:00, 79.80it/s]\n",
      "100%|██████████| 1/1 [00:00<00:00, 33.26it/s]\n",
      "100%|██████████| 1/1 [00:00<00:00,  7.90it/s]\n"
     ]
    },
    {
     "name": "stdout",
     "output_type": "stream",
     "text": [
      "Done\n",
      "Generating 197/5247\n"
     ]
    },
    {
     "name": "stderr",
     "output_type": "stream",
     "text": [
      "100%|██████████| 64/64 [00:04<00:00, 14.99it/s]\n",
      "100%|██████████| 128/128 [00:08<00:00, 14.43it/s]\n",
      "100%|██████████| 128/128 [00:10<00:00, 12.41it/s]\n",
      "100%|██████████| 256/256 [00:44<00:00,  5.70it/s]\n",
      "100%|██████████| 1/1 [00:00<00:00, 69.20it/s]\n",
      "100%|██████████| 1/1 [00:00<00:00, 22.36it/s]\n",
      "100%|██████████| 1/1 [00:00<00:00,  5.38it/s]\n"
     ]
    },
    {
     "name": "stdout",
     "output_type": "stream",
     "text": [
      "Done\n",
      "Generating 198/5247\n"
     ]
    },
    {
     "name": "stderr",
     "output_type": "stream",
     "text": [
      "100%|██████████| 64/64 [00:04<00:00, 15.04it/s]\n",
      "100%|██████████| 128/128 [00:08<00:00, 14.44it/s]\n",
      "100%|██████████| 128/128 [00:09<00:00, 13.31it/s]\n",
      "100%|██████████| 256/256 [00:38<00:00,  6.72it/s]\n",
      "100%|██████████| 1/1 [00:00<00:00, 81.48it/s]\n",
      "100%|██████████| 1/1 [00:00<00:00, 27.35it/s]\n",
      "100%|██████████| 1/1 [00:00<00:00,  7.14it/s]\n"
     ]
    },
    {
     "name": "stdout",
     "output_type": "stream",
     "text": [
      "Done\n",
      "Generating 199/5247\n"
     ]
    },
    {
     "name": "stderr",
     "output_type": "stream",
     "text": [
      "100%|██████████| 64/64 [00:04<00:00, 15.44it/s]\n",
      "100%|██████████| 128/128 [00:08<00:00, 14.28it/s]\n",
      "100%|██████████| 128/128 [00:10<00:00, 12.69it/s]\n",
      "100%|██████████| 256/256 [00:42<00:00,  6.07it/s]\n",
      "100%|██████████| 1/1 [00:00<00:00, 72.79it/s]\n",
      "100%|██████████| 1/1 [00:00<00:00, 25.61it/s]\n",
      "100%|██████████| 1/1 [00:00<00:00,  6.00it/s]\n"
     ]
    },
    {
     "name": "stdout",
     "output_type": "stream",
     "text": [
      "Done\n",
      "Generating 200/5247\n"
     ]
    },
    {
     "name": "stderr",
     "output_type": "stream",
     "text": [
      "100%|██████████| 64/64 [00:04<00:00, 15.09it/s]\n",
      "100%|██████████| 128/128 [00:08<00:00, 14.48it/s]\n",
      "100%|██████████| 128/128 [00:09<00:00, 13.24it/s]\n",
      "100%|██████████| 256/256 [00:37<00:00,  6.87it/s]\n",
      "100%|██████████| 1/1 [00:00<00:00, 93.01it/s]\n",
      "100%|██████████| 1/1 [00:00<00:00, 29.11it/s]\n",
      "100%|██████████| 1/1 [00:00<00:00,  7.29it/s]\n"
     ]
    },
    {
     "name": "stdout",
     "output_type": "stream",
     "text": [
      "Done\n",
      "Generating 201/5247\n"
     ]
    },
    {
     "name": "stderr",
     "output_type": "stream",
     "text": [
      "100%|██████████| 64/64 [00:04<00:00, 15.11it/s]\n",
      "100%|██████████| 128/128 [00:08<00:00, 14.79it/s]\n",
      "100%|██████████| 128/128 [00:09<00:00, 13.17it/s]\n",
      "100%|██████████| 256/256 [00:43<00:00,  5.91it/s]\n",
      "100%|██████████| 1/1 [00:00<00:00, 92.07it/s]\n",
      "100%|██████████| 1/1 [00:00<00:00, 28.00it/s]\n",
      "100%|██████████| 1/1 [00:00<00:00,  6.81it/s]\n"
     ]
    },
    {
     "name": "stdout",
     "output_type": "stream",
     "text": [
      "Done\n",
      "Generating 202/5247\n"
     ]
    },
    {
     "name": "stderr",
     "output_type": "stream",
     "text": [
      "100%|██████████| 64/64 [00:04<00:00, 15.02it/s]\n",
      "100%|██████████| 128/128 [00:08<00:00, 14.47it/s]\n",
      "100%|██████████| 128/128 [00:09<00:00, 13.06it/s]\n",
      "100%|██████████| 256/256 [00:43<00:00,  5.91it/s]\n",
      "100%|██████████| 1/1 [00:00<00:00, 94.99it/s]\n",
      "100%|██████████| 1/1 [00:00<00:00, 30.77it/s]\n",
      "100%|██████████| 1/1 [00:00<00:00,  6.34it/s]\n"
     ]
    },
    {
     "name": "stdout",
     "output_type": "stream",
     "text": [
      "Done\n",
      "Generating 203/5247\n"
     ]
    },
    {
     "name": "stderr",
     "output_type": "stream",
     "text": [
      "100%|██████████| 64/64 [00:04<00:00, 15.06it/s]\n",
      "100%|██████████| 128/128 [00:08<00:00, 14.44it/s]\n",
      "100%|██████████| 128/128 [00:10<00:00, 12.40it/s]\n",
      "100%|██████████| 256/256 [00:46<00:00,  5.51it/s]\n",
      "100%|██████████| 1/1 [00:00<00:00, 53.10it/s]\n",
      "100%|██████████| 1/1 [00:00<00:00, 28.00it/s]\n",
      "100%|██████████| 1/1 [00:00<00:00,  6.02it/s]\n"
     ]
    },
    {
     "name": "stdout",
     "output_type": "stream",
     "text": [
      "Done\n",
      "Generating 204/5247\n"
     ]
    },
    {
     "name": "stderr",
     "output_type": "stream",
     "text": [
      "100%|██████████| 64/64 [00:04<00:00, 15.04it/s]\n",
      "100%|██████████| 128/128 [00:08<00:00, 14.40it/s]\n",
      "100%|██████████| 128/128 [00:10<00:00, 12.73it/s]\n",
      "100%|██████████| 256/256 [00:54<00:00,  4.73it/s]\n",
      "100%|██████████| 1/1 [00:00<00:00, 86.56it/s]\n",
      "100%|██████████| 1/1 [00:00<00:00, 33.41it/s]\n",
      "100%|██████████| 1/1 [00:00<00:00,  6.86it/s]\n"
     ]
    },
    {
     "name": "stdout",
     "output_type": "stream",
     "text": [
      "Done\n",
      "Generating 205/5247\n"
     ]
    },
    {
     "name": "stderr",
     "output_type": "stream",
     "text": [
      "100%|██████████| 64/64 [00:04<00:00, 15.01it/s]\n",
      "100%|██████████| 128/128 [00:08<00:00, 14.52it/s]\n",
      "100%|██████████| 128/128 [00:09<00:00, 13.22it/s]\n",
      "100%|██████████| 256/256 [00:40<00:00,  6.38it/s]\n",
      "100%|██████████| 1/1 [00:00<00:00, 97.63it/s]\n",
      "100%|██████████| 1/1 [00:00<00:00, 21.74it/s]\n",
      "100%|██████████| 1/1 [00:00<00:00,  6.70it/s]\n"
     ]
    },
    {
     "name": "stdout",
     "output_type": "stream",
     "text": [
      "Done\n",
      "Generating 206/5247\n"
     ]
    },
    {
     "name": "stderr",
     "output_type": "stream",
     "text": [
      "100%|██████████| 64/64 [00:04<00:00, 15.11it/s]\n",
      "100%|██████████| 128/128 [00:08<00:00, 14.39it/s]\n",
      "100%|██████████| 128/128 [00:10<00:00, 12.47it/s]\n",
      "100%|██████████| 256/256 [00:43<00:00,  5.86it/s]\n",
      "100%|██████████| 1/1 [00:00<00:00, 69.58it/s]\n",
      "100%|██████████| 1/1 [00:00<00:00, 22.53it/s]\n",
      "100%|██████████| 1/1 [00:00<00:00,  6.26it/s]\n"
     ]
    },
    {
     "name": "stdout",
     "output_type": "stream",
     "text": [
      "Done\n",
      "Generating 207/5247\n"
     ]
    },
    {
     "name": "stderr",
     "output_type": "stream",
     "text": [
      "100%|██████████| 64/64 [00:04<00:00, 15.23it/s]\n",
      "100%|██████████| 128/128 [00:09<00:00, 14.20it/s]\n",
      "100%|██████████| 128/128 [00:10<00:00, 12.36it/s]\n",
      "100%|██████████| 256/256 [00:46<00:00,  5.51it/s]\n",
      "100%|██████████| 1/1 [00:00<00:00, 54.80it/s]\n",
      "100%|██████████| 1/1 [00:00<00:00, 24.34it/s]\n",
      "100%|██████████| 1/1 [00:00<00:00,  5.92it/s]\n"
     ]
    },
    {
     "name": "stdout",
     "output_type": "stream",
     "text": [
      "Done\n",
      "Generating 208/5247\n"
     ]
    },
    {
     "name": "stderr",
     "output_type": "stream",
     "text": [
      "100%|██████████| 64/64 [00:04<00:00, 15.17it/s]\n",
      "100%|██████████| 128/128 [00:08<00:00, 14.40it/s]\n",
      "100%|██████████| 128/128 [00:10<00:00, 12.52it/s]\n",
      "100%|██████████| 256/256 [00:46<00:00,  5.55it/s]\n",
      "100%|██████████| 1/1 [00:00<00:00, 75.20it/s]\n",
      "100%|██████████| 1/1 [00:00<00:00, 24.57it/s]\n",
      "100%|██████████| 1/1 [00:00<00:00,  7.37it/s]\n"
     ]
    },
    {
     "name": "stdout",
     "output_type": "stream",
     "text": [
      "Done\n",
      "Generating 209/5247\n"
     ]
    },
    {
     "name": "stderr",
     "output_type": "stream",
     "text": [
      "100%|██████████| 64/64 [00:04<00:00, 14.91it/s]\n",
      "100%|██████████| 128/128 [00:08<00:00, 14.47it/s]\n",
      "100%|██████████| 128/128 [00:10<00:00, 12.01it/s]\n",
      "100%|██████████| 256/256 [00:59<00:00,  4.34it/s]\n",
      "100%|██████████| 1/1 [00:00<00:00, 71.61it/s]\n",
      "100%|██████████| 1/1 [00:00<00:00, 26.90it/s]\n",
      "100%|██████████| 1/1 [00:00<00:00,  5.65it/s]\n"
     ]
    },
    {
     "name": "stdout",
     "output_type": "stream",
     "text": [
      "Done\n",
      "Generating 210/5247\n"
     ]
    },
    {
     "name": "stderr",
     "output_type": "stream",
     "text": [
      "100%|██████████| 64/64 [00:04<00:00, 15.08it/s]\n",
      "100%|██████████| 128/128 [00:08<00:00, 14.57it/s]\n",
      "100%|██████████| 128/128 [00:11<00:00, 11.42it/s]\n",
      "100%|██████████| 256/256 [00:56<00:00,  4.51it/s]\n",
      "100%|██████████| 1/1 [00:00<00:00, 49.86it/s]\n",
      "100%|██████████| 1/1 [00:00<00:00, 16.47it/s]\n",
      "100%|██████████| 1/1 [00:00<00:00,  4.24it/s]\n"
     ]
    },
    {
     "name": "stdout",
     "output_type": "stream",
     "text": [
      "Done\n",
      "Generating 211/5247\n"
     ]
    },
    {
     "name": "stderr",
     "output_type": "stream",
     "text": [
      "100%|██████████| 64/64 [00:04<00:00, 14.94it/s]\n",
      "100%|██████████| 128/128 [00:08<00:00, 14.32it/s]\n",
      "100%|██████████| 128/128 [00:10<00:00, 12.57it/s]\n",
      "100%|██████████| 256/256 [00:46<00:00,  5.56it/s]\n",
      "100%|██████████| 1/1 [00:00<00:00, 74.94it/s]\n",
      "100%|██████████| 1/1 [00:00<00:00, 28.29it/s]\n",
      "100%|██████████| 1/1 [00:00<00:00,  7.30it/s]\n"
     ]
    },
    {
     "name": "stdout",
     "output_type": "stream",
     "text": [
      "Done\n",
      "Generating 212/5247\n"
     ]
    },
    {
     "name": "stderr",
     "output_type": "stream",
     "text": [
      "100%|██████████| 64/64 [00:04<00:00, 15.02it/s]\n",
      "100%|██████████| 128/128 [00:08<00:00, 14.54it/s]\n",
      "100%|██████████| 128/128 [00:09<00:00, 13.26it/s]\n",
      "100%|██████████| 256/256 [00:41<00:00,  6.17it/s]\n",
      "100%|██████████| 1/1 [00:00<00:00, 95.46it/s]\n",
      "100%|██████████| 1/1 [00:00<00:00, 30.33it/s]\n",
      "100%|██████████| 1/1 [00:00<00:00,  7.00it/s]\n"
     ]
    },
    {
     "name": "stdout",
     "output_type": "stream",
     "text": [
      "Done\n",
      "Generating 213/5247\n"
     ]
    },
    {
     "name": "stderr",
     "output_type": "stream",
     "text": [
      "100%|██████████| 64/64 [00:04<00:00, 14.99it/s]\n",
      "100%|██████████| 128/128 [00:08<00:00, 14.54it/s]\n",
      "100%|██████████| 128/128 [00:09<00:00, 13.88it/s]\n",
      "100%|██████████| 256/256 [00:30<00:00,  8.51it/s]\n",
      "100%|██████████| 1/1 [00:00<00:00, 129.64it/s]\n",
      "100%|██████████| 1/1 [00:00<00:00, 27.18it/s]\n",
      "100%|██████████| 1/1 [00:00<00:00,  9.11it/s]\n"
     ]
    },
    {
     "name": "stdout",
     "output_type": "stream",
     "text": [
      "Done\n",
      "Generating 214/5247\n"
     ]
    },
    {
     "name": "stderr",
     "output_type": "stream",
     "text": [
      "100%|██████████| 64/64 [00:04<00:00, 14.91it/s]\n",
      "100%|██████████| 128/128 [00:08<00:00, 14.38it/s]\n",
      "100%|██████████| 128/128 [00:10<00:00, 12.44it/s]\n",
      "100%|██████████| 256/256 [00:48<00:00,  5.30it/s]\n",
      "100%|██████████| 1/1 [00:00<00:00, 55.56it/s]\n",
      "100%|██████████| 1/1 [00:00<00:00, 24.40it/s]\n",
      "100%|██████████| 1/1 [00:00<00:00,  5.96it/s]\n"
     ]
    },
    {
     "name": "stdout",
     "output_type": "stream",
     "text": [
      "Done\n",
      "Generating 215/5247\n"
     ]
    },
    {
     "name": "stderr",
     "output_type": "stream",
     "text": [
      "100%|██████████| 64/64 [00:04<00:00, 15.08it/s]\n",
      "100%|██████████| 128/128 [00:08<00:00, 14.49it/s]\n",
      "100%|██████████| 128/128 [00:10<00:00, 12.59it/s]\n",
      "100%|██████████| 256/256 [00:51<00:00,  5.01it/s]\n",
      "100%|██████████| 1/1 [00:00<00:00, 93.00it/s]\n",
      "100%|██████████| 1/1 [00:00<00:00, 30.58it/s]\n",
      "100%|██████████| 1/1 [00:00<00:00,  6.26it/s]\n"
     ]
    },
    {
     "name": "stdout",
     "output_type": "stream",
     "text": [
      "Done\n",
      "Generating 216/5247\n"
     ]
    },
    {
     "name": "stderr",
     "output_type": "stream",
     "text": [
      "100%|██████████| 64/64 [00:04<00:00, 15.04it/s]\n",
      "100%|██████████| 128/128 [00:08<00:00, 14.43it/s]\n",
      "100%|██████████| 128/128 [00:10<00:00, 12.30it/s]\n",
      "100%|██████████| 256/256 [00:58<00:00,  4.40it/s]\n",
      "100%|██████████| 1/1 [00:00<00:00, 68.55it/s]\n",
      "100%|██████████| 1/1 [00:00<00:00, 19.38it/s]\n",
      "100%|██████████| 1/1 [00:00<00:00,  5.68it/s]\n"
     ]
    },
    {
     "name": "stdout",
     "output_type": "stream",
     "text": [
      "Done\n",
      "Generating 217/5247\n"
     ]
    },
    {
     "name": "stderr",
     "output_type": "stream",
     "text": [
      "100%|██████████| 64/64 [00:04<00:00, 15.00it/s]\n",
      "100%|██████████| 128/128 [00:08<00:00, 14.48it/s]\n",
      "100%|██████████| 128/128 [00:10<00:00, 12.70it/s]\n",
      "100%|██████████| 256/256 [01:42<00:00,  2.51it/s]\n",
      "100%|██████████| 1/1 [00:00<00:00, 89.54it/s]\n",
      "100%|██████████| 1/1 [00:00<00:00, 26.25it/s]\n",
      "100%|██████████| 1/1 [00:00<00:00,  6.39it/s]\n"
     ]
    },
    {
     "name": "stdout",
     "output_type": "stream",
     "text": [
      "Done\n",
      "Generating 218/5247\n"
     ]
    },
    {
     "name": "stderr",
     "output_type": "stream",
     "text": [
      "100%|██████████| 64/64 [00:11<00:00,  5.44it/s]\n",
      "100%|██████████| 128/128 [00:25<00:00,  4.98it/s]\n",
      "100%|██████████| 128/128 [00:29<00:00,  4.32it/s]\n",
      "100%|██████████| 256/256 [01:54<00:00,  2.23it/s]\n",
      "100%|██████████| 1/1 [00:00<00:00, 72.72it/s]\n",
      "100%|██████████| 1/1 [00:00<00:00, 25.03it/s]\n",
      "100%|██████████| 1/1 [00:00<00:00,  5.82it/s]\n"
     ]
    },
    {
     "name": "stdout",
     "output_type": "stream",
     "text": [
      "Done\n",
      "Generating 219/5247\n"
     ]
    },
    {
     "name": "stderr",
     "output_type": "stream",
     "text": [
      "100%|██████████| 64/64 [00:04<00:00, 15.05it/s]\n",
      "100%|██████████| 128/128 [00:08<00:00, 14.48it/s]\n",
      "100%|██████████| 128/128 [00:10<00:00, 12.58it/s]\n",
      "100%|██████████| 256/256 [00:50<00:00,  5.10it/s]\n",
      "100%|██████████| 1/1 [00:00<00:00, 91.21it/s]\n",
      "100%|██████████| 1/1 [00:00<00:00, 31.53it/s]\n",
      "100%|██████████| 1/1 [00:00<00:00,  7.15it/s]\n"
     ]
    },
    {
     "name": "stdout",
     "output_type": "stream",
     "text": [
      "Done\n",
      "Generating 220/5247\n"
     ]
    },
    {
     "name": "stderr",
     "output_type": "stream",
     "text": [
      "100%|██████████| 64/64 [00:04<00:00, 15.03it/s]\n",
      "100%|██████████| 128/128 [00:08<00:00, 14.57it/s]\n",
      "100%|██████████| 128/128 [00:10<00:00, 12.42it/s]\n",
      "100%|██████████| 256/256 [00:46<00:00,  5.51it/s]\n",
      "100%|██████████| 1/1 [00:00<00:00, 76.97it/s]\n",
      "100%|██████████| 1/1 [00:00<00:00, 30.05it/s]\n",
      "100%|██████████| 1/1 [00:00<00:00,  6.95it/s]\n"
     ]
    },
    {
     "name": "stdout",
     "output_type": "stream",
     "text": [
      "Done\n",
      "Generating 221/5247\n"
     ]
    },
    {
     "name": "stderr",
     "output_type": "stream",
     "text": [
      "100%|██████████| 64/64 [00:04<00:00, 14.97it/s]\n",
      "100%|██████████| 128/128 [00:08<00:00, 14.43it/s]\n",
      "100%|██████████| 128/128 [00:09<00:00, 13.38it/s]\n",
      "100%|██████████| 256/256 [01:18<00:00,  3.27it/s]\n",
      "100%|██████████| 1/1 [00:00<00:00, 69.94it/s]\n",
      "100%|██████████| 1/1 [00:00<00:00, 36.65it/s]\n",
      "100%|██████████| 1/1 [00:00<00:00,  7.99it/s]\n"
     ]
    },
    {
     "name": "stdout",
     "output_type": "stream",
     "text": [
      "Done\n",
      "Generating 222/5247\n"
     ]
    },
    {
     "name": "stderr",
     "output_type": "stream",
     "text": [
      "100%|██████████| 64/64 [00:12<00:00,  5.33it/s]\n",
      "100%|██████████| 128/128 [00:25<00:00,  5.12it/s]\n",
      "100%|██████████| 128/128 [00:27<00:00,  4.67it/s]\n",
      "100%|██████████| 256/256 [01:48<00:00,  2.36it/s]\n",
      "100%|██████████| 1/1 [00:00<00:00, 90.60it/s]\n",
      "100%|██████████| 1/1 [00:00<00:00, 34.89it/s]\n",
      "100%|██████████| 1/1 [00:00<00:00,  7.81it/s]\n"
     ]
    },
    {
     "name": "stdout",
     "output_type": "stream",
     "text": [
      "Done\n",
      "Generating 223/5247\n"
     ]
    },
    {
     "name": "stderr",
     "output_type": "stream",
     "text": [
      "100%|██████████| 64/64 [00:13<00:00,  4.87it/s]\n",
      "100%|██████████| 128/128 [00:27<00:00,  4.60it/s]\n",
      "100%|██████████| 128/128 [00:29<00:00,  4.30it/s]\n",
      "100%|██████████| 256/256 [00:42<00:00,  6.03it/s]\n",
      "100%|██████████| 1/1 [00:00<00:00, 74.35it/s]\n",
      "100%|██████████| 1/1 [00:00<00:00, 27.62it/s]\n",
      "100%|██████████| 1/1 [00:00<00:00,  6.83it/s]\n"
     ]
    },
    {
     "name": "stdout",
     "output_type": "stream",
     "text": [
      "Done\n",
      "Generating 224/5247\n"
     ]
    },
    {
     "name": "stderr",
     "output_type": "stream",
     "text": [
      "100%|██████████| 64/64 [00:04<00:00, 15.11it/s]\n",
      "100%|██████████| 128/128 [00:08<00:00, 14.58it/s]\n",
      "100%|██████████| 128/128 [00:09<00:00, 13.42it/s]\n",
      "100%|██████████| 256/256 [00:36<00:00,  6.98it/s]\n",
      "100%|██████████| 1/1 [00:00<00:00, 76.50it/s]\n",
      "100%|██████████| 1/1 [00:00<00:00, 27.73it/s]\n",
      "100%|██████████| 1/1 [00:00<00:00,  7.77it/s]\n"
     ]
    },
    {
     "name": "stdout",
     "output_type": "stream",
     "text": [
      "Done\n",
      "Generating 225/5247\n"
     ]
    },
    {
     "name": "stderr",
     "output_type": "stream",
     "text": [
      "100%|██████████| 64/64 [00:04<00:00, 15.23it/s]\n",
      "100%|██████████| 128/128 [00:08<00:00, 14.68it/s]\n",
      "100%|██████████| 128/128 [00:09<00:00, 13.40it/s]\n",
      "100%|██████████| 256/256 [00:37<00:00,  6.89it/s]\n",
      "100%|██████████| 1/1 [00:00<00:00, 95.92it/s]\n",
      "100%|██████████| 1/1 [00:00<00:00, 29.07it/s]\n",
      "100%|██████████| 1/1 [00:00<00:00,  7.47it/s]\n"
     ]
    },
    {
     "name": "stdout",
     "output_type": "stream",
     "text": [
      "Done\n",
      "Generating 226/5247\n"
     ]
    },
    {
     "name": "stderr",
     "output_type": "stream",
     "text": [
      "100%|██████████| 64/64 [00:04<00:00, 15.18it/s]\n",
      "100%|██████████| 128/128 [00:08<00:00, 14.57it/s]\n",
      "100%|██████████| 128/128 [00:10<00:00, 12.70it/s]\n",
      "100%|██████████| 256/256 [00:49<00:00,  5.13it/s]\n",
      "100%|██████████| 1/1 [00:00<00:00, 76.82it/s]\n",
      "100%|██████████| 1/1 [00:00<00:00, 27.54it/s]\n",
      "100%|██████████| 1/1 [00:00<00:00,  6.34it/s]\n"
     ]
    },
    {
     "name": "stdout",
     "output_type": "stream",
     "text": [
      "Done\n",
      "Generating 227/5247\n"
     ]
    },
    {
     "name": "stderr",
     "output_type": "stream",
     "text": [
      "100%|██████████| 64/64 [00:04<00:00, 15.16it/s]\n",
      "100%|██████████| 128/128 [00:08<00:00, 14.51it/s]\n",
      "100%|██████████| 128/128 [00:09<00:00, 12.81it/s]\n",
      "100%|██████████| 256/256 [00:44<00:00,  5.69it/s]\n",
      "100%|██████████| 1/1 [00:00<00:00, 79.47it/s]\n",
      "100%|██████████| 1/1 [00:00<00:00, 32.96it/s]\n",
      "100%|██████████| 1/1 [00:00<00:00,  7.74it/s]\n"
     ]
    },
    {
     "name": "stdout",
     "output_type": "stream",
     "text": [
      "Done\n",
      "Generating 228/5247\n"
     ]
    },
    {
     "name": "stderr",
     "output_type": "stream",
     "text": [
      "100%|██████████| 64/64 [00:04<00:00, 15.03it/s]\n",
      "100%|██████████| 128/128 [00:08<00:00, 14.52it/s]\n",
      "100%|██████████| 128/128 [00:09<00:00, 13.28it/s]\n",
      "100%|██████████| 256/256 [00:45<00:00,  5.60it/s]\n",
      "100%|██████████| 1/1 [00:00<00:00, 93.79it/s]\n",
      "100%|██████████| 1/1 [00:00<00:00, 37.01it/s]\n",
      "100%|██████████| 1/1 [00:00<00:00,  8.16it/s]\n"
     ]
    },
    {
     "name": "stdout",
     "output_type": "stream",
     "text": [
      "Done\n",
      "Generating 229/5247\n"
     ]
    },
    {
     "name": "stderr",
     "output_type": "stream",
     "text": [
      "100%|██████████| 64/64 [00:04<00:00, 15.11it/s]\n",
      "100%|██████████| 128/128 [00:08<00:00, 14.43it/s]\n",
      "100%|██████████| 128/128 [00:09<00:00, 13.00it/s]\n",
      "100%|██████████| 256/256 [00:45<00:00,  5.59it/s]\n",
      "100%|██████████| 1/1 [00:00<00:00, 75.09it/s]\n",
      "100%|██████████| 1/1 [00:00<00:00, 26.26it/s]\n",
      "100%|██████████| 1/1 [00:00<00:00,  6.39it/s]\n"
     ]
    },
    {
     "name": "stdout",
     "output_type": "stream",
     "text": [
      "Done\n",
      "Generating 230/5247\n"
     ]
    },
    {
     "name": "stderr",
     "output_type": "stream",
     "text": [
      "100%|██████████| 64/64 [00:04<00:00, 14.92it/s]\n",
      "100%|██████████| 128/128 [00:08<00:00, 14.48it/s]\n",
      "100%|██████████| 128/128 [00:09<00:00, 12.96it/s]\n",
      "100%|██████████| 256/256 [00:41<00:00,  6.14it/s]\n",
      "100%|██████████| 1/1 [00:00<00:00, 72.77it/s]\n",
      "100%|██████████| 1/1 [00:00<00:00, 26.10it/s]\n",
      "100%|██████████| 1/1 [00:00<00:00,  6.57it/s]\n"
     ]
    },
    {
     "name": "stdout",
     "output_type": "stream",
     "text": [
      "Done\n",
      "Generating 231/5247\n"
     ]
    },
    {
     "name": "stderr",
     "output_type": "stream",
     "text": [
      "100%|██████████| 64/64 [00:04<00:00, 14.85it/s]\n",
      "100%|██████████| 128/128 [00:08<00:00, 14.37it/s]\n",
      "100%|██████████| 128/128 [00:10<00:00, 12.62it/s]\n",
      "100%|██████████| 256/256 [00:53<00:00,  4.76it/s]\n",
      "100%|██████████| 1/1 [00:00<00:00, 80.72it/s]\n",
      "100%|██████████| 1/1 [00:00<00:00, 30.76it/s]\n",
      "100%|██████████| 1/1 [00:00<00:00,  6.54it/s]\n"
     ]
    },
    {
     "name": "stdout",
     "output_type": "stream",
     "text": [
      "Done\n",
      "Generating 232/5247\n"
     ]
    },
    {
     "name": "stderr",
     "output_type": "stream",
     "text": [
      "100%|██████████| 64/64 [00:04<00:00, 15.08it/s]\n",
      "100%|██████████| 128/128 [00:08<00:00, 14.33it/s]\n",
      "100%|██████████| 128/128 [00:10<00:00, 12.37it/s]\n",
      "100%|██████████| 256/256 [00:53<00:00,  4.78it/s]\n",
      "100%|██████████| 1/1 [00:00<00:00, 76.04it/s]\n",
      "100%|██████████| 1/1 [00:00<00:00, 29.79it/s]\n",
      "100%|██████████| 1/1 [00:00<00:00,  7.03it/s]\n"
     ]
    },
    {
     "name": "stdout",
     "output_type": "stream",
     "text": [
      "Done\n",
      "Generating 233/5247\n"
     ]
    },
    {
     "name": "stderr",
     "output_type": "stream",
     "text": [
      "100%|██████████| 64/64 [00:04<00:00, 14.99it/s]\n",
      "100%|██████████| 128/128 [00:08<00:00, 14.39it/s]\n",
      "100%|██████████| 128/128 [00:10<00:00, 12.20it/s]\n",
      "100%|██████████| 256/256 [00:54<00:00,  4.74it/s]\n",
      "100%|██████████| 1/1 [00:00<00:00, 67.60it/s]\n",
      "100%|██████████| 1/1 [00:00<00:00, 23.43it/s]\n",
      "100%|██████████| 1/1 [00:00<00:00,  5.30it/s]\n"
     ]
    },
    {
     "name": "stdout",
     "output_type": "stream",
     "text": [
      "Done\n",
      "Generating 234/5247\n"
     ]
    },
    {
     "name": "stderr",
     "output_type": "stream",
     "text": [
      "100%|██████████| 64/64 [00:04<00:00, 15.10it/s]\n",
      "100%|██████████| 128/128 [00:08<00:00, 14.43it/s]\n",
      "100%|██████████| 128/128 [00:10<00:00, 12.48it/s]\n",
      "100%|██████████| 256/256 [00:44<00:00,  5.81it/s]\n",
      "100%|██████████| 1/1 [00:00<00:00, 73.62it/s]\n",
      "100%|██████████| 1/1 [00:00<00:00, 26.98it/s]\n",
      "100%|██████████| 1/1 [00:00<00:00,  7.23it/s]\n"
     ]
    },
    {
     "name": "stdout",
     "output_type": "stream",
     "text": [
      "Done\n",
      "Generating 235/5247\n"
     ]
    },
    {
     "name": "stderr",
     "output_type": "stream",
     "text": [
      "100%|██████████| 64/64 [00:04<00:00, 15.03it/s]\n",
      "100%|██████████| 128/128 [00:08<00:00, 14.37it/s]\n",
      "100%|██████████| 128/128 [00:10<00:00, 12.44it/s]\n",
      "100%|██████████| 256/256 [00:46<00:00,  5.49it/s]\n",
      "100%|██████████| 1/1 [00:00<00:00, 65.10it/s]\n",
      "100%|██████████| 1/1 [00:00<00:00, 22.65it/s]\n",
      "100%|██████████| 1/1 [00:00<00:00,  5.35it/s]\n"
     ]
    },
    {
     "name": "stdout",
     "output_type": "stream",
     "text": [
      "Done\n",
      "Generating 236/5247\n"
     ]
    },
    {
     "name": "stderr",
     "output_type": "stream",
     "text": [
      "100%|██████████| 64/64 [00:04<00:00, 15.00it/s]\n",
      "100%|██████████| 128/128 [00:08<00:00, 14.33it/s]\n",
      "100%|██████████| 128/128 [00:10<00:00, 12.11it/s]\n",
      "100%|██████████| 256/256 [00:54<00:00,  4.69it/s]\n",
      "100%|██████████| 1/1 [00:00<00:00, 73.33it/s]\n",
      "100%|██████████| 1/1 [00:00<00:00, 23.90it/s]\n",
      "100%|██████████| 1/1 [00:00<00:00,  5.73it/s]\n"
     ]
    },
    {
     "name": "stdout",
     "output_type": "stream",
     "text": [
      "Done\n",
      "Generating 237/5247\n"
     ]
    },
    {
     "name": "stderr",
     "output_type": "stream",
     "text": [
      "100%|██████████| 64/64 [00:04<00:00, 14.86it/s]\n",
      "100%|██████████| 128/128 [00:08<00:00, 14.45it/s]\n",
      "100%|██████████| 128/128 [00:10<00:00, 12.73it/s]\n",
      "100%|██████████| 256/256 [00:47<00:00,  5.40it/s]\n",
      "100%|██████████| 1/1 [00:00<00:00, 98.62it/s]\n",
      "100%|██████████| 1/1 [00:00<00:00, 36.37it/s]\n",
      "100%|██████████| 1/1 [00:00<00:00,  7.07it/s]\n"
     ]
    },
    {
     "name": "stdout",
     "output_type": "stream",
     "text": [
      "Done\n",
      "Generating 238/5247\n"
     ]
    },
    {
     "name": "stderr",
     "output_type": "stream",
     "text": [
      "100%|██████████| 64/64 [00:04<00:00, 14.81it/s]\n",
      "100%|██████████| 128/128 [00:08<00:00, 14.36it/s]\n",
      "100%|██████████| 128/128 [00:10<00:00, 12.34it/s]\n",
      "100%|██████████| 256/256 [00:58<00:00,  4.39it/s]\n",
      "100%|██████████| 1/1 [00:00<00:00, 74.86it/s]\n",
      "100%|██████████| 1/1 [00:00<00:00, 29.47it/s]\n",
      "100%|██████████| 1/1 [00:00<00:00,  6.00it/s]\n"
     ]
    },
    {
     "name": "stdout",
     "output_type": "stream",
     "text": [
      "Done\n",
      "Generating 239/5247\n"
     ]
    },
    {
     "name": "stderr",
     "output_type": "stream",
     "text": [
      "100%|██████████| 64/64 [00:04<00:00, 14.92it/s]\n",
      "100%|██████████| 128/128 [00:08<00:00, 14.40it/s]\n",
      "100%|██████████| 128/128 [00:09<00:00, 13.10it/s]\n",
      "100%|██████████| 256/256 [00:40<00:00,  6.34it/s]\n",
      "100%|██████████| 1/1 [00:00<00:00, 77.51it/s]\n",
      "100%|██████████| 1/1 [00:00<00:00, 22.33it/s]\n",
      "100%|██████████| 1/1 [00:00<00:00,  6.47it/s]\n"
     ]
    },
    {
     "name": "stdout",
     "output_type": "stream",
     "text": [
      "Done\n",
      "Generating 240/5247\n"
     ]
    },
    {
     "name": "stderr",
     "output_type": "stream",
     "text": [
      "100%|██████████| 64/64 [00:04<00:00, 14.97it/s]\n",
      "100%|██████████| 128/128 [00:08<00:00, 14.37it/s]\n",
      "100%|██████████| 128/128 [00:09<00:00, 13.25it/s]\n",
      "100%|██████████| 256/256 [00:41<00:00,  6.23it/s]\n",
      "100%|██████████| 1/1 [00:00<00:00, 96.23it/s]\n",
      "100%|██████████| 1/1 [00:00<00:00, 30.56it/s]\n",
      "100%|██████████| 1/1 [00:00<00:00,  6.76it/s]\n"
     ]
    },
    {
     "name": "stdout",
     "output_type": "stream",
     "text": [
      "Done\n",
      "Generating 241/5247\n"
     ]
    },
    {
     "name": "stderr",
     "output_type": "stream",
     "text": [
      "100%|██████████| 64/64 [00:04<00:00, 15.11it/s]\n",
      "100%|██████████| 128/128 [00:08<00:00, 14.37it/s]\n",
      "100%|██████████| 128/128 [00:09<00:00, 13.29it/s]\n",
      "100%|██████████| 256/256 [00:40<00:00,  6.38it/s]\n",
      "100%|██████████| 1/1 [00:00<00:00, 97.61it/s]\n",
      "100%|██████████| 1/1 [00:00<00:00, 26.77it/s]\n",
      "100%|██████████| 1/1 [00:00<00:00,  6.55it/s]\n"
     ]
    },
    {
     "name": "stdout",
     "output_type": "stream",
     "text": [
      "Done\n",
      "Generating 242/5247\n"
     ]
    },
    {
     "name": "stderr",
     "output_type": "stream",
     "text": [
      "100%|██████████| 64/64 [00:04<00:00, 14.96it/s]\n",
      "100%|██████████| 128/128 [00:08<00:00, 14.46it/s]\n",
      "100%|██████████| 128/128 [00:09<00:00, 13.23it/s]\n",
      "100%|██████████| 256/256 [00:42<00:00,  6.00it/s]\n",
      "100%|██████████| 1/1 [00:00<00:00, 93.41it/s]\n",
      "100%|██████████| 1/1 [00:00<00:00, 28.62it/s]\n",
      "100%|██████████| 1/1 [00:00<00:00,  6.72it/s]\n"
     ]
    },
    {
     "name": "stdout",
     "output_type": "stream",
     "text": [
      "Done\n",
      "Generating 243/5247\n"
     ]
    },
    {
     "name": "stderr",
     "output_type": "stream",
     "text": [
      "100%|██████████| 64/64 [00:04<00:00, 15.02it/s]\n",
      "100%|██████████| 128/128 [00:08<00:00, 14.52it/s]\n",
      "100%|██████████| 128/128 [00:10<00:00, 12.32it/s]\n",
      "100%|██████████| 256/256 [00:54<00:00,  4.70it/s]\n",
      "100%|██████████| 1/1 [00:00<00:00, 76.52it/s]\n",
      "100%|██████████| 1/1 [00:00<00:00, 28.14it/s]\n",
      "100%|██████████| 1/1 [00:00<00:00,  5.86it/s]\n"
     ]
    },
    {
     "name": "stdout",
     "output_type": "stream",
     "text": [
      "Done\n",
      "Generating 244/5247\n"
     ]
    },
    {
     "name": "stderr",
     "output_type": "stream",
     "text": [
      "100%|██████████| 64/64 [00:04<00:00, 14.90it/s]\n",
      "100%|██████████| 128/128 [00:08<00:00, 14.34it/s]\n",
      "100%|██████████| 128/128 [00:12<00:00, 10.14it/s]\n",
      "100%|██████████| 256/256 [01:20<00:00,  3.20it/s]\n",
      "100%|██████████| 1/1 [00:00<00:00, 66.95it/s]\n",
      "100%|██████████| 1/1 [00:00<00:00, 16.72it/s]\n",
      "100%|██████████| 1/1 [00:00<00:00,  3.52it/s]\n"
     ]
    },
    {
     "name": "stdout",
     "output_type": "stream",
     "text": [
      "Done\n",
      "Generating 245/5247\n"
     ]
    },
    {
     "name": "stderr",
     "output_type": "stream",
     "text": [
      "100%|██████████| 64/64 [00:04<00:00, 14.99it/s]\n",
      "100%|██████████| 128/128 [00:08<00:00, 14.34it/s]\n",
      "100%|██████████| 128/128 [00:09<00:00, 13.12it/s]\n",
      "100%|██████████| 256/256 [00:43<00:00,  5.85it/s]\n",
      "100%|██████████| 1/1 [00:00<00:00, 98.01it/s]\n",
      "100%|██████████| 1/1 [00:00<00:00, 29.60it/s]\n",
      "100%|██████████| 1/1 [00:00<00:00,  6.96it/s]\n"
     ]
    },
    {
     "name": "stdout",
     "output_type": "stream",
     "text": [
      "Done\n",
      "Generating 246/5247\n"
     ]
    },
    {
     "name": "stderr",
     "output_type": "stream",
     "text": [
      "100%|██████████| 64/64 [00:04<00:00, 15.07it/s]\n",
      "100%|██████████| 128/128 [00:08<00:00, 14.43it/s]\n",
      "100%|██████████| 128/128 [00:09<00:00, 13.27it/s]\n",
      "100%|██████████| 256/256 [00:39<00:00,  6.44it/s]\n",
      "100%|██████████| 1/1 [00:00<00:00, 95.09it/s]\n",
      "100%|██████████| 1/1 [00:00<00:00, 27.56it/s]\n",
      "100%|██████████| 1/1 [00:00<00:00,  6.47it/s]\n"
     ]
    },
    {
     "name": "stdout",
     "output_type": "stream",
     "text": [
      "Done\n",
      "Generating 247/5247\n"
     ]
    },
    {
     "name": "stderr",
     "output_type": "stream",
     "text": [
      "100%|██████████| 64/64 [00:04<00:00, 14.88it/s]\n",
      "100%|██████████| 128/128 [00:08<00:00, 14.55it/s]\n",
      "100%|██████████| 128/128 [00:09<00:00, 13.18it/s]\n",
      "100%|██████████| 256/256 [00:45<00:00,  5.62it/s]\n",
      "100%|██████████| 1/1 [00:00<00:00, 94.96it/s]\n",
      "100%|██████████| 1/1 [00:00<00:00, 36.32it/s]\n",
      "100%|██████████| 1/1 [00:00<00:00,  7.71it/s]\n"
     ]
    },
    {
     "name": "stdout",
     "output_type": "stream",
     "text": [
      "Done\n",
      "Generating 248/5247\n"
     ]
    },
    {
     "name": "stderr",
     "output_type": "stream",
     "text": [
      "100%|██████████| 64/64 [00:04<00:00, 14.99it/s]\n",
      "100%|██████████| 128/128 [00:08<00:00, 14.42it/s]\n",
      "100%|██████████| 128/128 [00:10<00:00, 12.34it/s]\n",
      "100%|██████████| 256/256 [00:50<00:00,  5.06it/s]\n",
      "100%|██████████| 1/1 [00:00<00:00, 80.72it/s]\n",
      "100%|██████████| 1/1 [00:00<00:00, 29.03it/s]\n",
      "100%|██████████| 1/1 [00:00<00:00,  6.52it/s]\n"
     ]
    },
    {
     "name": "stdout",
     "output_type": "stream",
     "text": [
      "Done\n",
      "Generating 249/5247\n"
     ]
    },
    {
     "name": "stderr",
     "output_type": "stream",
     "text": [
      "100%|██████████| 64/64 [00:12<00:00,  5.05it/s]\n",
      "100%|██████████| 128/128 [00:25<00:00,  4.93it/s]\n",
      "100%|██████████| 128/128 [00:26<00:00,  4.79it/s]\n",
      "100%|██████████| 256/256 [01:29<00:00,  2.86it/s]\n",
      "100%|██████████| 1/1 [00:00<00:00, 54.10it/s]\n",
      "100%|██████████| 1/1 [00:00<00:00, 17.77it/s]\n",
      "100%|██████████| 1/1 [00:00<00:00,  6.05it/s]\n"
     ]
    },
    {
     "name": "stdout",
     "output_type": "stream",
     "text": [
      "Done\n",
      "Generating 250/5247\n"
     ]
    },
    {
     "name": "stderr",
     "output_type": "stream",
     "text": [
      "100%|██████████| 64/64 [00:12<00:00,  5.25it/s]\n",
      "100%|██████████| 128/128 [00:26<00:00,  4.90it/s]\n",
      "100%|██████████| 128/128 [00:28<00:00,  4.44it/s]\n",
      "100%|██████████| 256/256 [01:33<00:00,  2.75it/s]\n",
      "100%|██████████| 1/1 [00:00<00:00, 94.37it/s]\n",
      "100%|██████████| 1/1 [00:00<00:00, 28.29it/s]\n",
      "100%|██████████| 1/1 [00:00<00:00,  6.81it/s]\n"
     ]
    },
    {
     "name": "stdout",
     "output_type": "stream",
     "text": [
      "Done\n",
      "Generating 251/5247\n"
     ]
    },
    {
     "name": "stderr",
     "output_type": "stream",
     "text": [
      "100%|██████████| 64/64 [00:12<00:00,  5.03it/s]\n",
      "100%|██████████| 128/128 [00:25<00:00,  5.03it/s]\n",
      "100%|██████████| 128/128 [00:10<00:00, 12.46it/s]\n",
      "100%|██████████| 256/256 [00:45<00:00,  5.62it/s]\n",
      "100%|██████████| 1/1 [00:00<00:00, 72.90it/s]\n",
      "100%|██████████| 1/1 [00:00<00:00, 26.99it/s]\n",
      "100%|██████████| 1/1 [00:00<00:00,  7.46it/s]\n"
     ]
    },
    {
     "name": "stdout",
     "output_type": "stream",
     "text": [
      "Done\n",
      "Generating 252/5247\n"
     ]
    },
    {
     "name": "stderr",
     "output_type": "stream",
     "text": [
      "100%|██████████| 64/64 [00:04<00:00, 14.93it/s]\n",
      "100%|██████████| 128/128 [00:08<00:00, 14.62it/s]\n",
      "100%|██████████| 128/128 [00:10<00:00, 12.21it/s]\n",
      "100%|██████████| 256/256 [00:59<00:00,  4.27it/s]\n",
      "100%|██████████| 1/1 [00:00<00:00, 67.64it/s]\n",
      "100%|██████████| 1/1 [00:00<00:00, 30.27it/s]\n",
      "100%|██████████| 1/1 [00:00<00:00,  6.11it/s]\n"
     ]
    },
    {
     "name": "stdout",
     "output_type": "stream",
     "text": [
      "Done\n",
      "Generating 253/5247\n"
     ]
    },
    {
     "name": "stderr",
     "output_type": "stream",
     "text": [
      "100%|██████████| 64/64 [00:04<00:00, 14.84it/s]\n",
      "100%|██████████| 128/128 [00:08<00:00, 14.62it/s]\n",
      "100%|██████████| 128/128 [00:09<00:00, 13.61it/s]\n",
      "100%|██████████| 256/256 [00:39<00:00,  6.54it/s]\n",
      "100%|██████████| 1/1 [00:00<00:00, 88.78it/s]\n",
      "100%|██████████| 1/1 [00:00<00:00, 29.87it/s]\n",
      "100%|██████████| 1/1 [00:00<00:00,  6.90it/s]\n"
     ]
    },
    {
     "name": "stdout",
     "output_type": "stream",
     "text": [
      "Done\n",
      "Generating 254/5247\n"
     ]
    },
    {
     "name": "stderr",
     "output_type": "stream",
     "text": [
      "100%|██████████| 64/64 [00:04<00:00, 15.38it/s]\n",
      "100%|██████████| 128/128 [00:08<00:00, 14.90it/s]\n",
      "100%|██████████| 128/128 [00:10<00:00, 12.37it/s]\n",
      "100%|██████████| 256/256 [00:43<00:00,  5.85it/s]\n",
      "100%|██████████| 1/1 [00:00<00:00, 71.91it/s]\n",
      "100%|██████████| 1/1 [00:00<00:00, 22.88it/s]\n",
      "100%|██████████| 1/1 [00:00<00:00,  5.72it/s]\n"
     ]
    },
    {
     "name": "stdout",
     "output_type": "stream",
     "text": [
      "Done\n",
      "Generating 255/5247\n"
     ]
    },
    {
     "name": "stderr",
     "output_type": "stream",
     "text": [
      "100%|██████████| 64/64 [00:04<00:00, 15.32it/s]\n",
      "100%|██████████| 128/128 [00:08<00:00, 15.07it/s]\n",
      "100%|██████████| 128/128 [00:10<00:00, 12.42it/s]\n",
      "100%|██████████| 256/256 [01:28<00:00,  2.89it/s]\n",
      "100%|██████████| 1/1 [00:00<00:00, 70.89it/s]\n",
      "100%|██████████| 1/1 [00:00<00:00, 27.95it/s]\n",
      "100%|██████████| 1/1 [00:00<00:00,  6.14it/s]\n"
     ]
    },
    {
     "name": "stdout",
     "output_type": "stream",
     "text": [
      "Done\n",
      "Generating 256/5247\n"
     ]
    },
    {
     "name": "stderr",
     "output_type": "stream",
     "text": [
      "100%|██████████| 64/64 [00:13<00:00,  4.72it/s]\n",
      "100%|██████████| 128/128 [00:28<00:00,  4.46it/s]\n",
      "100%|██████████| 128/128 [00:30<00:00,  4.21it/s]\n",
      "100%|██████████| 256/256 [01:40<00:00,  2.54it/s]\n",
      "100%|██████████| 1/1 [00:00<00:00, 93.36it/s]\n",
      "100%|██████████| 1/1 [00:00<00:00, 29.72it/s]\n",
      "100%|██████████| 1/1 [00:00<00:00,  7.03it/s]\n"
     ]
    },
    {
     "name": "stdout",
     "output_type": "stream",
     "text": [
      "Done\n",
      "Generating 257/5247\n"
     ]
    },
    {
     "name": "stderr",
     "output_type": "stream",
     "text": [
      "100%|██████████| 64/64 [00:13<00:00,  4.65it/s]\n",
      "100%|██████████| 128/128 [00:28<00:00,  4.51it/s]\n",
      "100%|██████████| 128/128 [00:30<00:00,  4.23it/s]\n",
      "100%|██████████| 256/256 [01:33<00:00,  2.73it/s]\n",
      "100%|██████████| 1/1 [00:00<00:00, 90.78it/s]\n",
      "100%|██████████| 1/1 [00:00<00:00, 30.60it/s]\n",
      "100%|██████████| 1/1 [00:00<00:00,  7.72it/s]\n"
     ]
    },
    {
     "name": "stdout",
     "output_type": "stream",
     "text": [
      "Done\n",
      "Generating 258/5247\n"
     ]
    },
    {
     "name": "stderr",
     "output_type": "stream",
     "text": [
      "100%|██████████| 64/64 [00:13<00:00,  4.59it/s]\n",
      "100%|██████████| 128/128 [00:28<00:00,  4.45it/s]\n",
      "100%|██████████| 128/128 [00:31<00:00,  4.09it/s]\n",
      "100%|██████████| 256/256 [01:06<00:00,  3.82it/s]\n",
      "100%|██████████| 1/1 [00:00<00:00, 74.74it/s]\n",
      "100%|██████████| 1/1 [00:00<00:00, 24.13it/s]\n",
      "100%|██████████| 1/1 [00:00<00:00,  6.68it/s]\n"
     ]
    },
    {
     "name": "stdout",
     "output_type": "stream",
     "text": [
      "Done\n",
      "Generating 259/5247\n"
     ]
    },
    {
     "name": "stderr",
     "output_type": "stream",
     "text": [
      "100%|██████████| 64/64 [00:04<00:00, 15.05it/s]\n",
      "100%|██████████| 128/128 [00:08<00:00, 14.31it/s]\n",
      "100%|██████████| 128/128 [00:09<00:00, 13.19it/s]\n",
      "100%|██████████| 256/256 [00:42<00:00,  6.01it/s]\n",
      "100%|██████████| 1/1 [00:00<00:00, 89.97it/s]\n",
      "100%|██████████| 1/1 [00:00<00:00, 33.96it/s]\n",
      "100%|██████████| 1/1 [00:00<00:00,  8.07it/s]\n"
     ]
    },
    {
     "name": "stdout",
     "output_type": "stream",
     "text": [
      "Done\n",
      "Generating 260/5247\n"
     ]
    },
    {
     "name": "stderr",
     "output_type": "stream",
     "text": [
      "100%|██████████| 64/64 [00:04<00:00, 14.97it/s]\n",
      "100%|██████████| 128/128 [00:08<00:00, 14.42it/s]\n",
      "100%|██████████| 128/128 [00:09<00:00, 13.07it/s]\n",
      "100%|██████████| 256/256 [00:40<00:00,  6.31it/s]\n",
      "100%|██████████| 1/1 [00:00<00:00, 73.48it/s]\n",
      "100%|██████████| 1/1 [00:00<00:00, 29.22it/s]\n",
      "100%|██████████| 1/1 [00:00<00:00,  8.02it/s]\n"
     ]
    },
    {
     "name": "stdout",
     "output_type": "stream",
     "text": [
      "Done\n",
      "Generating 261/5247\n"
     ]
    },
    {
     "name": "stderr",
     "output_type": "stream",
     "text": [
      "100%|██████████| 64/64 [00:04<00:00, 14.95it/s]\n",
      "100%|██████████| 128/128 [00:08<00:00, 14.39it/s]\n",
      "100%|██████████| 128/128 [00:09<00:00, 13.33it/s]\n",
      "100%|██████████| 256/256 [00:39<00:00,  6.49it/s]\n",
      "100%|██████████| 1/1 [00:00<00:00, 96.64it/s]\n",
      "100%|██████████| 1/1 [00:00<00:00, 29.01it/s]\n",
      "100%|██████████| 1/1 [00:00<00:00,  6.42it/s]\n"
     ]
    },
    {
     "name": "stdout",
     "output_type": "stream",
     "text": [
      "Done\n",
      "Generating 262/5247\n"
     ]
    },
    {
     "name": "stderr",
     "output_type": "stream",
     "text": [
      "100%|██████████| 64/64 [00:04<00:00, 15.14it/s]\n",
      "100%|██████████| 128/128 [00:13<00:00,  9.27it/s]\n",
      "100%|██████████| 128/128 [00:10<00:00, 12.53it/s]\n",
      "100%|██████████| 256/256 [00:54<00:00,  4.73it/s]\n",
      "100%|██████████| 1/1 [00:00<00:00, 79.46it/s]\n",
      "100%|██████████| 1/1 [00:00<00:00, 32.61it/s]\n",
      "100%|██████████| 1/1 [00:00<00:00,  6.48it/s]\n"
     ]
    },
    {
     "name": "stdout",
     "output_type": "stream",
     "text": [
      "Done\n",
      "Generating 263/5247\n"
     ]
    },
    {
     "name": "stderr",
     "output_type": "stream",
     "text": [
      "100%|██████████| 64/64 [00:04<00:00, 15.03it/s]\n",
      "100%|██████████| 128/128 [00:08<00:00, 14.40it/s]\n",
      "100%|██████████| 128/128 [00:10<00:00, 12.72it/s]\n",
      "100%|██████████| 256/256 [00:39<00:00,  6.44it/s]\n",
      "100%|██████████| 1/1 [00:00<00:00, 74.44it/s]\n",
      "100%|██████████| 1/1 [00:00<00:00, 27.73it/s]\n",
      "100%|██████████| 1/1 [00:00<00:00,  7.05it/s]\n"
     ]
    },
    {
     "name": "stdout",
     "output_type": "stream",
     "text": [
      "Done\n",
      "Generating 264/5247\n"
     ]
    },
    {
     "name": "stderr",
     "output_type": "stream",
     "text": [
      "100%|██████████| 64/64 [00:04<00:00, 15.08it/s]\n",
      "100%|██████████| 128/128 [00:08<00:00, 14.27it/s]\n",
      "100%|██████████| 128/128 [00:09<00:00, 13.20it/s]\n",
      "100%|██████████| 256/256 [00:41<00:00,  6.15it/s]\n",
      "100%|██████████| 1/1 [00:00<00:00, 94.34it/s]\n",
      "100%|██████████| 1/1 [00:00<00:00, 29.12it/s]\n",
      "100%|██████████| 1/1 [00:00<00:00,  6.31it/s]\n"
     ]
    },
    {
     "name": "stdout",
     "output_type": "stream",
     "text": [
      "Done\n",
      "Generating 265/5247\n"
     ]
    },
    {
     "name": "stderr",
     "output_type": "stream",
     "text": [
      "100%|██████████| 64/64 [00:04<00:00, 15.04it/s]\n",
      "100%|██████████| 128/128 [00:08<00:00, 14.45it/s]\n",
      "100%|██████████| 128/128 [00:10<00:00, 12.46it/s]\n",
      "100%|██████████| 256/256 [00:47<00:00,  5.35it/s]\n",
      "100%|██████████| 1/1 [00:00<00:00, 71.86it/s]\n",
      "100%|██████████| 1/1 [00:00<00:00, 29.01it/s]\n",
      "100%|██████████| 1/1 [00:00<00:00,  6.77it/s]\n"
     ]
    },
    {
     "name": "stdout",
     "output_type": "stream",
     "text": [
      "Done\n",
      "Generating 266/5247\n"
     ]
    },
    {
     "name": "stderr",
     "output_type": "stream",
     "text": [
      "100%|██████████| 64/64 [00:04<00:00, 15.02it/s]\n",
      "100%|██████████| 128/128 [00:08<00:00, 14.25it/s]\n",
      "100%|██████████| 128/128 [00:10<00:00, 12.38it/s]\n",
      "100%|██████████| 256/256 [00:50<00:00,  5.03it/s]\n",
      "100%|██████████| 1/1 [00:00<00:00, 72.04it/s]\n",
      "100%|██████████| 1/1 [00:00<00:00, 28.71it/s]\n",
      "100%|██████████| 1/1 [00:00<00:00,  6.24it/s]\n"
     ]
    },
    {
     "name": "stdout",
     "output_type": "stream",
     "text": [
      "Done\n",
      "Generating 267/5247\n"
     ]
    },
    {
     "name": "stderr",
     "output_type": "stream",
     "text": [
      "100%|██████████| 64/64 [00:04<00:00, 15.04it/s]\n",
      "100%|██████████| 128/128 [00:08<00:00, 14.71it/s]\n",
      "100%|██████████| 128/128 [00:10<00:00, 12.48it/s]\n",
      "100%|██████████| 256/256 [00:46<00:00,  5.46it/s]\n",
      "100%|██████████| 1/1 [00:00<00:00, 74.99it/s]\n",
      "100%|██████████| 1/1 [00:00<00:00, 31.00it/s]\n",
      "100%|██████████| 1/1 [00:00<00:00,  6.69it/s]\n"
     ]
    },
    {
     "name": "stdout",
     "output_type": "stream",
     "text": [
      "Done\n",
      "Generating 268/5247\n"
     ]
    },
    {
     "name": "stderr",
     "output_type": "stream",
     "text": [
      "100%|██████████| 64/64 [00:04<00:00, 15.09it/s]\n",
      "100%|██████████| 128/128 [00:08<00:00, 14.37it/s]\n",
      "100%|██████████| 128/128 [00:10<00:00, 12.26it/s]\n",
      "100%|██████████| 256/256 [00:48<00:00,  5.30it/s]\n",
      "100%|██████████| 1/1 [00:00<00:00, 74.21it/s]\n",
      "100%|██████████| 1/1 [00:00<00:00, 29.50it/s]\n",
      "100%|██████████| 1/1 [00:00<00:00,  7.21it/s]\n"
     ]
    },
    {
     "name": "stdout",
     "output_type": "stream",
     "text": [
      "Done\n",
      "Generating 269/5247\n"
     ]
    },
    {
     "name": "stderr",
     "output_type": "stream",
     "text": [
      "100%|██████████| 64/64 [00:04<00:00, 15.08it/s]\n",
      "100%|██████████| 128/128 [00:08<00:00, 14.56it/s]\n",
      "100%|██████████| 128/128 [00:09<00:00, 13.43it/s]\n",
      "100%|██████████| 256/256 [00:36<00:00,  6.92it/s]\n",
      "100%|██████████| 1/1 [00:00<00:00, 93.17it/s]\n",
      "100%|██████████| 1/1 [00:00<00:00, 29.51it/s]\n",
      "100%|██████████| 1/1 [00:00<00:00,  7.37it/s]\n"
     ]
    },
    {
     "name": "stdout",
     "output_type": "stream",
     "text": [
      "Done\n",
      "Generating 270/5247\n"
     ]
    },
    {
     "name": "stderr",
     "output_type": "stream",
     "text": [
      "100%|██████████| 64/64 [00:04<00:00, 14.81it/s]\n",
      "100%|██████████| 128/128 [00:08<00:00, 14.42it/s]\n",
      "100%|██████████| 128/128 [00:10<00:00, 12.68it/s]\n",
      "100%|██████████| 256/256 [00:46<00:00,  5.56it/s]\n",
      "100%|██████████| 1/1 [00:00<00:00, 80.42it/s]\n",
      "100%|██████████| 1/1 [00:00<00:00, 28.77it/s]\n",
      "100%|██████████| 1/1 [00:00<00:00,  6.40it/s]\n"
     ]
    },
    {
     "name": "stdout",
     "output_type": "stream",
     "text": [
      "Done\n",
      "Generating 271/5247\n"
     ]
    },
    {
     "name": "stderr",
     "output_type": "stream",
     "text": [
      "100%|██████████| 64/64 [00:04<00:00, 14.99it/s]\n",
      "100%|██████████| 128/128 [00:08<00:00, 14.56it/s]\n",
      "100%|██████████| 128/128 [00:09<00:00, 13.45it/s]\n",
      "100%|██████████| 256/256 [00:36<00:00,  7.09it/s]\n",
      "100%|██████████| 1/1 [00:00<00:00, 93.10it/s]\n",
      "100%|██████████| 1/1 [00:00<00:00, 31.70it/s]\n",
      "100%|██████████| 1/1 [00:00<00:00,  8.00it/s]\n"
     ]
    },
    {
     "name": "stdout",
     "output_type": "stream",
     "text": [
      "Done\n",
      "Generating 272/5247\n"
     ]
    },
    {
     "name": "stderr",
     "output_type": "stream",
     "text": [
      "100%|██████████| 64/64 [00:04<00:00, 15.04it/s]\n",
      "100%|██████████| 128/128 [00:08<00:00, 14.56it/s]\n",
      "100%|██████████| 128/128 [00:10<00:00, 12.11it/s]\n",
      "100%|██████████| 256/256 [00:57<00:00,  4.46it/s]\n",
      "100%|██████████| 1/1 [00:00<00:00, 70.18it/s]\n",
      "100%|██████████| 1/1 [00:00<00:00, 26.18it/s]\n",
      "100%|██████████| 1/1 [00:00<00:00,  5.55it/s]\n"
     ]
    },
    {
     "name": "stdout",
     "output_type": "stream",
     "text": [
      "Done\n",
      "Generating 273/5247\n"
     ]
    },
    {
     "name": "stderr",
     "output_type": "stream",
     "text": [
      "100%|██████████| 64/64 [00:04<00:00, 15.02it/s]\n",
      "100%|██████████| 128/128 [00:08<00:00, 14.49it/s]\n",
      "100%|██████████| 128/128 [00:09<00:00, 13.26it/s]\n",
      "100%|██████████| 256/256 [00:40<00:00,  6.32it/s]\n",
      "100%|██████████| 1/1 [00:00<00:00, 79.92it/s]\n",
      "100%|██████████| 1/1 [00:00<00:00, 29.96it/s]\n",
      "100%|██████████| 1/1 [00:00<00:00,  6.92it/s]\n"
     ]
    },
    {
     "name": "stdout",
     "output_type": "stream",
     "text": [
      "Done\n",
      "Generating 274/5247\n"
     ]
    },
    {
     "name": "stderr",
     "output_type": "stream",
     "text": [
      "100%|██████████| 64/64 [00:04<00:00, 14.97it/s]\n",
      "100%|██████████| 128/128 [00:08<00:00, 14.39it/s]\n",
      "100%|██████████| 128/128 [00:10<00:00, 12.29it/s]\n",
      "100%|██████████| 256/256 [00:47<00:00,  5.44it/s]\n",
      "100%|██████████| 1/1 [00:00<00:00, 36.46it/s]\n",
      "100%|██████████| 1/1 [00:00<00:00, 22.58it/s]\n",
      "100%|██████████| 1/1 [00:00<00:00,  6.01it/s]\n"
     ]
    },
    {
     "name": "stdout",
     "output_type": "stream",
     "text": [
      "Done\n",
      "Generating 275/5247\n"
     ]
    },
    {
     "name": "stderr",
     "output_type": "stream",
     "text": [
      "100%|██████████| 64/64 [00:04<00:00, 15.06it/s]\n",
      "100%|██████████| 128/128 [00:08<00:00, 14.36it/s]\n",
      "100%|██████████| 128/128 [00:09<00:00, 13.40it/s]\n",
      "100%|██████████| 256/256 [00:37<00:00,  6.90it/s]\n",
      "100%|██████████| 1/1 [00:00<00:00, 86.66it/s]\n",
      "100%|██████████| 1/1 [00:00<00:00, 26.24it/s]\n",
      "100%|██████████| 1/1 [00:00<00:00,  7.94it/s]\n"
     ]
    },
    {
     "name": "stdout",
     "output_type": "stream",
     "text": [
      "Done\n",
      "Generating 276/5247\n"
     ]
    },
    {
     "name": "stderr",
     "output_type": "stream",
     "text": [
      "100%|██████████| 64/64 [00:04<00:00, 15.07it/s]\n",
      "100%|██████████| 128/128 [00:08<00:00, 14.65it/s]\n",
      "100%|██████████| 128/128 [00:09<00:00, 12.80it/s]\n",
      "100%|██████████| 256/256 [00:52<00:00,  4.84it/s]\n",
      "100%|██████████| 1/1 [00:00<00:00, 94.42it/s]\n",
      "100%|██████████| 1/1 [00:00<00:00, 34.56it/s]\n",
      "100%|██████████| 1/1 [00:00<00:00,  6.76it/s]\n"
     ]
    },
    {
     "name": "stdout",
     "output_type": "stream",
     "text": [
      "Done\n",
      "Generating 277/5247\n"
     ]
    },
    {
     "name": "stderr",
     "output_type": "stream",
     "text": [
      "100%|██████████| 64/64 [00:04<00:00, 15.09it/s]\n",
      "100%|██████████| 128/128 [00:08<00:00, 14.47it/s]\n",
      "100%|██████████| 128/128 [00:09<00:00, 13.10it/s]\n",
      "100%|██████████| 256/256 [00:42<00:00,  6.04it/s]\n",
      "100%|██████████| 1/1 [00:00<00:00, 87.08it/s]\n",
      "100%|██████████| 1/1 [00:00<00:00, 38.97it/s]\n",
      "100%|██████████| 1/1 [00:00<00:00,  9.23it/s]\n"
     ]
    },
    {
     "name": "stdout",
     "output_type": "stream",
     "text": [
      "Done\n",
      "Generating 278/5247\n"
     ]
    },
    {
     "name": "stderr",
     "output_type": "stream",
     "text": [
      "100%|██████████| 64/64 [00:04<00:00, 15.13it/s]\n",
      "100%|██████████| 128/128 [00:08<00:00, 14.51it/s]\n",
      "100%|██████████| 128/128 [00:10<00:00, 12.55it/s]\n",
      "100%|██████████| 256/256 [01:24<00:00,  3.01it/s]\n",
      "100%|██████████| 1/1 [00:00<00:00, 75.03it/s]\n",
      "100%|██████████| 1/1 [00:00<00:00, 32.13it/s]\n",
      "100%|██████████| 1/1 [00:00<00:00,  6.46it/s]\n"
     ]
    },
    {
     "name": "stdout",
     "output_type": "stream",
     "text": [
      "Done\n",
      "Generating 279/5247\n"
     ]
    },
    {
     "name": "stderr",
     "output_type": "stream",
     "text": [
      "100%|██████████| 64/64 [00:11<00:00,  5.51it/s]\n",
      "100%|██████████| 128/128 [00:24<00:00,  5.21it/s]\n",
      "100%|██████████| 128/128 [00:29<00:00,  4.38it/s]\n",
      "100%|██████████| 256/256 [01:49<00:00,  2.34it/s]\n",
      "100%|██████████| 1/1 [00:00<00:00, 69.06it/s]\n",
      "100%|██████████| 1/1 [00:00<00:00, 25.32it/s]\n",
      "100%|██████████| 1/1 [00:00<00:00,  5.71it/s]\n"
     ]
    },
    {
     "name": "stdout",
     "output_type": "stream",
     "text": [
      "Done\n",
      "Generating 280/5247\n"
     ]
    },
    {
     "name": "stderr",
     "output_type": "stream",
     "text": [
      "100%|██████████| 64/64 [00:13<00:00,  4.71it/s]\n",
      "100%|██████████| 128/128 [00:25<00:00,  4.99it/s]\n",
      "100%|██████████| 128/128 [00:10<00:00, 12.10it/s]\n",
      "100%|██████████| 256/256 [00:58<00:00,  4.40it/s]\n",
      "100%|██████████| 1/1 [00:00<00:00, 77.16it/s]\n",
      "100%|██████████| 1/1 [00:00<00:00, 28.61it/s]\n",
      "100%|██████████| 1/1 [00:00<00:00,  6.10it/s]\n"
     ]
    },
    {
     "name": "stdout",
     "output_type": "stream",
     "text": [
      "Done\n",
      "Generating 281/5247\n"
     ]
    },
    {
     "name": "stderr",
     "output_type": "stream",
     "text": [
      "100%|██████████| 64/64 [00:04<00:00, 15.02it/s]\n",
      "100%|██████████| 128/128 [00:08<00:00, 14.69it/s]\n",
      "100%|██████████| 128/128 [00:10<00:00, 12.23it/s]\n",
      "100%|██████████| 256/256 [00:57<00:00,  4.45it/s]\n",
      "100%|██████████| 1/1 [00:00<00:00, 79.28it/s]\n",
      "100%|██████████| 1/1 [00:00<00:00, 27.76it/s]\n",
      "100%|██████████| 1/1 [00:00<00:00,  6.43it/s]\n"
     ]
    },
    {
     "name": "stdout",
     "output_type": "stream",
     "text": [
      "Done\n",
      "Generating 282/5247\n"
     ]
    },
    {
     "name": "stderr",
     "output_type": "stream",
     "text": [
      "100%|██████████| 64/64 [00:04<00:00, 15.14it/s]\n",
      "100%|██████████| 128/128 [00:08<00:00, 14.60it/s]\n",
      "100%|██████████| 128/128 [00:09<00:00, 13.00it/s]\n",
      "100%|██████████| 256/256 [00:45<00:00,  5.65it/s]\n",
      "100%|██████████| 1/1 [00:00<00:00, 83.17it/s]\n",
      "100%|██████████| 1/1 [00:00<00:00, 26.73it/s]\n",
      "100%|██████████| 1/1 [00:00<00:00,  8.04it/s]\n"
     ]
    },
    {
     "name": "stdout",
     "output_type": "stream",
     "text": [
      "Done\n",
      "Generating 283/5247\n"
     ]
    },
    {
     "name": "stderr",
     "output_type": "stream",
     "text": [
      "100%|██████████| 64/64 [00:04<00:00, 15.01it/s]\n",
      "100%|██████████| 128/128 [00:08<00:00, 14.73it/s]\n",
      "100%|██████████| 128/128 [00:10<00:00, 12.53it/s]\n",
      "100%|██████████| 256/256 [00:56<00:00,  4.56it/s]\n",
      "100%|██████████| 1/1 [00:00<00:00, 94.40it/s]\n",
      "100%|██████████| 1/1 [00:00<00:00, 32.94it/s]\n",
      "100%|██████████| 1/1 [00:00<00:00,  6.52it/s]\n"
     ]
    },
    {
     "name": "stdout",
     "output_type": "stream",
     "text": [
      "Done\n",
      "Generating 284/5247\n"
     ]
    },
    {
     "name": "stderr",
     "output_type": "stream",
     "text": [
      "100%|██████████| 64/64 [00:04<00:00, 15.13it/s]\n",
      "100%|██████████| 128/128 [00:08<00:00, 14.44it/s]\n",
      "100%|██████████| 128/128 [00:10<00:00, 12.21it/s]\n",
      "100%|██████████| 256/256 [00:55<00:00,  4.59it/s]\n",
      "100%|██████████| 1/1 [00:00<00:00, 75.82it/s]\n",
      "100%|██████████| 1/1 [00:00<00:00, 24.37it/s]\n",
      "100%|██████████| 1/1 [00:00<00:00,  5.66it/s]\n"
     ]
    },
    {
     "name": "stdout",
     "output_type": "stream",
     "text": [
      "Done\n",
      "Generating 285/5247\n"
     ]
    },
    {
     "name": "stderr",
     "output_type": "stream",
     "text": [
      "100%|██████████| 64/64 [00:04<00:00, 15.01it/s]\n",
      "100%|██████████| 128/128 [00:08<00:00, 14.47it/s]\n",
      "100%|██████████| 128/128 [00:09<00:00, 13.41it/s]\n",
      "100%|██████████| 256/256 [00:40<00:00,  6.36it/s]\n",
      "100%|██████████| 1/1 [00:00<00:00, 101.73it/s]\n",
      "100%|██████████| 1/1 [00:00<00:00, 29.39it/s]\n",
      "100%|██████████| 1/1 [00:00<00:00,  6.34it/s]\n"
     ]
    },
    {
     "name": "stdout",
     "output_type": "stream",
     "text": [
      "Done\n",
      "Generating 286/5247\n"
     ]
    },
    {
     "name": "stderr",
     "output_type": "stream",
     "text": [
      "100%|██████████| 64/64 [00:04<00:00, 15.02it/s]\n",
      "100%|██████████| 128/128 [00:08<00:00, 14.46it/s]\n",
      "100%|██████████| 128/128 [00:09<00:00, 13.31it/s]\n",
      "100%|██████████| 256/256 [00:38<00:00,  6.64it/s]\n",
      "100%|██████████| 1/1 [00:00<00:00, 74.52it/s]\n",
      "100%|██████████| 1/1 [00:00<00:00, 27.62it/s]\n",
      "100%|██████████| 1/1 [00:00<00:00,  7.04it/s]\n"
     ]
    },
    {
     "name": "stdout",
     "output_type": "stream",
     "text": [
      "Done\n",
      "Generating 287/5247\n"
     ]
    },
    {
     "name": "stderr",
     "output_type": "stream",
     "text": [
      "100%|██████████| 64/64 [00:04<00:00, 14.91it/s]\n",
      "100%|██████████| 128/128 [00:08<00:00, 14.47it/s]\n",
      "100%|██████████| 128/128 [00:10<00:00, 12.34it/s]\n",
      "100%|██████████| 256/256 [00:56<00:00,  4.57it/s]\n",
      "100%|██████████| 1/1 [00:00<00:00, 71.26it/s]\n",
      "100%|██████████| 1/1 [00:00<00:00, 25.59it/s]\n",
      "100%|██████████| 1/1 [00:00<00:00,  5.71it/s]\n"
     ]
    },
    {
     "name": "stdout",
     "output_type": "stream",
     "text": [
      "Done\n",
      "Generating 288/5247\n"
     ]
    },
    {
     "name": "stderr",
     "output_type": "stream",
     "text": [
      "100%|██████████| 64/64 [00:04<00:00, 15.13it/s]\n",
      "100%|██████████| 128/128 [00:08<00:00, 14.79it/s]\n",
      "100%|██████████| 128/128 [00:10<00:00, 12.78it/s]\n",
      "100%|██████████| 256/256 [00:50<00:00,  5.07it/s]\n",
      "100%|██████████| 1/1 [00:00<00:00, 76.33it/s]\n",
      "100%|██████████| 1/1 [00:00<00:00, 32.07it/s]\n",
      "100%|██████████| 1/1 [00:00<00:00,  7.84it/s]\n"
     ]
    },
    {
     "name": "stdout",
     "output_type": "stream",
     "text": [
      "Done\n",
      "Generating 289/5247\n"
     ]
    },
    {
     "name": "stderr",
     "output_type": "stream",
     "text": [
      "100%|██████████| 64/64 [00:04<00:00, 14.98it/s]\n",
      "100%|██████████| 128/128 [00:08<00:00, 14.46it/s]\n",
      "100%|██████████| 128/128 [00:10<00:00, 12.54it/s]\n",
      "100%|██████████| 256/256 [00:43<00:00,  5.91it/s]\n",
      "100%|██████████| 1/1 [00:00<00:00, 74.07it/s]\n",
      "100%|██████████| 1/1 [00:00<00:00, 26.88it/s]\n",
      "100%|██████████| 1/1 [00:00<00:00,  7.22it/s]\n"
     ]
    },
    {
     "name": "stdout",
     "output_type": "stream",
     "text": [
      "Done\n",
      "Generating 290/5247\n"
     ]
    },
    {
     "name": "stderr",
     "output_type": "stream",
     "text": [
      "100%|██████████| 64/64 [00:04<00:00, 15.07it/s]\n",
      "100%|██████████| 128/128 [00:08<00:00, 14.84it/s]\n",
      "100%|██████████| 128/128 [00:10<00:00, 12.63it/s]\n",
      "100%|██████████| 256/256 [00:43<00:00,  5.86it/s]\n",
      "100%|██████████| 1/1 [00:00<00:00, 71.83it/s]\n",
      "100%|██████████| 1/1 [00:00<00:00, 24.68it/s]\n",
      "100%|██████████| 1/1 [00:00<00:00,  6.99it/s]\n"
     ]
    },
    {
     "name": "stdout",
     "output_type": "stream",
     "text": [
      "Done\n",
      "Generating 291/5247\n"
     ]
    },
    {
     "name": "stderr",
     "output_type": "stream",
     "text": [
      "100%|██████████| 64/64 [00:04<00:00, 15.00it/s]\n",
      "100%|██████████| 128/128 [00:08<00:00, 14.49it/s]\n",
      "100%|██████████| 128/128 [00:09<00:00, 13.40it/s]\n",
      "100%|██████████| 256/256 [00:38<00:00,  6.71it/s]\n",
      "100%|██████████| 1/1 [00:00<00:00, 92.56it/s]\n",
      "100%|██████████| 1/1 [00:00<00:00, 32.55it/s]\n",
      "100%|██████████| 1/1 [00:00<00:00,  8.62it/s]\n"
     ]
    },
    {
     "name": "stdout",
     "output_type": "stream",
     "text": [
      "Done\n",
      "Generating 292/5247\n"
     ]
    },
    {
     "name": "stderr",
     "output_type": "stream",
     "text": [
      "100%|██████████| 64/64 [00:04<00:00, 15.08it/s]\n",
      "100%|██████████| 128/128 [00:08<00:00, 14.49it/s]\n",
      "100%|██████████| 128/128 [00:09<00:00, 13.55it/s]\n",
      "100%|██████████| 256/256 [00:36<00:00,  7.11it/s]\n",
      "100%|██████████| 1/1 [00:00<00:00, 92.56it/s]\n",
      "100%|██████████| 1/1 [00:00<00:00, 35.97it/s]\n",
      "100%|██████████| 1/1 [00:00<00:00, 10.34it/s]\n"
     ]
    },
    {
     "name": "stdout",
     "output_type": "stream",
     "text": [
      "Done\n",
      "Generating 293/5247\n"
     ]
    },
    {
     "name": "stderr",
     "output_type": "stream",
     "text": [
      "100%|██████████| 64/64 [00:04<00:00, 14.97it/s]\n",
      "100%|██████████| 128/128 [00:08<00:00, 14.53it/s]\n",
      "100%|██████████| 128/128 [00:09<00:00, 13.24it/s]\n",
      "100%|██████████| 256/256 [00:43<00:00,  5.93it/s]\n",
      "100%|██████████| 1/1 [00:00<00:00, 99.93it/s]\n",
      "100%|██████████| 1/1 [00:00<00:00, 32.80it/s]\n",
      "100%|██████████| 1/1 [00:00<00:00,  7.96it/s]\n"
     ]
    },
    {
     "name": "stdout",
     "output_type": "stream",
     "text": [
      "Done\n",
      "Generating 294/5247\n"
     ]
    },
    {
     "name": "stderr",
     "output_type": "stream",
     "text": [
      "100%|██████████| 64/64 [00:04<00:00, 15.13it/s]\n",
      "100%|██████████| 128/128 [00:08<00:00, 14.44it/s]\n",
      "100%|██████████| 128/128 [00:09<00:00, 13.35it/s]\n",
      "100%|██████████| 256/256 [00:38<00:00,  6.61it/s]\n",
      "100%|██████████| 1/1 [00:00<00:00, 98.60it/s]\n",
      "100%|██████████| 1/1 [00:00<00:00, 32.40it/s]\n",
      "100%|██████████| 1/1 [00:00<00:00,  8.00it/s]\n"
     ]
    },
    {
     "name": "stdout",
     "output_type": "stream",
     "text": [
      "Done\n",
      "Generating 295/5247\n"
     ]
    },
    {
     "name": "stderr",
     "output_type": "stream",
     "text": [
      "100%|██████████| 64/64 [00:04<00:00, 15.02it/s]\n",
      "100%|██████████| 128/128 [00:08<00:00, 14.46it/s]\n",
      "100%|██████████| 128/128 [00:10<00:00, 12.61it/s]\n",
      "100%|██████████| 256/256 [00:43<00:00,  5.84it/s]\n",
      "100%|██████████| 1/1 [00:00<00:00, 71.81it/s]\n",
      "100%|██████████| 1/1 [00:00<00:00, 26.24it/s]\n",
      "100%|██████████| 1/1 [00:00<00:00,  6.29it/s]\n"
     ]
    },
    {
     "name": "stdout",
     "output_type": "stream",
     "text": [
      "Done\n",
      "Generating 296/5247\n"
     ]
    },
    {
     "name": "stderr",
     "output_type": "stream",
     "text": [
      "100%|██████████| 64/64 [00:04<00:00, 15.17it/s]\n",
      "100%|██████████| 128/128 [00:08<00:00, 14.52it/s]\n",
      "100%|██████████| 128/128 [00:10<00:00, 12.20it/s]\n",
      "100%|██████████| 256/256 [00:55<00:00,  4.64it/s]\n",
      "100%|██████████| 1/1 [00:00<00:00, 71.53it/s]\n",
      "100%|██████████| 1/1 [00:00<00:00, 24.33it/s]\n",
      "100%|██████████| 1/1 [00:00<00:00,  5.69it/s]\n"
     ]
    },
    {
     "name": "stdout",
     "output_type": "stream",
     "text": [
      "Done\n",
      "Generating 297/5247\n"
     ]
    },
    {
     "name": "stderr",
     "output_type": "stream",
     "text": [
      "100%|██████████| 64/64 [00:04<00:00, 15.06it/s]\n",
      "100%|██████████| 128/128 [00:08<00:00, 14.42it/s]\n",
      "100%|██████████| 128/128 [00:10<00:00, 12.16it/s]\n",
      "100%|██████████| 256/256 [00:58<00:00,  4.40it/s]\n",
      "100%|██████████| 1/1 [00:00<00:00, 66.50it/s]\n",
      "100%|██████████| 1/1 [00:00<00:00, 18.25it/s]\n",
      "100%|██████████| 1/1 [00:00<00:00,  5.89it/s]\n"
     ]
    },
    {
     "name": "stdout",
     "output_type": "stream",
     "text": [
      "Done\n",
      "Generating 298/5247\n"
     ]
    },
    {
     "name": "stderr",
     "output_type": "stream",
     "text": [
      "100%|██████████| 64/64 [00:04<00:00, 15.08it/s]\n",
      "100%|██████████| 128/128 [00:08<00:00, 14.49it/s]\n",
      "100%|██████████| 128/128 [00:10<00:00, 12.09it/s]\n",
      "100%|██████████| 256/256 [00:57<00:00,  4.43it/s]\n",
      "100%|██████████| 1/1 [00:00<00:00, 65.44it/s]\n",
      "100%|██████████| 1/1 [00:00<00:00, 22.33it/s]\n",
      "100%|██████████| 1/1 [00:00<00:00,  5.09it/s]\n"
     ]
    },
    {
     "name": "stdout",
     "output_type": "stream",
     "text": [
      "Done\n",
      "Generating 299/5247\n"
     ]
    },
    {
     "name": "stderr",
     "output_type": "stream",
     "text": [
      "100%|██████████| 64/64 [00:04<00:00, 15.16it/s]\n",
      "100%|██████████| 128/128 [00:08<00:00, 14.56it/s]\n",
      "100%|██████████| 128/128 [00:10<00:00, 12.67it/s]\n",
      "100%|██████████| 256/256 [00:48<00:00,  5.32it/s]\n",
      "100%|██████████| 1/1 [00:00<00:00, 82.03it/s]\n",
      "100%|██████████| 1/1 [00:00<00:00, 31.40it/s]\n",
      "100%|██████████| 1/1 [00:00<00:00,  6.91it/s]\n"
     ]
    },
    {
     "name": "stdout",
     "output_type": "stream",
     "text": [
      "Done\n",
      "Generating 300/5247\n"
     ]
    },
    {
     "name": "stderr",
     "output_type": "stream",
     "text": [
      "100%|██████████| 64/64 [00:04<00:00, 15.05it/s]\n",
      "100%|██████████| 128/128 [00:08<00:00, 14.47it/s]\n",
      "100%|██████████| 128/128 [00:09<00:00, 13.15it/s]\n",
      "100%|██████████| 256/256 [00:43<00:00,  5.83it/s]\n",
      "100%|██████████| 1/1 [00:00<00:00, 94.52it/s]\n",
      "100%|██████████| 1/1 [00:00<00:00, 30.19it/s]\n",
      "100%|██████████| 1/1 [00:00<00:00,  6.93it/s]\n"
     ]
    },
    {
     "name": "stdout",
     "output_type": "stream",
     "text": [
      "Done\n",
      "Generating 301/5247\n"
     ]
    },
    {
     "name": "stderr",
     "output_type": "stream",
     "text": [
      "100%|██████████| 64/64 [00:04<00:00, 14.94it/s]\n",
      "100%|██████████| 128/128 [00:08<00:00, 14.44it/s]\n",
      "100%|██████████| 128/128 [00:09<00:00, 13.00it/s]\n",
      "100%|██████████| 256/256 [00:39<00:00,  6.53it/s]\n",
      "100%|██████████| 1/1 [00:00<00:00, 82.97it/s]\n",
      "100%|██████████| 1/1 [00:00<00:00, 28.92it/s]\n",
      "100%|██████████| 1/1 [00:00<00:00,  7.40it/s]\n"
     ]
    },
    {
     "name": "stdout",
     "output_type": "stream",
     "text": [
      "Done\n",
      "Generating 302/5247\n"
     ]
    },
    {
     "name": "stderr",
     "output_type": "stream",
     "text": [
      "100%|██████████| 64/64 [00:04<00:00, 15.08it/s]\n",
      "100%|██████████| 128/128 [00:08<00:00, 14.35it/s]\n",
      "100%|██████████| 128/128 [00:10<00:00, 12.63it/s]\n",
      "100%|██████████| 256/256 [00:40<00:00,  6.25it/s]\n",
      "100%|██████████| 1/1 [00:00<00:00, 47.62it/s]\n",
      "100%|██████████| 1/1 [00:00<00:00, 26.37it/s]\n",
      "100%|██████████| 1/1 [00:00<00:00,  6.83it/s]\n"
     ]
    },
    {
     "name": "stdout",
     "output_type": "stream",
     "text": [
      "Done\n",
      "Generating 303/5247\n"
     ]
    },
    {
     "name": "stderr",
     "output_type": "stream",
     "text": [
      "100%|██████████| 64/64 [00:04<00:00, 15.08it/s]\n",
      "100%|██████████| 128/128 [00:08<00:00, 14.44it/s]\n",
      "100%|██████████| 128/128 [00:10<00:00, 12.33it/s]\n",
      "100%|██████████| 256/256 [00:45<00:00,  5.65it/s]\n",
      "100%|██████████| 1/1 [00:00<00:00, 74.95it/s]\n",
      "100%|██████████| 1/1 [00:00<00:00, 29.37it/s]\n",
      "100%|██████████| 1/1 [00:00<00:00,  7.08it/s]\n"
     ]
    },
    {
     "name": "stdout",
     "output_type": "stream",
     "text": [
      "Done\n",
      "Generating 304/5247\n"
     ]
    },
    {
     "name": "stderr",
     "output_type": "stream",
     "text": [
      "100%|██████████| 64/64 [00:04<00:00, 14.97it/s]\n",
      "100%|██████████| 128/128 [00:08<00:00, 14.37it/s]\n",
      "100%|██████████| 128/128 [00:10<00:00, 12.72it/s]\n",
      "100%|██████████| 256/256 [00:42<00:00,  5.99it/s]\n",
      "100%|██████████| 1/1 [00:00<00:00, 70.28it/s]\n",
      "100%|██████████| 1/1 [00:00<00:00, 24.57it/s]\n",
      "100%|██████████| 1/1 [00:00<00:00,  6.64it/s]\n"
     ]
    },
    {
     "name": "stdout",
     "output_type": "stream",
     "text": [
      "Done\n",
      "Generating 305/5247\n"
     ]
    },
    {
     "name": "stderr",
     "output_type": "stream",
     "text": [
      "100%|██████████| 64/64 [00:04<00:00, 15.04it/s]\n",
      "100%|██████████| 128/128 [00:08<00:00, 14.51it/s]\n",
      "100%|██████████| 128/128 [00:10<00:00, 12.16it/s]\n",
      "100%|██████████| 256/256 [00:57<00:00,  4.47it/s]\n",
      "100%|██████████| 1/1 [00:00<00:00, 71.38it/s]\n",
      "100%|██████████| 1/1 [00:00<00:00, 27.93it/s]\n",
      "100%|██████████| 1/1 [00:00<00:00,  6.19it/s]\n"
     ]
    },
    {
     "name": "stdout",
     "output_type": "stream",
     "text": [
      "Done\n",
      "Generating 306/5247\n"
     ]
    },
    {
     "name": "stderr",
     "output_type": "stream",
     "text": [
      "100%|██████████| 64/64 [00:10<00:00,  5.95it/s]\n",
      "100%|██████████| 128/128 [00:22<00:00,  5.62it/s]\n",
      "100%|██████████| 128/128 [00:26<00:00,  4.85it/s]\n",
      "100%|██████████| 256/256 [01:41<00:00,  2.52it/s]\n",
      "100%|██████████| 1/1 [00:00<00:00, 70.96it/s]\n",
      "100%|██████████| 1/1 [00:00<00:00, 24.23it/s]\n",
      "100%|██████████| 1/1 [00:00<00:00,  5.74it/s]\n"
     ]
    },
    {
     "name": "stdout",
     "output_type": "stream",
     "text": [
      "Done\n",
      "Generating 307/5247\n"
     ]
    },
    {
     "name": "stderr",
     "output_type": "stream",
     "text": [
      "100%|██████████| 64/64 [00:13<00:00,  4.78it/s]\n",
      "100%|██████████| 128/128 [00:27<00:00,  4.61it/s]\n",
      "100%|██████████| 128/128 [00:20<00:00,  6.20it/s]\n",
      "100%|██████████| 256/256 [00:40<00:00,  6.29it/s]\n",
      "100%|██████████| 1/1 [00:00<00:00, 81.33it/s]\n",
      "100%|██████████| 1/1 [00:00<00:00, 29.81it/s]\n",
      "100%|██████████| 1/1 [00:00<00:00,  7.97it/s]\n"
     ]
    },
    {
     "name": "stdout",
     "output_type": "stream",
     "text": [
      "Done\n",
      "Generating 308/5247\n"
     ]
    },
    {
     "name": "stderr",
     "output_type": "stream",
     "text": [
      "100%|██████████| 64/64 [00:04<00:00, 15.20it/s]\n",
      "100%|██████████| 128/128 [00:08<00:00, 14.62it/s]\n",
      "100%|██████████| 128/128 [00:09<00:00, 13.32it/s]\n",
      "100%|██████████| 256/256 [00:40<00:00,  6.30it/s]\n",
      "100%|██████████| 1/1 [00:00<00:00, 103.37it/s]\n",
      "100%|██████████| 1/1 [00:00<00:00, 28.42it/s]\n",
      "100%|██████████| 1/1 [00:00<00:00,  6.38it/s]\n"
     ]
    },
    {
     "name": "stdout",
     "output_type": "stream",
     "text": [
      "Done\n",
      "Generating 309/5247\n"
     ]
    },
    {
     "name": "stderr",
     "output_type": "stream",
     "text": [
      "100%|██████████| 64/64 [00:04<00:00, 15.08it/s]\n",
      "100%|██████████| 128/128 [00:08<00:00, 14.47it/s]\n",
      "100%|██████████| 128/128 [00:10<00:00, 12.19it/s]\n",
      "100%|██████████| 256/256 [01:35<00:00,  2.67it/s]\n",
      "100%|██████████| 1/1 [00:00<00:00, 75.56it/s]\n",
      "100%|██████████| 1/1 [00:00<00:00, 29.92it/s]\n",
      "100%|██████████| 1/1 [00:00<00:00,  6.54it/s]\n"
     ]
    },
    {
     "name": "stdout",
     "output_type": "stream",
     "text": [
      "Done\n",
      "Generating 310/5247\n"
     ]
    },
    {
     "name": "stderr",
     "output_type": "stream",
     "text": [
      "100%|██████████| 64/64 [00:12<00:00,  5.17it/s]\n",
      "100%|██████████| 128/128 [00:26<00:00,  4.85it/s]\n",
      "100%|██████████| 128/128 [00:30<00:00,  4.22it/s]\n",
      "100%|██████████| 256/256 [02:05<00:00,  2.04it/s]\n",
      "100%|██████████| 1/1 [00:00<00:00, 100.15it/s]\n",
      "100%|██████████| 1/1 [00:00<00:00, 36.58it/s]\n",
      "100%|██████████| 1/1 [00:00<00:00,  7.15it/s]\n"
     ]
    },
    {
     "name": "stdout",
     "output_type": "stream",
     "text": [
      "Done\n",
      "Generating 311/5247\n"
     ]
    },
    {
     "name": "stderr",
     "output_type": "stream",
     "text": [
      "100%|██████████| 64/64 [00:12<00:00,  5.07it/s]\n",
      "100%|██████████| 128/128 [00:26<00:00,  4.79it/s]\n",
      "100%|██████████| 128/128 [00:30<00:00,  4.22it/s]\n",
      "100%|██████████| 256/256 [01:56<00:00,  2.20it/s]\n",
      "100%|██████████| 1/1 [00:00<00:00, 93.19it/s]\n",
      "100%|██████████| 1/1 [00:00<00:00, 32.91it/s]\n",
      "100%|██████████| 1/1 [00:00<00:00,  6.43it/s]\n"
     ]
    },
    {
     "name": "stdout",
     "output_type": "stream",
     "text": [
      "Done\n",
      "Generating 312/5247\n"
     ]
    },
    {
     "name": "stderr",
     "output_type": "stream",
     "text": [
      "100%|██████████| 64/64 [00:12<00:00,  5.14it/s]\n",
      "100%|██████████| 128/128 [00:26<00:00,  4.90it/s]\n",
      "100%|██████████| 128/128 [00:29<00:00,  4.27it/s]\n",
      "100%|██████████| 256/256 [01:45<00:00,  2.42it/s]\n",
      "100%|██████████| 1/1 [00:00<00:00, 82.39it/s]\n",
      "100%|██████████| 1/1 [00:00<00:00, 25.92it/s]\n",
      "100%|██████████| 1/1 [00:00<00:00,  6.46it/s]\n"
     ]
    },
    {
     "name": "stdout",
     "output_type": "stream",
     "text": [
      "Done\n",
      "Generating 313/5247\n"
     ]
    },
    {
     "name": "stderr",
     "output_type": "stream",
     "text": [
      "100%|██████████| 64/64 [00:12<00:00,  5.16it/s]\n",
      "100%|██████████| 128/128 [00:26<00:00,  4.84it/s]\n",
      "100%|██████████| 128/128 [00:31<00:00,  4.02it/s]\n",
      "100%|██████████| 256/256 [01:27<00:00,  2.93it/s]\n",
      "100%|██████████| 1/1 [00:00<00:00, 48.27it/s]\n",
      "100%|██████████| 1/1 [00:00<00:00, 22.20it/s]\n",
      "100%|██████████| 1/1 [00:00<00:00,  5.90it/s]\n"
     ]
    },
    {
     "name": "stdout",
     "output_type": "stream",
     "text": [
      "Done\n",
      "Generating 314/5247\n"
     ]
    },
    {
     "name": "stderr",
     "output_type": "stream",
     "text": [
      "100%|██████████| 64/64 [00:04<00:00, 15.11it/s]\n",
      "100%|██████████| 128/128 [00:08<00:00, 14.51it/s]\n",
      "100%|██████████| 128/128 [00:10<00:00, 12.26it/s]\n",
      "100%|██████████| 256/256 [00:58<00:00,  4.40it/s]\n",
      "100%|██████████| 1/1 [00:00<00:00, 70.16it/s]\n",
      "100%|██████████| 1/1 [00:00<00:00, 27.99it/s]\n",
      "100%|██████████| 1/1 [00:00<00:00,  5.78it/s]\n"
     ]
    },
    {
     "name": "stdout",
     "output_type": "stream",
     "text": [
      "Done\n",
      "Generating 315/5247\n"
     ]
    },
    {
     "name": "stderr",
     "output_type": "stream",
     "text": [
      "100%|██████████| 64/64 [00:04<00:00, 15.30it/s]\n",
      "100%|██████████| 128/128 [00:08<00:00, 14.68it/s]\n",
      "100%|██████████| 128/128 [00:10<00:00, 12.75it/s]\n",
      "100%|██████████| 256/256 [00:42<00:00,  6.00it/s]\n",
      "100%|██████████| 1/1 [00:00<00:00, 31.08it/s]\n",
      "100%|██████████| 1/1 [00:00<00:00, 26.67it/s]\n",
      "100%|██████████| 1/1 [00:00<00:00,  6.79it/s]\n"
     ]
    },
    {
     "name": "stdout",
     "output_type": "stream",
     "text": [
      "Done\n",
      "Generating 316/5247\n"
     ]
    },
    {
     "name": "stderr",
     "output_type": "stream",
     "text": [
      "100%|██████████| 64/64 [00:04<00:00, 15.29it/s]\n",
      "100%|██████████| 128/128 [00:08<00:00, 14.85it/s]\n",
      "100%|██████████| 128/128 [00:10<00:00, 12.68it/s]\n",
      "100%|██████████| 256/256 [00:47<00:00,  5.35it/s]\n",
      "100%|██████████| 1/1 [00:00<00:00, 74.95it/s]\n",
      "100%|██████████| 1/1 [00:00<00:00, 26.65it/s]\n",
      "100%|██████████| 1/1 [00:00<00:00,  6.15it/s]\n"
     ]
    },
    {
     "name": "stdout",
     "output_type": "stream",
     "text": [
      "Done\n",
      "Generating 317/5247\n"
     ]
    },
    {
     "name": "stderr",
     "output_type": "stream",
     "text": [
      "100%|██████████| 64/64 [00:04<00:00, 15.36it/s]\n",
      "100%|██████████| 128/128 [00:08<00:00, 14.85it/s]\n",
      "100%|██████████| 128/128 [00:09<00:00, 12.96it/s]\n",
      "100%|██████████| 256/256 [00:44<00:00,  5.70it/s]\n",
      "100%|██████████| 1/1 [00:00<00:00, 78.95it/s]\n",
      "100%|██████████| 1/1 [00:00<00:00, 31.00it/s]\n",
      "100%|██████████| 1/1 [00:00<00:00,  7.14it/s]\n"
     ]
    },
    {
     "name": "stdout",
     "output_type": "stream",
     "text": [
      "Done\n",
      "Generating 318/5247\n"
     ]
    },
    {
     "name": "stderr",
     "output_type": "stream",
     "text": [
      "100%|██████████| 64/64 [00:04<00:00, 15.38it/s]\n",
      "100%|██████████| 128/128 [00:08<00:00, 14.83it/s]\n",
      "100%|██████████| 128/128 [00:10<00:00, 11.75it/s]\n",
      "100%|██████████| 256/256 [02:10<00:00,  1.97it/s]\n",
      "100%|██████████| 1/1 [00:00<00:00, 46.44it/s]\n",
      "100%|██████████| 1/1 [00:00<00:00, 17.87it/s]\n",
      "100%|██████████| 1/1 [00:00<00:00,  4.30it/s]\n"
     ]
    },
    {
     "name": "stdout",
     "output_type": "stream",
     "text": [
      "Done\n",
      "Generating 319/5247\n"
     ]
    },
    {
     "name": "stderr",
     "output_type": "stream",
     "text": [
      "100%|██████████| 64/64 [00:12<00:00,  5.05it/s]\n",
      "100%|██████████| 128/128 [00:26<00:00,  4.76it/s]\n",
      "100%|██████████| 128/128 [00:30<00:00,  4.16it/s]\n",
      "100%|██████████| 256/256 [01:46<00:00,  2.41it/s]\n",
      "100%|██████████| 1/1 [00:00<00:00, 91.94it/s]\n",
      "100%|██████████| 1/1 [00:00<00:00, 36.38it/s]\n",
      "100%|██████████| 1/1 [00:00<00:00,  7.61it/s]\n"
     ]
    },
    {
     "name": "stdout",
     "output_type": "stream",
     "text": [
      "Done\n",
      "Generating 320/5247\n"
     ]
    },
    {
     "name": "stderr",
     "output_type": "stream",
     "text": [
      "100%|██████████| 64/64 [00:12<00:00,  4.93it/s]\n",
      "100%|██████████| 128/128 [00:27<00:00,  4.68it/s]\n",
      "100%|██████████| 128/128 [00:33<00:00,  3.87it/s]\n",
      "100%|██████████| 256/256 [02:40<00:00,  1.60it/s]\n",
      "100%|██████████| 1/1 [00:00<00:00, 62.65it/s]\n",
      "100%|██████████| 1/1 [00:00<00:00, 21.51it/s]\n",
      "100%|██████████| 1/1 [00:00<00:00,  4.43it/s]\n"
     ]
    },
    {
     "name": "stdout",
     "output_type": "stream",
     "text": [
      "Done\n",
      "Generating 321/5247\n"
     ]
    },
    {
     "name": "stderr",
     "output_type": "stream",
     "text": [
      "100%|██████████| 64/64 [00:12<00:00,  5.03it/s]\n",
      "100%|██████████| 128/128 [00:27<00:00,  4.72it/s]\n",
      "100%|██████████| 128/128 [00:31<00:00,  4.02it/s]\n",
      "100%|██████████| 256/256 [01:56<00:00,  2.19it/s]\n",
      "100%|██████████| 1/1 [00:00<00:00, 52.82it/s]\n",
      "100%|██████████| 1/1 [00:00<00:00, 20.24it/s]\n",
      "100%|██████████| 1/1 [00:00<00:00,  7.24it/s]\n"
     ]
    },
    {
     "name": "stdout",
     "output_type": "stream",
     "text": [
      "Done\n",
      "Generating 322/5247\n"
     ]
    },
    {
     "name": "stderr",
     "output_type": "stream",
     "text": [
      "100%|██████████| 64/64 [00:12<00:00,  5.04it/s]\n",
      "100%|██████████| 128/128 [00:26<00:00,  4.80it/s]\n",
      "100%|██████████| 128/128 [00:17<00:00,  7.19it/s]\n",
      "100%|██████████| 256/256 [00:39<00:00,  6.47it/s]\n",
      "100%|██████████| 1/1 [00:00<00:00, 86.29it/s]\n",
      "100%|██████████| 1/1 [00:00<00:00, 30.39it/s]\n",
      "100%|██████████| 1/1 [00:00<00:00,  8.95it/s]\n"
     ]
    },
    {
     "name": "stdout",
     "output_type": "stream",
     "text": [
      "Done\n",
      "Generating 323/5247\n"
     ]
    },
    {
     "name": "stderr",
     "output_type": "stream",
     "text": [
      "100%|██████████| 64/64 [00:04<00:00, 15.11it/s]\n",
      "100%|██████████| 128/128 [00:08<00:00, 14.52it/s]\n",
      "100%|██████████| 128/128 [00:09<00:00, 13.36it/s]\n",
      "100%|██████████| 256/256 [00:38<00:00,  6.65it/s]\n",
      "100%|██████████| 1/1 [00:00<00:00, 114.10it/s]\n",
      "100%|██████████| 1/1 [00:00<00:00, 22.68it/s]\n",
      "100%|██████████| 1/1 [00:00<00:00,  6.67it/s]\n"
     ]
    },
    {
     "name": "stdout",
     "output_type": "stream",
     "text": [
      "Done\n",
      "Generating 324/5247\n"
     ]
    },
    {
     "name": "stderr",
     "output_type": "stream",
     "text": [
      "100%|██████████| 64/64 [00:04<00:00, 14.94it/s]\n",
      "100%|██████████| 128/128 [00:08<00:00, 14.50it/s]\n",
      "100%|██████████| 128/128 [00:10<00:00, 12.75it/s]\n",
      "100%|██████████| 256/256 [00:43<00:00,  5.94it/s]\n",
      "100%|██████████| 1/1 [00:00<00:00, 77.66it/s]\n",
      "100%|██████████| 1/1 [00:00<00:00, 28.73it/s]\n",
      "100%|██████████| 1/1 [00:00<00:00,  6.45it/s]\n"
     ]
    },
    {
     "name": "stdout",
     "output_type": "stream",
     "text": [
      "Done\n",
      "Generating 325/5247\n"
     ]
    },
    {
     "name": "stderr",
     "output_type": "stream",
     "text": [
      "100%|██████████| 64/64 [00:04<00:00, 15.23it/s]\n",
      "100%|██████████| 128/128 [00:08<00:00, 14.51it/s]\n",
      "100%|██████████| 128/128 [00:09<00:00, 13.18it/s]\n",
      "100%|██████████| 256/256 [00:40<00:00,  6.37it/s]\n",
      "100%|██████████| 1/1 [00:00<00:00, 73.26it/s]\n",
      "100%|██████████| 1/1 [00:00<00:00, 25.22it/s]\n",
      "100%|██████████| 1/1 [00:00<00:00,  6.28it/s]\n"
     ]
    },
    {
     "name": "stdout",
     "output_type": "stream",
     "text": [
      "Done\n",
      "Generating 326/5247\n"
     ]
    },
    {
     "name": "stderr",
     "output_type": "stream",
     "text": [
      "100%|██████████| 64/64 [00:04<00:00, 15.10it/s]\n",
      "100%|██████████| 128/128 [00:08<00:00, 14.47it/s]\n",
      "100%|██████████| 128/128 [00:11<00:00, 11.51it/s]\n",
      "100%|██████████| 256/256 [00:59<00:00,  4.33it/s]\n",
      "100%|██████████| 1/1 [00:00<00:00, 68.00it/s]\n",
      "100%|██████████| 1/1 [00:00<00:00, 22.80it/s]\n",
      "100%|██████████| 1/1 [00:00<00:00,  5.00it/s]\n"
     ]
    },
    {
     "name": "stdout",
     "output_type": "stream",
     "text": [
      "Done\n",
      "Generating 327/5247\n"
     ]
    },
    {
     "name": "stderr",
     "output_type": "stream",
     "text": [
      "100%|██████████| 64/64 [00:04<00:00, 14.88it/s]\n",
      "100%|██████████| 128/128 [00:08<00:00, 14.37it/s]\n",
      "100%|██████████| 128/128 [00:09<00:00, 13.36it/s]\n",
      "100%|██████████| 256/256 [00:40<00:00,  6.30it/s]\n",
      "100%|██████████| 1/1 [00:00<00:00, 97.55it/s]\n",
      "100%|██████████| 1/1 [00:00<00:00, 29.83it/s]\n",
      "100%|██████████| 1/1 [00:00<00:00,  7.79it/s]\n"
     ]
    },
    {
     "name": "stdout",
     "output_type": "stream",
     "text": [
      "Done\n",
      "Generating 328/5247\n"
     ]
    },
    {
     "name": "stderr",
     "output_type": "stream",
     "text": [
      "100%|██████████| 64/64 [00:13<00:00,  4.61it/s]\n",
      "100%|██████████| 128/128 [00:28<00:00,  4.45it/s]\n",
      "100%|██████████| 128/128 [00:31<00:00,  4.03it/s]\n",
      "100%|██████████| 256/256 [02:22<00:00,  1.79it/s]\n",
      "100%|██████████| 1/1 [00:00<00:00, 62.46it/s]\n",
      "100%|██████████| 1/1 [00:00<00:00, 25.94it/s]\n",
      "100%|██████████| 1/1 [00:00<00:00,  5.42it/s]\n"
     ]
    },
    {
     "name": "stdout",
     "output_type": "stream",
     "text": [
      "Done\n",
      "Generating 329/5247\n"
     ]
    },
    {
     "name": "stderr",
     "output_type": "stream",
     "text": [
      "100%|██████████| 64/64 [00:13<00:00,  4.63it/s]\n",
      "100%|██████████| 128/128 [00:28<00:00,  4.47it/s]\n",
      "100%|██████████| 128/128 [00:30<00:00,  4.22it/s]\n",
      "100%|██████████| 256/256 [01:53<00:00,  2.25it/s]\n",
      "100%|██████████| 1/1 [00:00<00:00, 91.82it/s]\n",
      "100%|██████████| 1/1 [00:00<00:00, 19.52it/s]\n",
      "100%|██████████| 1/1 [00:00<00:00,  5.83it/s]\n"
     ]
    },
    {
     "name": "stdout",
     "output_type": "stream",
     "text": [
      "Done\n",
      "Generating 330/5247\n"
     ]
    },
    {
     "name": "stderr",
     "output_type": "stream",
     "text": [
      "100%|██████████| 64/64 [00:13<00:00,  4.73it/s]\n",
      "100%|██████████| 128/128 [00:28<00:00,  4.48it/s]\n",
      "100%|██████████| 128/128 [00:30<00:00,  4.14it/s]\n",
      "100%|██████████| 256/256 [01:47<00:00,  2.38it/s]\n",
      "100%|██████████| 1/1 [00:00<00:00, 88.56it/s]\n",
      "100%|██████████| 1/1 [00:00<00:00, 29.37it/s]\n",
      "100%|██████████| 1/1 [00:00<00:00,  6.88it/s]\n"
     ]
    },
    {
     "name": "stdout",
     "output_type": "stream",
     "text": [
      "Done\n",
      "Generating 331/5247\n"
     ]
    },
    {
     "name": "stderr",
     "output_type": "stream",
     "text": [
      "100%|██████████| 64/64 [00:13<00:00,  4.70it/s]\n",
      "100%|██████████| 128/128 [00:14<00:00,  8.63it/s]\n",
      "100%|██████████| 128/128 [00:09<00:00, 13.28it/s]\n",
      "100%|██████████| 256/256 [00:37<00:00,  6.87it/s]\n",
      "100%|██████████| 1/1 [00:00<00:00, 92.89it/s]\n",
      "100%|██████████| 1/1 [00:00<00:00, 38.62it/s]\n",
      "100%|██████████| 1/1 [00:00<00:00,  9.46it/s]\n"
     ]
    },
    {
     "name": "stdout",
     "output_type": "stream",
     "text": [
      "Done\n",
      "Generating 332/5247\n"
     ]
    },
    {
     "name": "stderr",
     "output_type": "stream",
     "text": [
      "100%|██████████| 64/64 [00:04<00:00, 15.02it/s]\n",
      "100%|██████████| 128/128 [00:08<00:00, 14.48it/s]\n",
      "100%|██████████| 128/128 [00:09<00:00, 13.14it/s]\n",
      "100%|██████████| 256/256 [00:43<00:00,  5.85it/s]\n",
      "100%|██████████| 1/1 [00:00<00:00, 96.79it/s]\n",
      "100%|██████████| 1/1 [00:00<00:00, 28.59it/s]\n",
      "100%|██████████| 1/1 [00:00<00:00,  5.90it/s]\n"
     ]
    },
    {
     "name": "stdout",
     "output_type": "stream",
     "text": [
      "Done\n",
      "Generating 333/5247\n"
     ]
    },
    {
     "name": "stderr",
     "output_type": "stream",
     "text": [
      "100%|██████████| 64/64 [00:04<00:00, 15.03it/s]\n",
      "100%|██████████| 128/128 [00:08<00:00, 14.51it/s]\n",
      "100%|██████████| 128/128 [00:09<00:00, 13.13it/s]\n",
      "100%|██████████| 256/256 [00:45<00:00,  5.61it/s]\n",
      "100%|██████████| 1/1 [00:00<00:00, 91.43it/s]\n",
      "100%|██████████| 1/1 [00:00<00:00, 28.63it/s]\n",
      "100%|██████████| 1/1 [00:00<00:00,  6.25it/s]\n"
     ]
    },
    {
     "name": "stdout",
     "output_type": "stream",
     "text": [
      "Done\n",
      "Generating 334/5247\n"
     ]
    },
    {
     "name": "stderr",
     "output_type": "stream",
     "text": [
      "100%|██████████| 64/64 [00:04<00:00, 15.08it/s]\n",
      "100%|██████████| 128/128 [00:08<00:00, 14.28it/s]\n",
      "100%|██████████| 128/128 [00:11<00:00, 11.51it/s]\n",
      "100%|██████████| 256/256 [00:56<00:00,  4.51it/s]\n",
      "100%|██████████| 1/1 [00:00<00:00, 62.78it/s]\n",
      "100%|██████████| 1/1 [00:00<00:00, 20.69it/s]\n",
      "100%|██████████| 1/1 [00:00<00:00,  5.04it/s]\n"
     ]
    },
    {
     "name": "stdout",
     "output_type": "stream",
     "text": [
      "Done\n",
      "Generating 335/5247\n"
     ]
    },
    {
     "name": "stderr",
     "output_type": "stream",
     "text": [
      "100%|██████████| 64/64 [00:11<00:00,  5.74it/s]\n",
      "100%|██████████| 128/128 [00:22<00:00,  5.67it/s]\n",
      "100%|██████████| 128/128 [00:26<00:00,  4.92it/s]\n",
      "100%|██████████| 256/256 [01:51<00:00,  2.29it/s]\n",
      "100%|██████████| 1/1 [00:00<00:00, 72.34it/s]\n",
      "100%|██████████| 1/1 [00:00<00:00, 27.66it/s]\n",
      "100%|██████████| 1/1 [00:00<00:00,  6.10it/s]\n"
     ]
    },
    {
     "name": "stdout",
     "output_type": "stream",
     "text": [
      "Done\n",
      "Generating 336/5247\n"
     ]
    },
    {
     "name": "stderr",
     "output_type": "stream",
     "text": [
      "100%|██████████| 64/64 [00:12<00:00,  5.30it/s]\n",
      "100%|██████████| 128/128 [00:26<00:00,  4.76it/s]\n",
      "100%|██████████| 128/128 [00:30<00:00,  4.19it/s]\n",
      "100%|██████████| 256/256 [01:14<00:00,  3.44it/s]\n",
      "100%|██████████| 1/1 [00:00<00:00, 75.48it/s]\n",
      "100%|██████████| 1/1 [00:00<00:00, 29.19it/s]\n",
      "100%|██████████| 1/1 [00:00<00:00,  5.46it/s]\n"
     ]
    },
    {
     "name": "stdout",
     "output_type": "stream",
     "text": [
      "Done\n",
      "Generating 337/5247\n"
     ]
    },
    {
     "name": "stderr",
     "output_type": "stream",
     "text": [
      "100%|██████████| 64/64 [00:04<00:00, 14.86it/s]\n",
      "100%|██████████| 128/128 [00:08<00:00, 14.41it/s]\n",
      "100%|██████████| 128/128 [00:09<00:00, 13.08it/s]\n",
      "100%|██████████| 256/256 [00:41<00:00,  6.12it/s]\n",
      "100%|██████████| 1/1 [00:00<00:00, 86.83it/s]\n",
      "100%|██████████| 1/1 [00:00<00:00, 30.38it/s]\n",
      "100%|██████████| 1/1 [00:00<00:00,  6.97it/s]\n"
     ]
    },
    {
     "name": "stdout",
     "output_type": "stream",
     "text": [
      "Done\n",
      "Generating 338/5247\n"
     ]
    },
    {
     "name": "stderr",
     "output_type": "stream",
     "text": [
      "100%|██████████| 64/64 [00:04<00:00, 14.81it/s]\n",
      "100%|██████████| 128/128 [00:08<00:00, 14.46it/s]\n",
      "100%|██████████| 128/128 [00:09<00:00, 13.20it/s]\n",
      "100%|██████████| 256/256 [00:51<00:00,  5.02it/s]\n",
      "100%|██████████| 1/1 [00:00<00:00, 93.66it/s]\n",
      "100%|██████████| 1/1 [00:00<00:00, 27.98it/s]\n",
      "100%|██████████| 1/1 [00:00<00:00,  6.73it/s]\n"
     ]
    },
    {
     "name": "stdout",
     "output_type": "stream",
     "text": [
      "Done\n",
      "Generating 339/5247\n"
     ]
    },
    {
     "name": "stderr",
     "output_type": "stream",
     "text": [
      "100%|██████████| 64/64 [00:11<00:00,  5.76it/s]\n",
      "100%|██████████| 128/128 [00:22<00:00,  5.68it/s]\n",
      "100%|██████████| 128/128 [00:25<00:00,  4.94it/s]\n",
      "100%|██████████| 256/256 [01:30<00:00,  2.84it/s]\n",
      "100%|██████████| 1/1 [00:00<00:00, 75.43it/s]\n",
      "100%|██████████| 1/1 [00:00<00:00, 25.85it/s]\n",
      "100%|██████████| 1/1 [00:00<00:00,  6.41it/s]\n"
     ]
    },
    {
     "name": "stdout",
     "output_type": "stream",
     "text": [
      "Done\n",
      "Generating 340/5247\n"
     ]
    },
    {
     "name": "stderr",
     "output_type": "stream",
     "text": [
      "100%|██████████| 64/64 [00:11<00:00,  5.66it/s]\n",
      "100%|██████████| 128/128 [00:25<00:00,  4.93it/s]\n",
      "100%|██████████| 128/128 [00:32<00:00,  3.95it/s]\n",
      "100%|██████████| 256/256 [01:18<00:00,  3.26it/s]\n",
      "100%|██████████| 1/1 [00:00<00:00, 66.37it/s]\n",
      "100%|██████████| 1/1 [00:00<00:00, 21.63it/s]\n",
      "100%|██████████| 1/1 [00:00<00:00,  5.11it/s]\n"
     ]
    },
    {
     "name": "stdout",
     "output_type": "stream",
     "text": [
      "Done\n",
      "Generating 341/5247\n"
     ]
    },
    {
     "name": "stderr",
     "output_type": "stream",
     "text": [
      "100%|██████████| 64/64 [00:04<00:00, 14.93it/s]\n",
      "100%|██████████| 128/128 [00:08<00:00, 14.32it/s]\n",
      "100%|██████████| 128/128 [00:10<00:00, 12.36it/s]\n",
      "100%|██████████| 256/256 [00:45<00:00,  5.58it/s]\n",
      "100%|██████████| 1/1 [00:00<00:00, 76.59it/s]\n",
      "100%|██████████| 1/1 [00:00<00:00, 29.27it/s]\n",
      "100%|██████████| 1/1 [00:00<00:00,  6.97it/s]\n"
     ]
    },
    {
     "name": "stdout",
     "output_type": "stream",
     "text": [
      "Done\n",
      "Generating 342/5247\n"
     ]
    },
    {
     "name": "stderr",
     "output_type": "stream",
     "text": [
      "100%|██████████| 64/64 [00:04<00:00, 15.02it/s]\n",
      "100%|██████████| 128/128 [00:08<00:00, 14.36it/s]\n",
      "100%|██████████| 128/128 [00:20<00:00,  6.21it/s]\n",
      "100%|██████████| 256/256 [01:53<00:00,  2.25it/s]\n",
      "100%|██████████| 1/1 [00:00<00:00, 72.55it/s]\n",
      "100%|██████████| 1/1 [00:00<00:00, 29.40it/s]\n",
      "100%|██████████| 1/1 [00:00<00:00,  6.73it/s]\n"
     ]
    },
    {
     "name": "stdout",
     "output_type": "stream",
     "text": [
      "Done\n",
      "Generating 343/5247\n"
     ]
    },
    {
     "name": "stderr",
     "output_type": "stream",
     "text": [
      "100%|██████████| 64/64 [00:13<00:00,  4.87it/s]\n",
      "100%|██████████| 128/128 [00:26<00:00,  4.78it/s]\n",
      "100%|██████████| 128/128 [00:30<00:00,  4.24it/s]\n",
      "100%|██████████| 256/256 [01:37<00:00,  2.62it/s]\n",
      "100%|██████████| 1/1 [00:00<00:00, 90.50it/s]\n",
      "100%|██████████| 1/1 [00:00<00:00, 30.01it/s]\n",
      "100%|██████████| 1/1 [00:00<00:00,  6.94it/s]\n"
     ]
    },
    {
     "name": "stdout",
     "output_type": "stream",
     "text": [
      "Done\n",
      "Generating 344/5247\n"
     ]
    },
    {
     "name": "stderr",
     "output_type": "stream",
     "text": [
      "100%|██████████| 64/64 [00:13<00:00,  4.76it/s]\n",
      "100%|██████████| 128/128 [00:28<00:00,  4.56it/s]\n",
      "100%|██████████| 128/128 [00:31<00:00,  4.12it/s]\n",
      " 23%|██▎       | 60/256 [00:23<01:15,  2.60it/s]\n"
     ]
    },
    {
     "name": "stdout",
     "output_type": "stream",
     "text": [
      "Done\n",
      "Generating 345/5247\n"
     ]
    },
    {
     "name": "stderr",
     "output_type": "stream",
     "text": [
      " 89%|████████▉ | 57/64 [00:11<00:01,  4.53it/s]"
     ]
    }
   ],
   "source": [
    "for i, sketch_path in enumerate(sketch_paths[:400]):\n",
    "    print(f\"Generating {i+1}/{len(sketch_paths)}\")\n",
    "    try:\n",
    "        generate_by_sketch(sketch_path, f\"sketch_{i+1}\")\n",
    "    except:\n",
    "        pass\n",
    "    print(\"Done\")"
   ]
  },
  {
   "cell_type": "code",
   "execution_count": null,
   "metadata": {},
   "outputs": [],
   "source": []
  }
 ],
 "metadata": {
  "kernelspec": {
   "display_name": "torch2.3",
   "language": "python",
   "name": "python3"
  },
  "language_info": {
   "codemirror_mode": {
    "name": "ipython",
    "version": 3
   },
   "file_extension": ".py",
   "mimetype": "text/x-python",
   "name": "python",
   "nbconvert_exporter": "python",
   "pygments_lexer": "ipython3",
   "version": "3.9.18"
  }
 },
 "nbformat": 4,
 "nbformat_minor": 2
}
