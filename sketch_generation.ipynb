{
 "cells": [
  {
   "cell_type": "code",
   "execution_count": 28,
   "metadata": {},
   "outputs": [],
   "source": [
    "import torch\n",
    "import yaml\n",
    "from utils.builder import build_vae_model\n",
    "from models.condition import ImageEncoder\n",
    "from models.mar import MAREncoderDecoder\n",
    "from thsolver.config import parse_args\n",
    "import sys \n",
    "import matplotlib.pyplot as plt\n",
    "import ocnn\n",
    "from PIL import Image\n",
    "import os\n",
    "import copy\n",
    "from ognn.octreed import OctreeD\n",
    "from utils import utils\n",
    "torch.cuda.set_device(7)"
   ]
  },
  {
   "cell_type": "code",
   "execution_count": 29,
   "metadata": {},
   "outputs": [
    {
     "data": {
      "text/plain": [
       "CfgNode({'BASE': ['configs/shapenet_octar.yaml'], 'SOLVER': CfgNode({'alias': '', 'gpu': (0, 1, 2, 3), 'run': 'generate', 'logdir': 'logs/airplane/mar_p1024_d8_image', 'ckpt': '', 'ckpt_num': 10, 'type': 'adamw', 'weight_decay': 0.01, 'clip_grad': -1.0, 'max_epoch': 400, 'warmup_epoch': 20, 'warmup_init': 0.001, 'eval_epoch': 1, 'eval_step': -1, 'test_every_epoch': 1, 'log_per_iter': 50, 'best_val': 'min:loss', 'zero_grad_to_none': False, 'use_amp': True, 'lr_type': 'constant', 'lr': 5e-05, 'lr_min': 0.0001, 'gamma': 0.1, 'milestones': (120, 180), 'lr_power': 0.9, 'port': 10001, 'progress_bar': True, 'rand_seed': 0, 'empty_cache': 50, 'expand_ckpt': False, 'step_size': (160, 240), 'resolution': 256, 'save_sdf': False, 'sdf_scale': 0.9}), 'DATA': CfgNode({'train': CfgNode({'name': 'shapenet_vae', 'disable': False, 'pin_memory': True, 'depth': 8, 'full_depth': 3, 'orient_normal': '', 'distort': False, 'scale': 0.0, 'uniform': False, 'jitter': 0.0, 'interval': (1, 1, 1), 'angle': (180, 180, 180), 'flip': (0.0, 0.0, 0.0), 'location': 'data/ShapeNet/dataset_new', 'filelist': 'data/ShapeNet/filelist/train_airplane.txt', 'batch_size': 1, 'take': -1, 'num_workers': 4, 'shuffle': True, 'points_scale': 0.5, 'volume_sample_num': 10000, 'surface_sample_num': 10000, 'max_points': 120000, 'tsdf': 0.05, 'load_pointcloud': True, 'load_sdf': False, 'image_location': 'data/ShapeNet/sketch_256', 'load_image': False, 'load_sketch': True}), 'test': CfgNode({'name': 'shapenet_vae', 'disable': False, 'pin_memory': True, 'depth': 8, 'full_depth': 3, 'orient_normal': '', 'distort': False, 'scale': 0.0, 'uniform': False, 'jitter': 0.0, 'interval': (1, 1, 1), 'angle': (180, 180, 180), 'flip': (0.0, 0.0, 0.0), 'location': 'data/ShapeNet/dataset_new', 'filelist': 'data/ShapeNet/filelist/test_airplane.txt', 'batch_size': 1, 'take': -1, 'num_workers': 2, 'shuffle': False, 'points_scale': 0.5, 'volume_sample_num': 10000, 'surface_sample_num': 10000, 'max_points': 120000, 'tsdf': 0.05, 'load_pointcloud': True, 'load_sdf': False, 'image_location': 'data/ShapeNet/sketch_256', 'load_image': False, 'load_sketch': True})}), 'MODEL': CfgNode({'name': '', 'feature': 'ND', 'channel': 3, 'nempty': False, 'sync_bn': False, 'use_checkpoint': False, 'find_unused_parameters': True, 'depth': 8, 'full_depth': 3, 'depth_stop': 6, 'vqvae_ckpt': 'saved_ckpt/vqvae_huge_im5_bsq32_200epoch.pth', 'model_name': 'MAREncoderDecoder', 'VQVAE': CfgNode({'name': 'vqvae_huge', 'in_channels': 4, 'embedding_sizes': 128, 'embedding_channels': 32, 'quantizer_type': 'bsq', 'quantizer_group': 4, 'feature': 'ND'}), 'GPT': CfgNode({'num_embed': 768, 'num_heads': 8, 'num_blocks': 16, 'num_classes': 1, 'split_size': 2, 'vq_size': 128, 'patch_size': 1024, 'dilation': 8, 'buffer_size': 257, 'drop_rate': 0.1, 'pos_emb_type': 'SinPosEmb', 'norm_type': 'LayerNorm', 'use_checkpoint': True, 'use_swin': True, 'use_rope': True, 'random_flip': 0.1, 'mask_ratio_min': 0.5, 'remask_stage': 0.7, 'start_temperature': [1.0, 1.2, 0.5, 0.5], 'num_iters': [64, 128, 128, 256], 'condition_type': 'image', 'condition_encoder': 'dinov2', 'condition_policy': 'cross_attn', 'context_dim': 1024, 'cfg_prob': 0.0, 'cfg_scale': 1.0})}), 'LOSS': CfgNode({'name': ''}), 'SYS': CfgNode({'cmds': 'python  --config /mnt/sdc/wangrh/workspace/OctAR-solver/logs/sketch/airplane_p1024_d8/all_configs.yaml'})})"
      ]
     },
     "execution_count": 29,
     "metadata": {},
     "output_type": "execute_result"
    }
   ],
   "source": [
    "log_path = '/mnt/sdc/wangrh/workspace/OctAR-solver/logs/sketch/airplane_p1024_d8'\n",
    "\n",
    "sys.argv = ['']  # Reset sys.argv\n",
    "sys.argv.extend(['--config', log_path + '/all_configs.yaml'])\n",
    "flags = parse_args(backup=False)\n",
    "flags"
   ]
  },
  {
   "cell_type": "code",
   "execution_count": 30,
   "metadata": {},
   "outputs": [],
   "source": [
    "device = 'cuda'\n",
    "\n",
    "model = MAREncoderDecoder(vqvae_config=flags.MODEL.VQVAE, **flags.MODEL.GPT)\n",
    "vqvae = build_vae_model(flags.MODEL.VQVAE)\n",
    "sketch_encoder = ImageEncoder(flags.MODEL.GPT.condition_encoder)"
   ]
  },
  {
   "cell_type": "code",
   "execution_count": 31,
   "metadata": {},
   "outputs": [
    {
     "name": "stdout",
     "output_type": "stream",
     "text": [
      "Load VQVAE from saved_ckpt/vqvae_huge_im5_bsq32_200epoch.pth\n"
     ]
    }
   ],
   "source": [
    "vqvae_checkpoint = torch.load(flags.MODEL.vqvae_ckpt, weights_only=True, map_location=\"cpu\")\n",
    "vqvae.load_state_dict(vqvae_checkpoint)\n",
    "print(\"Load VQVAE from\", flags.MODEL.vqvae_ckpt)"
   ]
  },
  {
   "cell_type": "code",
   "execution_count": 32,
   "metadata": {},
   "outputs": [
    {
     "name": "stdout",
     "output_type": "stream",
     "text": [
      "Load MAR from /mnt/sdc/wangrh/workspace/OctAR-solver/logs/sketch/airplane_p1024_d8/best_model.pth\n"
     ]
    }
   ],
   "source": [
    "ar_checkpoint = log_path + '/best_model.pth'\n",
    "model_checkpoint = torch.load(ar_checkpoint, map_location=\"cpu\")\n",
    "model.load_state_dict(model_checkpoint)\n",
    "print(\"Load MAR from\", ar_checkpoint)"
   ]
  },
  {
   "cell_type": "code",
   "execution_count": 33,
   "metadata": {},
   "outputs": [],
   "source": [
    "model = model.to(device)\n",
    "vqvae = vqvae.to(device)\n",
    "sketch_encoder = sketch_encoder.to(device)"
   ]
  },
  {
   "cell_type": "code",
   "execution_count": 34,
   "metadata": {},
   "outputs": [],
   "source": [
    "depth = flags.DATA.test.depth\n",
    "full_depth = flags.DATA.test.full_depth\n",
    "depth_stop = flags.MODEL.depth_stop"
   ]
  },
  {
   "cell_type": "code",
   "execution_count": 35,
   "metadata": {},
   "outputs": [],
   "source": [
    "def generate_by_sketch(sketch_path, sketchname='default'):\n",
    "    sketch = Image.open(sketch_path)\n",
    "\n",
    "    with torch.no_grad():\n",
    "        condition = sketch_encoder(sketch, device=device)\n",
    "        octree_out = ocnn.octree.init_octree(\n",
    "            depth=depth,\n",
    "            full_depth=full_depth,\n",
    "            batch_size=1,\n",
    "            device=device,\n",
    "        )\n",
    "        with torch.autocast('cuda', enabled=flags.SOLVER.use_amp):\n",
    "            octree_out, vq_code = model.generate(\n",
    "                octree=octree_out,\n",
    "                depth_low=full_depth,\n",
    "                depth_high=depth_stop,\n",
    "                vqvae=vqvae,\n",
    "                condition=condition,\n",
    "                cfg_scale=None\n",
    "            )\n",
    "\n",
    "    export_path = f'results-inference/{sketchname}'\n",
    "\n",
    "    index = 'output'\n",
    "\n",
    "    # Export octrees\n",
    "    for d in range(full_depth+1, depth_stop+1):\n",
    "        utils.export_octree(octree_out, d, os.path.join(\n",
    "            log_path ,export_path), index=f'octree_{d}')\n",
    "\n",
    "    # Decode the mesh\n",
    "    for d in range(depth_stop, depth):\n",
    "        split_zero_d = torch.zeros(\n",
    "            octree_out.nnum[d], device=octree_out.device).long()\n",
    "        octree_out.octree_split(split_zero_d, d)\n",
    "        octree_out.octree_grow(d + 1)\n",
    "    doctree_out = OctreeD(octree_out)\n",
    "    with torch.no_grad():\n",
    "        output = vqvae.decode_code(\n",
    "            vq_code, depth_stop, doctree_out,\n",
    "            copy.deepcopy(doctree_out), update_octree=True)\n",
    "\n",
    "    # extract the mesh\n",
    "    utils.create_mesh(\n",
    "        output['neural_mpu'],\n",
    "        os.path.join(log_path, export_path, f\"output.obj\"),\n",
    "        size=flags.SOLVER.resolution,\n",
    "        level=0.002, clean=True,\n",
    "        bbmin=-flags.SOLVER.sdf_scale,\n",
    "        bbmax=flags.SOLVER.sdf_scale,\n",
    "        mesh_scale=flags.DATA.test.points_scale,\n",
    "        save_sdf=flags.SOLVER.save_sdf)\n",
    "\n",
    "    # Save the sketch image\n",
    "    sketch.save(os.path.join(log_path, export_path, f\"input.png\"))"
   ]
  },
  {
   "cell_type": "code",
   "execution_count": null,
   "metadata": {},
   "outputs": [
    {
     "name": "stdout",
     "output_type": "stream",
     "text": [
      "Generating 1/49\n",
      "Done\n",
      "Generating 2/49\n",
      "Done\n",
      "Generating 3/49\n",
      "Done\n",
      "Generating 4/49\n",
      "Done\n",
      "Generating 5/49\n"
     ]
    },
    {
     "name": "stderr",
     "output_type": "stream",
     "text": [
      "100%|██████████| 64/64 [00:04<00:00, 15.24it/s]\n",
      "100%|██████████| 128/128 [00:08<00:00, 15.02it/s]\n",
      "100%|██████████| 128/128 [00:13<00:00,  9.19it/s]\n",
      "100%|██████████| 256/256 [00:28<00:00,  9.11it/s]\n",
      "100%|██████████| 1/1 [00:00<00:00, 83.92it/s]\n",
      "100%|██████████| 1/1 [00:00<00:00, 39.99it/s]\n",
      "100%|██████████| 1/1 [00:00<00:00, 12.84it/s]\n"
     ]
    },
    {
     "name": "stdout",
     "output_type": "stream",
     "text": [
      "Done\n",
      "Generating 6/49\n"
     ]
    },
    {
     "name": "stderr",
     "output_type": "stream",
     "text": [
      "100%|██████████| 64/64 [00:04<00:00, 15.38it/s]\n",
      "100%|██████████| 128/128 [00:08<00:00, 14.79it/s]\n",
      "100%|██████████| 128/128 [00:09<00:00, 14.21it/s]\n",
      "100%|██████████| 256/256 [00:23<00:00, 10.89it/s]\n",
      "100%|██████████| 1/1 [00:00<00:00, 68.04it/s]\n",
      "100%|██████████| 1/1 [00:00<00:00, 39.97it/s]\n",
      "100%|██████████| 1/1 [00:00<00:00, 12.80it/s]\n"
     ]
    },
    {
     "name": "stdout",
     "output_type": "stream",
     "text": [
      "Done\n",
      "Generating 7/49\n"
     ]
    },
    {
     "name": "stderr",
     "output_type": "stream",
     "text": [
      "100%|██████████| 64/64 [00:04<00:00, 15.38it/s]\n",
      "100%|██████████| 128/128 [00:08<00:00, 15.02it/s]\n",
      "100%|██████████| 128/128 [00:08<00:00, 14.35it/s]\n",
      "100%|██████████| 256/256 [00:23<00:00, 10.88it/s]\n",
      "100%|██████████| 1/1 [00:00<00:00, 96.43it/s]\n",
      "100%|██████████| 1/1 [00:00<00:00, 43.26it/s]\n",
      "100%|██████████| 1/1 [00:00<00:00, 13.48it/s]\n"
     ]
    },
    {
     "name": "stdout",
     "output_type": "stream",
     "text": [
      "Done\n",
      "Generating 8/49\n"
     ]
    },
    {
     "name": "stderr",
     "output_type": "stream",
     "text": [
      "100%|██████████| 64/64 [00:04<00:00, 15.44it/s]\n",
      "100%|██████████| 128/128 [00:08<00:00, 14.84it/s]\n",
      "100%|██████████| 128/128 [00:08<00:00, 14.24it/s]\n",
      "100%|██████████| 256/256 [00:24<00:00, 10.59it/s]\n",
      "100%|██████████| 1/1 [00:00<00:00, 81.59it/s]\n",
      "100%|██████████| 1/1 [00:00<00:00, 36.75it/s]\n",
      "100%|██████████| 1/1 [00:00<00:00, 12.39it/s]\n"
     ]
    },
    {
     "name": "stdout",
     "output_type": "stream",
     "text": [
      "Done\n",
      "Generating 9/49\n",
      "Done\n",
      "Generating 10/49\n"
     ]
    },
    {
     "name": "stderr",
     "output_type": "stream",
     "text": [
      "100%|██████████| 64/64 [00:04<00:00, 15.44it/s]\n",
      "100%|██████████| 128/128 [00:08<00:00, 14.84it/s]\n",
      "100%|██████████| 128/128 [00:08<00:00, 14.49it/s]\n",
      "100%|██████████| 256/256 [00:23<00:00, 10.95it/s]\n",
      "100%|██████████| 1/1 [00:00<00:00, 56.91it/s]\n",
      "100%|██████████| 1/1 [00:00<00:00, 42.37it/s]\n",
      "100%|██████████| 1/1 [00:00<00:00, 12.78it/s]\n"
     ]
    },
    {
     "name": "stdout",
     "output_type": "stream",
     "text": [
      "Done\n",
      "Generating 11/49\n"
     ]
    },
    {
     "name": "stderr",
     "output_type": "stream",
     "text": [
      "100%|██████████| 64/64 [00:04<00:00, 15.49it/s]\n",
      "100%|██████████| 128/128 [00:08<00:00, 14.81it/s]\n",
      "100%|██████████| 128/128 [00:09<00:00, 14.11it/s]\n",
      "100%|██████████| 256/256 [00:24<00:00, 10.55it/s]\n",
      "100%|██████████| 1/1 [00:00<00:00, 95.73it/s]\n",
      "100%|██████████| 1/1 [00:00<00:00, 37.99it/s]\n",
      "100%|██████████| 1/1 [00:00<00:00, 12.89it/s]\n"
     ]
    },
    {
     "name": "stdout",
     "output_type": "stream",
     "text": [
      "Done\n",
      "Generating 12/49\n"
     ]
    },
    {
     "name": "stderr",
     "output_type": "stream",
     "text": [
      "100%|██████████| 64/64 [00:04<00:00, 15.35it/s]\n",
      "100%|██████████| 128/128 [00:08<00:00, 15.04it/s]\n",
      "100%|██████████| 128/128 [00:08<00:00, 14.35it/s]\n",
      "100%|██████████| 256/256 [00:23<00:00, 10.73it/s]\n",
      "100%|██████████| 1/1 [00:00<00:00, 97.53it/s]\n",
      "100%|██████████| 1/1 [00:00<00:00, 42.96it/s]\n",
      "100%|██████████| 1/1 [00:00<00:00, 15.06it/s]\n"
     ]
    },
    {
     "name": "stdout",
     "output_type": "stream",
     "text": [
      "Done\n",
      "Generating 13/49\n"
     ]
    },
    {
     "name": "stderr",
     "output_type": "stream",
     "text": [
      "100%|██████████| 64/64 [00:04<00:00, 15.29it/s]\n",
      "100%|██████████| 128/128 [00:08<00:00, 14.62it/s]\n",
      "100%|██████████| 128/128 [00:09<00:00, 14.10it/s]\n",
      "100%|██████████| 256/256 [00:25<00:00,  9.87it/s]\n",
      "100%|██████████| 1/1 [00:00<00:00, 88.36it/s]\n",
      "100%|██████████| 1/1 [00:00<00:00, 38.81it/s]\n",
      "100%|██████████| 1/1 [00:00<00:00,  9.62it/s]\n"
     ]
    },
    {
     "name": "stdout",
     "output_type": "stream",
     "text": [
      "Done\n",
      "Generating 14/49\n",
      "Done\n",
      "Generating 15/49\n"
     ]
    },
    {
     "name": "stderr",
     "output_type": "stream",
     "text": [
      "100%|██████████| 64/64 [00:04<00:00, 15.23it/s]\n",
      "100%|██████████| 128/128 [00:08<00:00, 14.69it/s]\n",
      "100%|██████████| 128/128 [00:09<00:00, 13.04it/s]\n",
      " 42%|████▏     | 108/256 [00:15<00:21,  6.81it/s]\n"
     ]
    },
    {
     "name": "stdout",
     "output_type": "stream",
     "text": [
      "Done\n",
      "Generating 16/49\n"
     ]
    },
    {
     "name": "stderr",
     "output_type": "stream",
     "text": [
      "100%|██████████| 64/64 [00:04<00:00, 15.30it/s]\n",
      " 91%|█████████ | 116/128 [00:07<00:00, 14.79it/s]"
     ]
    }
   ],
   "source": [
    "sketch_paths = [f'/mnt/sdc/wangrh/workspace/OctAR-solver/logs/sketch/airplane_p1024_d8/results/images/{i}.png' for i in range(1, 50)]\n",
    "\n",
    "for i, sketch_path in enumerate(sketch_paths):\n",
    "    print(f\"Generating {i+1}/{len(sketch_paths)}\")\n",
    "    try:\n",
    "        generate_by_sketch(sketch_path, f\"sketch_{i+1}\")\n",
    "    except:\n",
    "        pass\n",
    "    print(\"Done\")"
   ]
  }
 ],
 "metadata": {
  "kernelspec": {
   "display_name": "torch2.3",
   "language": "python",
   "name": "python3"
  },
  "language_info": {
   "codemirror_mode": {
    "name": "ipython",
    "version": 3
   },
   "file_extension": ".py",
   "mimetype": "text/x-python",
   "name": "python",
   "nbconvert_exporter": "python",
   "pygments_lexer": "ipython3",
   "version": "3.9.18"
  }
 },
 "nbformat": 4,
 "nbformat_minor": 2
}
